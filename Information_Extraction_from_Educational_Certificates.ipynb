{
  "nbformat": 4,
  "nbformat_minor": 0,
  "metadata": {
    "colab": {
      "provenance": [],
      "mount_file_id": "1u5MvaqqQ8YXIv3olLW6SVt8ES5kxaQVX",
      "authorship_tag": "ABX9TyPV3+gb9S/evg9l3PftqWk8",
      "include_colab_link": true
    },
    "kernelspec": {
      "name": "python3",
      "display_name": "Python 3"
    },
    "language_info": {
      "name": "python"
    }
  },
  "cells": [
    {
      "cell_type": "markdown",
      "metadata": {
        "id": "view-in-github",
        "colab_type": "text"
      },
      "source": [
        "<a href=\"https://colab.research.google.com/github/VARUN-THIRUNAGAR/Information-Extraction/blob/main/Information_Extraction_from_Educational_Certificates.ipynb\" target=\"_parent\"><img src=\"https://colab.research.google.com/assets/colab-badge.svg\" alt=\"Open In Colab\"/></a>"
      ]
    },
    {
      "cell_type": "markdown",
      "source": [
        "## **Information Extraction From Educational Certifiecates**\n",
        "\n",
        "\n",
        "\n",
        "\n",
        "\n",
        "\n",
        "\n",
        "\n"
      ],
      "metadata": {
        "id": "VjPv74TH7t92"
      }
    },
    {
      "cell_type": "code",
      "execution_count": 1,
      "metadata": {
        "colab": {
          "base_uri": "https://localhost:8080/"
        },
        "id": "CAaQSF5XWBul",
        "outputId": "94d6e748-fa9d-4a33-ff88-92a02b7c8b8d"
      },
      "outputs": [
        {
          "output_type": "stream",
          "name": "stdout",
          "text": [
            "Collecting pytesseract\n",
            "  Downloading pytesseract-0.3.13-py3-none-any.whl.metadata (11 kB)\n",
            "Requirement already satisfied: packaging>=21.3 in /usr/local/lib/python3.11/dist-packages (from pytesseract) (24.2)\n",
            "Requirement already satisfied: Pillow>=8.0.0 in /usr/local/lib/python3.11/dist-packages (from pytesseract) (11.1.0)\n",
            "Downloading pytesseract-0.3.13-py3-none-any.whl (14 kB)\n",
            "Installing collected packages: pytesseract\n",
            "Successfully installed pytesseract-0.3.13\n",
            "Reading package lists... Done\n",
            "Building dependency tree... Done\n",
            "Reading state information... Done\n",
            "The following additional packages will be installed:\n",
            "  tesseract-ocr-eng tesseract-ocr-osd\n",
            "The following NEW packages will be installed:\n",
            "  tesseract-ocr tesseract-ocr-eng tesseract-ocr-osd\n",
            "0 upgraded, 3 newly installed, 0 to remove and 29 not upgraded.\n",
            "Need to get 4,816 kB of archives.\n",
            "After this operation, 15.6 MB of additional disk space will be used.\n",
            "Get:1 http://archive.ubuntu.com/ubuntu jammy/universe amd64 tesseract-ocr-eng all 1:4.00~git30-7274cfa-1.1 [1,591 kB]\n",
            "Get:2 http://archive.ubuntu.com/ubuntu jammy/universe amd64 tesseract-ocr-osd all 1:4.00~git30-7274cfa-1.1 [2,990 kB]\n",
            "Get:3 http://archive.ubuntu.com/ubuntu jammy/universe amd64 tesseract-ocr amd64 4.1.1-2.1build1 [236 kB]\n",
            "Fetched 4,816 kB in 1s (3,908 kB/s)\n",
            "debconf: unable to initialize frontend: Dialog\n",
            "debconf: (No usable dialog-like program is installed, so the dialog based frontend cannot be used. at /usr/share/perl5/Debconf/FrontEnd/Dialog.pm line 78, <> line 3.)\n",
            "debconf: falling back to frontend: Readline\n",
            "debconf: unable to initialize frontend: Readline\n",
            "debconf: (This frontend requires a controlling tty.)\n",
            "debconf: falling back to frontend: Teletype\n",
            "dpkg-preconfigure: unable to re-open stdin: \n",
            "Selecting previously unselected package tesseract-ocr-eng.\n",
            "(Reading database ... 124947 files and directories currently installed.)\n",
            "Preparing to unpack .../tesseract-ocr-eng_1%3a4.00~git30-7274cfa-1.1_all.deb ...\n",
            "Unpacking tesseract-ocr-eng (1:4.00~git30-7274cfa-1.1) ...\n",
            "Selecting previously unselected package tesseract-ocr-osd.\n",
            "Preparing to unpack .../tesseract-ocr-osd_1%3a4.00~git30-7274cfa-1.1_all.deb ...\n",
            "Unpacking tesseract-ocr-osd (1:4.00~git30-7274cfa-1.1) ...\n",
            "Selecting previously unselected package tesseract-ocr.\n",
            "Preparing to unpack .../tesseract-ocr_4.1.1-2.1build1_amd64.deb ...\n",
            "Unpacking tesseract-ocr (4.1.1-2.1build1) ...\n",
            "Setting up tesseract-ocr-eng (1:4.00~git30-7274cfa-1.1) ...\n",
            "Setting up tesseract-ocr-osd (1:4.00~git30-7274cfa-1.1) ...\n",
            "Setting up tesseract-ocr (4.1.1-2.1build1) ...\n",
            "Processing triggers for man-db (2.10.2-1) ...\n",
            "Requirement already satisfied: pillow in /usr/local/lib/python3.11/dist-packages (11.1.0)\n"
          ]
        }
      ],
      "source": [
        "!pip install pytesseract\n",
        "!sudo apt install tesseract-ocr\n",
        "!pip install pillow"
      ]
    },
    {
      "cell_type": "markdown",
      "source": [
        "# Extracting text from images using OCR"
      ],
      "metadata": {
        "id": "jOwizycG9ICJ"
      }
    },
    {
      "cell_type": "code",
      "source": [
        "# Import required libraries\n",
        "from PIL import Image\n",
        "import pytesseract\n",
        "import json\n",
        "import os\n",
        "\n",
        "# Set the path to the Tesseract executable\n",
        "pytesseract.pytesseract.tesseract_cmd = '/usr/bin/tesseract'\n",
        "\n",
        "# Function to extract text from bounding boxes and store in a text file\n",
        "def extract_text_and_save(image_id, image_path, json_path, output_folder):\n",
        "    # Load the image using Pillow\n",
        "    image = Image.open(image_path)\n",
        "\n",
        "    # Load JSON data\n",
        "    with open(json_path, 'r') as json_file:\n",
        "        data = json.load(json_file)\n",
        "\n",
        "    # Get the bounding boxes\n",
        "    bounding_boxes = data.get(image_id, {}).get('regions', [])\n",
        "\n",
        "    if not bounding_boxes:\n",
        "        print(f\"No bounding boxes found in the JSON file for {image_id}.\")\n",
        "        return\n",
        "\n",
        "    # Extract text from each bounding box\n",
        "    extracted_text = []\n",
        "    for i, box in enumerate(bounding_boxes, 1):\n",
        "        shape_attributes = box.get('shape_attributes', {})\n",
        "        x, y, width, height = (\n",
        "            shape_attributes.get('x', 0),\n",
        "            shape_attributes.get('y', 0),\n",
        "            shape_attributes.get('width', 0),\n",
        "            shape_attributes.get('height', 0)\n",
        "        )\n",
        "\n",
        "        # Crop the image to the bounding box\n",
        "        cropped_image = image.crop((x, y, x + width, y + height))\n",
        "\n",
        "        # Perform OCR on the cropped image\n",
        "        ocr_text = pytesseract.image_to_string(cropped_image)\n",
        "\n",
        "        # Append the OCR result for each bounding box with a bounding box ID\n",
        "        extracted_text.append(f\"Bounding Box {i} - {ocr_text.strip()}\")\n",
        "\n",
        "    # Save the extracted text to a text file\n",
        "    output_file = os.path.join(output_folder, f'{image_id[:-4]}.txt')\n",
        "    os.makedirs(os.path.dirname(output_file), exist_ok=True)\n",
        "    with open(output_file, 'w') as text_file:\n",
        "        text_file.write(\"\\n\\n\".join(extracted_text))\n",
        "        print(f\"Text extracted for {image_id} and saved to {output_file}\")\n",
        "\n",
        "# Specify the output folder\n",
        "output_folder = '/content/temp'\n",
        "\n",
        "# Example usage for 30 images\n",
        "for i in range(1, 31):\n",
        "    image_id = f'temp{i}.png'\n",
        "    image_path = f'/content/drive/MyDrive/data_set/train/images/temp{i}.png'\n",
        "    json_path = f'/content/drive/MyDrive/data_set/train/boxes/temp{i}.json'\n",
        "\n",
        "    # Call the function with the specified image, JSON, and output folder paths\n",
        "    extract_text_and_save(image_id, image_path, json_path, output_folder)\n"
      ],
      "metadata": {
        "id": "LBNP-5GWWVM7",
        "colab": {
          "base_uri": "https://localhost:8080/"
        },
        "outputId": "8cf94813-4c7e-4595-dc40-bf336ec8d215"
      },
      "execution_count": 4,
      "outputs": [
        {
          "output_type": "stream",
          "name": "stdout",
          "text": [
            "Text extracted for temp1.png and saved to /content/temp/temp1.txt\n",
            "Text extracted for temp2.png and saved to /content/temp/temp2.txt\n",
            "Text extracted for temp3.png and saved to /content/temp/temp3.txt\n",
            "Text extracted for temp4.png and saved to /content/temp/temp4.txt\n",
            "Text extracted for temp5.png and saved to /content/temp/temp5.txt\n",
            "Text extracted for temp6.png and saved to /content/temp/temp6.txt\n",
            "Text extracted for temp7.png and saved to /content/temp/temp7.txt\n",
            "Text extracted for temp8.png and saved to /content/temp/temp8.txt\n",
            "Text extracted for temp9.png and saved to /content/temp/temp9.txt\n",
            "Text extracted for temp10.png and saved to /content/temp/temp10.txt\n",
            "Text extracted for temp11.png and saved to /content/temp/temp11.txt\n",
            "Text extracted for temp12.png and saved to /content/temp/temp12.txt\n",
            "Text extracted for temp13.png and saved to /content/temp/temp13.txt\n",
            "Text extracted for temp14.png and saved to /content/temp/temp14.txt\n",
            "Text extracted for temp15.png and saved to /content/temp/temp15.txt\n",
            "Text extracted for temp16.png and saved to /content/temp/temp16.txt\n",
            "Text extracted for temp17.png and saved to /content/temp/temp17.txt\n",
            "Text extracted for temp18.png and saved to /content/temp/temp18.txt\n",
            "Text extracted for temp19.png and saved to /content/temp/temp19.txt\n",
            "Text extracted for temp20.png and saved to /content/temp/temp20.txt\n",
            "Text extracted for temp21.png and saved to /content/temp/temp21.txt\n",
            "Text extracted for temp22.png and saved to /content/temp/temp22.txt\n",
            "Text extracted for temp23.png and saved to /content/temp/temp23.txt\n",
            "Text extracted for temp24.png and saved to /content/temp/temp24.txt\n",
            "Text extracted for temp25.png and saved to /content/temp/temp25.txt\n",
            "Text extracted for temp26.png and saved to /content/temp/temp26.txt\n",
            "Text extracted for temp27.png and saved to /content/temp/temp27.txt\n",
            "Text extracted for temp28.png and saved to /content/temp/temp28.txt\n",
            "Text extracted for temp29.png and saved to /content/temp/temp29.txt\n",
            "Text extracted for temp30.png and saved to /content/temp/temp30.txt\n"
          ]
        }
      ]
    },
    {
      "cell_type": "code",
      "source": [
        "import os\n",
        "\n",
        "# Define the directory path containing all the text files\n",
        "directory_path = '/content/temp'  # Update with the actual directory path\n",
        "\n",
        "# Define the output folder path\n",
        "output_folder = '/content/output/'  # Update with the desired output folder path\n",
        "\n",
        "# Create the output folder if it doesn't exist\n",
        "os.makedirs(output_folder, exist_ok=True)\n",
        "\n",
        "# Loop through each file from temp1.txt to temp30.txt\n",
        "for i in range(1, 31):\n",
        "    input_file_path = os.path.join(directory_path, f'temp{i}.txt')\n",
        "\n",
        "    # Check if the input file exists\n",
        "    if os.path.exists(input_file_path):\n",
        "        # Read the text from the current file\n",
        "        with open(input_file_path, 'r') as file:\n",
        "            text_lines = file.readlines()\n",
        "\n",
        "        # Extract the text after the hyphen in each line and combine\n",
        "        extracted_text = ' '.join([line.split('-')[1].strip() for line in text_lines if '-' in line])\n",
        "\n",
        "        # Define the output file path\n",
        "        output_file_path = os.path.join(output_folder, f'output_temp{i}.txt')\n",
        "\n",
        "        # Save the combined text to the output file\n",
        "        with open(output_file_path, 'w') as file:\n",
        "            file.write(extracted_text)\n",
        "\n",
        "        print(f\"Combined text from {input_file_path} saved to: {output_file_path}\")\n",
        "    else:\n",
        "        print(f\"File {input_file_path} not found.\")\n"
      ],
      "metadata": {
        "id": "pGDN6Xk_TadY",
        "colab": {
          "base_uri": "https://localhost:8080/"
        },
        "outputId": "95cb9337-14e8-4c9a-ed1b-4c79347a4f00"
      },
      "execution_count": 5,
      "outputs": [
        {
          "output_type": "stream",
          "name": "stdout",
          "text": [
            "Combined text from /content/temp/temp1.txt saved to: /content/output/output_temp1.txt\n",
            "Combined text from /content/temp/temp2.txt saved to: /content/output/output_temp2.txt\n",
            "Combined text from /content/temp/temp3.txt saved to: /content/output/output_temp3.txt\n",
            "Combined text from /content/temp/temp4.txt saved to: /content/output/output_temp4.txt\n",
            "Combined text from /content/temp/temp5.txt saved to: /content/output/output_temp5.txt\n",
            "Combined text from /content/temp/temp6.txt saved to: /content/output/output_temp6.txt\n",
            "Combined text from /content/temp/temp7.txt saved to: /content/output/output_temp7.txt\n",
            "Combined text from /content/temp/temp8.txt saved to: /content/output/output_temp8.txt\n",
            "Combined text from /content/temp/temp9.txt saved to: /content/output/output_temp9.txt\n",
            "Combined text from /content/temp/temp10.txt saved to: /content/output/output_temp10.txt\n",
            "Combined text from /content/temp/temp11.txt saved to: /content/output/output_temp11.txt\n",
            "Combined text from /content/temp/temp12.txt saved to: /content/output/output_temp12.txt\n",
            "Combined text from /content/temp/temp13.txt saved to: /content/output/output_temp13.txt\n",
            "Combined text from /content/temp/temp14.txt saved to: /content/output/output_temp14.txt\n",
            "Combined text from /content/temp/temp15.txt saved to: /content/output/output_temp15.txt\n",
            "Combined text from /content/temp/temp16.txt saved to: /content/output/output_temp16.txt\n",
            "Combined text from /content/temp/temp17.txt saved to: /content/output/output_temp17.txt\n",
            "Combined text from /content/temp/temp18.txt saved to: /content/output/output_temp18.txt\n",
            "Combined text from /content/temp/temp19.txt saved to: /content/output/output_temp19.txt\n",
            "Combined text from /content/temp/temp20.txt saved to: /content/output/output_temp20.txt\n",
            "Combined text from /content/temp/temp21.txt saved to: /content/output/output_temp21.txt\n",
            "Combined text from /content/temp/temp22.txt saved to: /content/output/output_temp22.txt\n",
            "Combined text from /content/temp/temp23.txt saved to: /content/output/output_temp23.txt\n",
            "Combined text from /content/temp/temp24.txt saved to: /content/output/output_temp24.txt\n",
            "Combined text from /content/temp/temp25.txt saved to: /content/output/output_temp25.txt\n",
            "Combined text from /content/temp/temp26.txt saved to: /content/output/output_temp26.txt\n",
            "Combined text from /content/temp/temp27.txt saved to: /content/output/output_temp27.txt\n",
            "Combined text from /content/temp/temp28.txt saved to: /content/output/output_temp28.txt\n",
            "Combined text from /content/temp/temp29.txt saved to: /content/output/output_temp29.txt\n",
            "Combined text from /content/temp/temp30.txt saved to: /content/output/output_temp30.txt\n"
          ]
        }
      ]
    },
    {
      "cell_type": "code",
      "source": [
        "# Import required libraries\n",
        "from PIL import Image\n",
        "import pytesseract\n",
        "import json\n",
        "import os\n",
        "\n",
        "# Set the path to the Tesseract executable\n",
        "pytesseract.pytesseract.tesseract_cmd = '/usr/bin/tesseract'\n",
        "\n",
        "# Function to extract text from bounding boxes and store in a text file\n",
        "def extract_text_and_save(image_id, image_path, json_path, output_folder):\n",
        "    # Load the image using Pillow\n",
        "    image = Image.open(image_path)\n",
        "\n",
        "    # Load JSON data\n",
        "    with open(json_path, 'r') as json_file:\n",
        "        data = json.load(json_file)\n",
        "\n",
        "    # Get the bounding boxes\n",
        "    bounding_boxes = data.get(image_id, {}).get('regions', [])\n",
        "\n",
        "    if not bounding_boxes:\n",
        "        print(f\"No bounding boxes found in the JSON file for {image_id}.\")\n",
        "        return\n",
        "\n",
        "    # Extract text from each bounding box\n",
        "    extracted_text = []\n",
        "    for i, box in enumerate(bounding_boxes, 1):\n",
        "        shape_attributes = box.get('shape_attributes', {})\n",
        "        x, y, width, height = (\n",
        "            shape_attributes.get('x', 0),\n",
        "            shape_attributes.get('y', 0),\n",
        "            shape_attributes.get('width', 0),\n",
        "            shape_attributes.get('height', 0)\n",
        "        )\n",
        "\n",
        "        # Crop the image to the bounding box\n",
        "        cropped_image = image.crop((x, y, x + width, y + height))\n",
        "\n",
        "        # Perform OCR on the cropped image\n",
        "        ocr_text = pytesseract.image_to_string(cropped_image)\n",
        "\n",
        "        # Append the OCR result for each bounding box with a bounding box ID\n",
        "        extracted_text.append(f\"Bounding Box {i} - {ocr_text.strip()}\")\n",
        "\n",
        "    # Save the extracted text to a text file\n",
        "    output_file = os.path.join(output_folder, f'{image_id[:-4]}.txt')\n",
        "    with open(output_file, 'w') as text_file:\n",
        "        text_file.write(\"\\n\\n\".join(extracted_text))\n",
        "        print(f\"Text extracted for {image_id} and saved to {output_file}\")\n",
        "\n",
        "# Specify the output folder\n",
        "output_folder = '/content/temp'\n",
        "\n",
        "# Example usage for 30 images\n",
        "for i in range(31, 40):\n",
        "    image_id = f'temp{i}.png'\n",
        "    image_path = f'/content/drive/MyDrive/data_set/test/images/temp{i}.png'\n",
        "    json_path = f'/content/drive/MyDrive/data_set/test/boxes/temp{i}.json'\n",
        "\n",
        "    # Call the function with the specified image, JSON, and output folder paths\n",
        "    extract_text_and_save(image_id, image_path, json_path, output_folder)\n"
      ],
      "metadata": {
        "id": "on7dsOJLWaCJ",
        "colab": {
          "base_uri": "https://localhost:8080/"
        },
        "outputId": "d7cc78b2-8ca6-4cdf-d5ec-4933d7ea371b"
      },
      "execution_count": 6,
      "outputs": [
        {
          "output_type": "stream",
          "name": "stdout",
          "text": [
            "Text extracted for temp31.png and saved to /content/temp/temp31.txt\n",
            "Text extracted for temp32.png and saved to /content/temp/temp32.txt\n",
            "Text extracted for temp33.png and saved to /content/temp/temp33.txt\n",
            "Text extracted for temp34.png and saved to /content/temp/temp34.txt\n",
            "Text extracted for temp35.png and saved to /content/temp/temp35.txt\n",
            "Text extracted for temp36.png and saved to /content/temp/temp36.txt\n",
            "Text extracted for temp37.png and saved to /content/temp/temp37.txt\n",
            "Text extracted for temp38.png and saved to /content/temp/temp38.txt\n",
            "Text extracted for temp39.png and saved to /content/temp/temp39.txt\n"
          ]
        }
      ]
    },
    {
      "cell_type": "code",
      "source": [
        "import os\n",
        "\n",
        "# Define the directory path containing all the text files\n",
        "directory_path = '/content/temp'  # Update with the actual directory path\n",
        "\n",
        "# Define the output folder path\n",
        "output_folder = '/content/output/'  # Update with the desired output folder path\n",
        "\n",
        "# Create the output folder if it doesn't exist\n",
        "os.makedirs(output_folder, exist_ok=True)\n",
        "\n",
        "# Loop through each file from temp1.txt to temp30.txt\n",
        "for i in range(31, 40):\n",
        "    input_file_path = os.path.join(directory_path, f'temp{i}.txt')\n",
        "\n",
        "    # Check if the input file exists\n",
        "    if os.path.exists(input_file_path):\n",
        "        # Read the text from the current file\n",
        "        with open(input_file_path, 'r') as file:\n",
        "            text_lines = file.readlines()\n",
        "\n",
        "        # Extract the text after the hyphen in each line and combine\n",
        "        extracted_text = ' '.join([line.split('-')[1].strip() for line in text_lines if '-' in line])\n",
        "\n",
        "        # Define the output file path\n",
        "        output_file_path = os.path.join(output_folder, f'output_temp{i}.txt')\n",
        "\n",
        "        # Save the combined text to the output file\n",
        "        with open(output_file_path, 'w') as file:\n",
        "            file.write(extracted_text)\n",
        "\n",
        "        print(f\"Combined text from {input_file_path} saved to: {output_file_path}\")\n",
        "    else:\n",
        "        print(f\"File {input_file_path} not found.\")\n"
      ],
      "metadata": {
        "id": "PDubC_A7Wn4a",
        "colab": {
          "base_uri": "https://localhost:8080/"
        },
        "outputId": "5894bd68-45af-483a-9760-12eb24e1f28c"
      },
      "execution_count": 7,
      "outputs": [
        {
          "output_type": "stream",
          "name": "stdout",
          "text": [
            "Combined text from /content/temp/temp31.txt saved to: /content/output/output_temp31.txt\n",
            "Combined text from /content/temp/temp32.txt saved to: /content/output/output_temp32.txt\n",
            "Combined text from /content/temp/temp33.txt saved to: /content/output/output_temp33.txt\n",
            "Combined text from /content/temp/temp34.txt saved to: /content/output/output_temp34.txt\n",
            "Combined text from /content/temp/temp35.txt saved to: /content/output/output_temp35.txt\n",
            "Combined text from /content/temp/temp36.txt saved to: /content/output/output_temp36.txt\n",
            "Combined text from /content/temp/temp37.txt saved to: /content/output/output_temp37.txt\n",
            "Combined text from /content/temp/temp38.txt saved to: /content/output/output_temp38.txt\n",
            "Combined text from /content/temp/temp39.txt saved to: /content/output/output_temp39.txt\n"
          ]
        }
      ]
    },
    {
      "cell_type": "markdown",
      "source": [
        "#NER for Extracting key features"
      ],
      "metadata": {
        "id": "sewkBkIC8yay"
      }
    },
    {
      "cell_type": "code",
      "source": [
        "pip install spacy\n"
      ],
      "metadata": {
        "colab": {
          "base_uri": "https://localhost:8080/"
        },
        "id": "DIYHYxKmWom8",
        "outputId": "14e2d8d2-7714-4c7b-a340-abdc3cc2d98c"
      },
      "execution_count": 8,
      "outputs": [
        {
          "output_type": "stream",
          "name": "stdout",
          "text": [
            "Requirement already satisfied: spacy in /usr/local/lib/python3.11/dist-packages (3.7.5)\n",
            "Requirement already satisfied: spacy-legacy<3.1.0,>=3.0.11 in /usr/local/lib/python3.11/dist-packages (from spacy) (3.0.12)\n",
            "Requirement already satisfied: spacy-loggers<2.0.0,>=1.0.0 in /usr/local/lib/python3.11/dist-packages (from spacy) (1.0.5)\n",
            "Requirement already satisfied: murmurhash<1.1.0,>=0.28.0 in /usr/local/lib/python3.11/dist-packages (from spacy) (1.0.12)\n",
            "Requirement already satisfied: cymem<2.1.0,>=2.0.2 in /usr/local/lib/python3.11/dist-packages (from spacy) (2.0.11)\n",
            "Requirement already satisfied: preshed<3.1.0,>=3.0.2 in /usr/local/lib/python3.11/dist-packages (from spacy) (3.0.9)\n",
            "Requirement already satisfied: thinc<8.3.0,>=8.2.2 in /usr/local/lib/python3.11/dist-packages (from spacy) (8.2.5)\n",
            "Requirement already satisfied: wasabi<1.2.0,>=0.9.1 in /usr/local/lib/python3.11/dist-packages (from spacy) (1.1.3)\n",
            "Requirement already satisfied: srsly<3.0.0,>=2.4.3 in /usr/local/lib/python3.11/dist-packages (from spacy) (2.5.1)\n",
            "Requirement already satisfied: catalogue<2.1.0,>=2.0.6 in /usr/local/lib/python3.11/dist-packages (from spacy) (2.0.10)\n",
            "Requirement already satisfied: weasel<0.5.0,>=0.1.0 in /usr/local/lib/python3.11/dist-packages (from spacy) (0.4.1)\n",
            "Requirement already satisfied: typer<1.0.0,>=0.3.0 in /usr/local/lib/python3.11/dist-packages (from spacy) (0.15.2)\n",
            "Requirement already satisfied: tqdm<5.0.0,>=4.38.0 in /usr/local/lib/python3.11/dist-packages (from spacy) (4.67.1)\n",
            "Requirement already satisfied: requests<3.0.0,>=2.13.0 in /usr/local/lib/python3.11/dist-packages (from spacy) (2.32.3)\n",
            "Requirement already satisfied: pydantic!=1.8,!=1.8.1,<3.0.0,>=1.7.4 in /usr/local/lib/python3.11/dist-packages (from spacy) (2.10.6)\n",
            "Requirement already satisfied: jinja2 in /usr/local/lib/python3.11/dist-packages (from spacy) (3.1.5)\n",
            "Requirement already satisfied: setuptools in /usr/local/lib/python3.11/dist-packages (from spacy) (75.1.0)\n",
            "Requirement already satisfied: packaging>=20.0 in /usr/local/lib/python3.11/dist-packages (from spacy) (24.2)\n",
            "Requirement already satisfied: langcodes<4.0.0,>=3.2.0 in /usr/local/lib/python3.11/dist-packages (from spacy) (3.5.0)\n",
            "Requirement already satisfied: numpy>=1.19.0 in /usr/local/lib/python3.11/dist-packages (from spacy) (1.26.4)\n",
            "Requirement already satisfied: language-data>=1.2 in /usr/local/lib/python3.11/dist-packages (from langcodes<4.0.0,>=3.2.0->spacy) (1.3.0)\n",
            "Requirement already satisfied: annotated-types>=0.6.0 in /usr/local/lib/python3.11/dist-packages (from pydantic!=1.8,!=1.8.1,<3.0.0,>=1.7.4->spacy) (0.7.0)\n",
            "Requirement already satisfied: pydantic-core==2.27.2 in /usr/local/lib/python3.11/dist-packages (from pydantic!=1.8,!=1.8.1,<3.0.0,>=1.7.4->spacy) (2.27.2)\n",
            "Requirement already satisfied: typing-extensions>=4.12.2 in /usr/local/lib/python3.11/dist-packages (from pydantic!=1.8,!=1.8.1,<3.0.0,>=1.7.4->spacy) (4.12.2)\n",
            "Requirement already satisfied: charset-normalizer<4,>=2 in /usr/local/lib/python3.11/dist-packages (from requests<3.0.0,>=2.13.0->spacy) (3.4.1)\n",
            "Requirement already satisfied: idna<4,>=2.5 in /usr/local/lib/python3.11/dist-packages (from requests<3.0.0,>=2.13.0->spacy) (3.10)\n",
            "Requirement already satisfied: urllib3<3,>=1.21.1 in /usr/local/lib/python3.11/dist-packages (from requests<3.0.0,>=2.13.0->spacy) (2.3.0)\n",
            "Requirement already satisfied: certifi>=2017.4.17 in /usr/local/lib/python3.11/dist-packages (from requests<3.0.0,>=2.13.0->spacy) (2025.1.31)\n",
            "Requirement already satisfied: blis<0.8.0,>=0.7.8 in /usr/local/lib/python3.11/dist-packages (from thinc<8.3.0,>=8.2.2->spacy) (0.7.11)\n",
            "Requirement already satisfied: confection<1.0.0,>=0.0.1 in /usr/local/lib/python3.11/dist-packages (from thinc<8.3.0,>=8.2.2->spacy) (0.1.5)\n",
            "Requirement already satisfied: click>=8.0.0 in /usr/local/lib/python3.11/dist-packages (from typer<1.0.0,>=0.3.0->spacy) (8.1.8)\n",
            "Requirement already satisfied: shellingham>=1.3.0 in /usr/local/lib/python3.11/dist-packages (from typer<1.0.0,>=0.3.0->spacy) (1.5.4)\n",
            "Requirement already satisfied: rich>=10.11.0 in /usr/local/lib/python3.11/dist-packages (from typer<1.0.0,>=0.3.0->spacy) (13.9.4)\n",
            "Requirement already satisfied: cloudpathlib<1.0.0,>=0.7.0 in /usr/local/lib/python3.11/dist-packages (from weasel<0.5.0,>=0.1.0->spacy) (0.20.0)\n",
            "Requirement already satisfied: smart-open<8.0.0,>=5.2.1 in /usr/local/lib/python3.11/dist-packages (from weasel<0.5.0,>=0.1.0->spacy) (7.1.0)\n",
            "Requirement already satisfied: MarkupSafe>=2.0 in /usr/local/lib/python3.11/dist-packages (from jinja2->spacy) (3.0.2)\n",
            "Requirement already satisfied: marisa-trie>=1.1.0 in /usr/local/lib/python3.11/dist-packages (from language-data>=1.2->langcodes<4.0.0,>=3.2.0->spacy) (1.2.1)\n",
            "Requirement already satisfied: markdown-it-py>=2.2.0 in /usr/local/lib/python3.11/dist-packages (from rich>=10.11.0->typer<1.0.0,>=0.3.0->spacy) (3.0.0)\n",
            "Requirement already satisfied: pygments<3.0.0,>=2.13.0 in /usr/local/lib/python3.11/dist-packages (from rich>=10.11.0->typer<1.0.0,>=0.3.0->spacy) (2.18.0)\n",
            "Requirement already satisfied: wrapt in /usr/local/lib/python3.11/dist-packages (from smart-open<8.0.0,>=5.2.1->weasel<0.5.0,>=0.1.0->spacy) (1.17.2)\n",
            "Requirement already satisfied: mdurl~=0.1 in /usr/local/lib/python3.11/dist-packages (from markdown-it-py>=2.2.0->rich>=10.11.0->typer<1.0.0,>=0.3.0->spacy) (0.1.2)\n"
          ]
        }
      ]
    },
    {
      "cell_type": "markdown",
      "source": [
        "# Fine-tuning Spacy NER model\n",
        "  en_core_web_sm pre-trained model"
      ],
      "metadata": {
        "id": "q-pmfugo9THF"
      }
    },
    {
      "cell_type": "code",
      "source": [
        "import spacy\n",
        "import random\n",
        "from spacy.training.example import Example\n",
        "import json\n",
        "import os\n"
      ],
      "metadata": {
        "id": "uYSwVTkRWsva"
      },
      "execution_count": 9,
      "outputs": []
    },
    {
      "cell_type": "code",
      "source": [
        "# Load the pre-trained \"en_core_web_sm\" model\n",
        "nlp = spacy.load(\"en_core_web_sm\")"
      ],
      "metadata": {
        "id": "342V8EF6W3S-"
      },
      "execution_count": 10,
      "outputs": []
    },
    {
      "cell_type": "code",
      "source": [
        "ner = nlp.get_pipe(\"ner\")\n",
        "for label in [\"CERTIFIED THAT\", \"FATHER'S NAME\", \"MOTHER'S NAME\", \"ROLL NO.\", \"DATE OF BIRTH\"]:\n",
        "    ner.add_label(label)"
      ],
      "metadata": {
        "id": "bcJmSUJqW6vX"
      },
      "execution_count": 11,
      "outputs": []
    },
    {
      "cell_type": "code",
      "source": [
        "# Your training data directory\n",
        "training_data_dir = \"/content/drive/MyDrive/data_set/train/entities\""
      ],
      "metadata": {
        "id": "NMuOS1zXW9z4"
      },
      "execution_count": 12,
      "outputs": []
    },
    {
      "cell_type": "code",
      "source": [
        "# Training loop\n",
        "epochs = 60\n",
        "dropout_rate = 0.5\n",
        "\n",
        "for epoch in range(epochs):\n",
        "    all_losses = {}\n",
        "\n",
        "    # Loop through each training file in the directory\n",
        "    for filename in os.listdir(training_data_dir):\n",
        "        if filename.endswith(\".json\"):\n",
        "            file_path = os.path.join(training_data_dir, filename)\n",
        "\n",
        "            # Load JSON file\n",
        "            with open(file_path, \"r\", encoding=\"utf-8\") as file:\n",
        "                training_data = json.load(file)\n",
        "\n",
        "            # Shuffle the list of annotations in the training data\n",
        "            random.shuffle(training_data[\"annotations\"])\n",
        "            losses = {}\n",
        "\n",
        "            # Process each example in the file\n",
        "            for example in training_data[\"annotations\"]:\n",
        "                text = example[0]\n",
        "                entities = example[1][\"entities\"]\n",
        "\n",
        "                # Create a spaCy Doc object\n",
        "                doc = nlp.make_doc(text)\n",
        "\n",
        "                # Update the NER model with the example\n",
        "                example = Example.from_dict(doc, {\"entities\": entities})\n",
        "                nlp.update([example], drop=dropout_rate, losses=losses)\n",
        "\n",
        "            # Print loss for each file\n",
        "            avg_loss = losses.get(\"ner\", 0.0)\n",
        "\n",
        "\n",
        "            # Collect losses for all files\n",
        "            all_losses.setdefault(\"ner\", []).append(avg_loss)\n",
        "\n",
        "    # Print average loss for the epoch\n",
        "    avg_loss_all_files = sum(all_losses.get(\"ner\", [])) / len(all_losses.get(\"ner\", [])) if all_losses.get(\"ner\") else 0\n",
        "    print(f\"Epoch {epoch + 1}, Avg. Loss (All Files): {avg_loss_all_files:.2f}\")\n"
      ],
      "metadata": {
        "colab": {
          "base_uri": "https://localhost:8080/"
        },
        "id": "53MG7lG3XAN2",
        "outputId": "ca7242bd-550c-42cf-9afa-1f9ff5186004"
      },
      "execution_count": 13,
      "outputs": [
        {
          "output_type": "stream",
          "name": "stdout",
          "text": [
            "Epoch 1, Avg. Loss (All Files): 11.66\n",
            "Epoch 2, Avg. Loss (All Files): 8.16\n",
            "Epoch 3, Avg. Loss (All Files): 10.14\n",
            "Epoch 4, Avg. Loss (All Files): 13.50\n",
            "Epoch 5, Avg. Loss (All Files): 16.03\n",
            "Epoch 6, Avg. Loss (All Files): 5.08\n",
            "Epoch 7, Avg. Loss (All Files): 4.42\n",
            "Epoch 8, Avg. Loss (All Files): 21.74\n",
            "Epoch 9, Avg. Loss (All Files): 26.06\n",
            "Epoch 10, Avg. Loss (All Files): 6.03\n",
            "Epoch 11, Avg. Loss (All Files): 6.43\n",
            "Epoch 12, Avg. Loss (All Files): 5.15\n",
            "Epoch 13, Avg. Loss (All Files): 4.73\n",
            "Epoch 14, Avg. Loss (All Files): 3.79\n",
            "Epoch 15, Avg. Loss (All Files): 3.90\n",
            "Epoch 16, Avg. Loss (All Files): 3.00\n",
            "Epoch 17, Avg. Loss (All Files): 3.00\n",
            "Epoch 18, Avg. Loss (All Files): 2.87\n",
            "Epoch 19, Avg. Loss (All Files): 3.11\n",
            "Epoch 20, Avg. Loss (All Files): 2.78\n",
            "Epoch 21, Avg. Loss (All Files): 2.42\n",
            "Epoch 22, Avg. Loss (All Files): 2.11\n",
            "Epoch 23, Avg. Loss (All Files): 1.65\n",
            "Epoch 24, Avg. Loss (All Files): 1.63\n",
            "Epoch 25, Avg. Loss (All Files): 1.86\n",
            "Epoch 26, Avg. Loss (All Files): 1.26\n",
            "Epoch 27, Avg. Loss (All Files): 1.23\n",
            "Epoch 28, Avg. Loss (All Files): 1.33\n",
            "Epoch 29, Avg. Loss (All Files): 1.42\n",
            "Epoch 30, Avg. Loss (All Files): 0.73\n",
            "Epoch 31, Avg. Loss (All Files): 1.03\n",
            "Epoch 32, Avg. Loss (All Files): 1.10\n",
            "Epoch 33, Avg. Loss (All Files): 0.66\n",
            "Epoch 34, Avg. Loss (All Files): 0.89\n",
            "Epoch 35, Avg. Loss (All Files): 0.87\n",
            "Epoch 36, Avg. Loss (All Files): 1.04\n",
            "Epoch 37, Avg. Loss (All Files): 0.48\n",
            "Epoch 38, Avg. Loss (All Files): 0.43\n",
            "Epoch 39, Avg. Loss (All Files): 0.76\n",
            "Epoch 40, Avg. Loss (All Files): 0.55\n",
            "Epoch 41, Avg. Loss (All Files): 0.13\n",
            "Epoch 42, Avg. Loss (All Files): 0.38\n",
            "Epoch 43, Avg. Loss (All Files): 0.22\n",
            "Epoch 44, Avg. Loss (All Files): 0.53\n",
            "Epoch 45, Avg. Loss (All Files): 0.36\n",
            "Epoch 46, Avg. Loss (All Files): 0.36\n",
            "Epoch 47, Avg. Loss (All Files): 0.53\n",
            "Epoch 48, Avg. Loss (All Files): 0.52\n",
            "Epoch 49, Avg. Loss (All Files): 0.12\n",
            "Epoch 50, Avg. Loss (All Files): 0.59\n",
            "Epoch 51, Avg. Loss (All Files): 0.29\n",
            "Epoch 52, Avg. Loss (All Files): 0.56\n",
            "Epoch 53, Avg. Loss (All Files): 0.72\n",
            "Epoch 54, Avg. Loss (All Files): 0.26\n",
            "Epoch 55, Avg. Loss (All Files): 0.36\n",
            "Epoch 56, Avg. Loss (All Files): 0.24\n",
            "Epoch 57, Avg. Loss (All Files): 0.21\n",
            "Epoch 58, Avg. Loss (All Files): 0.09\n",
            "Epoch 59, Avg. Loss (All Files): 0.27\n",
            "Epoch 60, Avg. Loss (All Files): 0.52\n"
          ]
        }
      ]
    },
    {
      "cell_type": "code",
      "source": [
        "# Save the fine-tuned model\n",
        "nlp.to_disk(\"/content/drive/MyDrive/model_sm\")"
      ],
      "metadata": {
        "id": "uWkuIcNvXElz"
      },
      "execution_count": 14,
      "outputs": []
    },
    {
      "cell_type": "code",
      "source": [
        "import spacy\n",
        "import os\n",
        "import json\n",
        "\n",
        "# Load your fine-tuned spaCy NER model\n",
        "nlp = spacy.load(\"/content/drive/MyDrive/model_sm\")  # Replace with the path where you saved your model\n",
        "\n",
        "# Directory containing your text files\n",
        "text_files_dir = \"/content/drive/MyDrive/data_set/test/text\"\n",
        "\n",
        "# Loop through each text file in the directory\n",
        "for filename in os.listdir(text_files_dir):\n",
        "    if filename.endswith(\".txt\"):\n",
        "        file_path = os.path.join(text_files_dir, filename)\n",
        "\n",
        "        # Read the contents of the text file\n",
        "        with open(file_path, \"r\", encoding=\"utf-8\") as file:\n",
        "            test_text = file.read()\n",
        "\n",
        "        # Process the test text with the NER model\n",
        "        doc = nlp(test_text)\n",
        "\n",
        "        # Extract entities from the processed text\n",
        "        entities = [{\"start\": ent.start_char, \"end\": ent.end_char, \"label\": ent.label_, \"text\": ent.text} for ent in doc.ents]\n",
        "\n",
        "        # Print the extracted entities with text\n",
        "        print(f\"\\nFile: {filename}\")\n",
        "        print(\"Extracted Entities:\")\n",
        "        for entity in entities:\n",
        "            print(f\"Label: {entity['label']}, Text: {entity['text']}, Start: {entity['start']}, End: {entity['end']}\")\n"
      ],
      "metadata": {
        "colab": {
          "base_uri": "https://localhost:8080/"
        },
        "id": "m3e5X73IXIqW",
        "outputId": "1d45be6c-acfd-42e6-d3c2-b44fec75b01f"
      },
      "execution_count": 15,
      "outputs": [
        {
          "output_type": "stream",
          "name": "stdout",
          "text": [
            "\n",
            "File: temp31.txt\n",
            "Extracted Entities:\n",
            "Label: CERTIFIED THAT, Text: EMMADI GANESH REDDY, Start: 15, End: 34\n",
            "Label: FATHER'S NAME, Text: EMMADI GOPAL REDDY, Start: 49, End: 67\n",
            "Label: MOTHER'S NAME, Text: EMMADI JYOTHI, Start: 82, End: 95\n",
            "Label: ROLL NO., Text: 1818111414, Start: 105, End: 115\n",
            "Label: DATE OF BIRTH, Text: 24/07/2001, Start: 130, End: 140\n",
            "\n",
            "File: temp32.txt\n",
            "Extracted Entities:\n",
            "Label: CERTIFIED THAT, Text: AKULA SHIVA, Start: 15, End: 26\n",
            "Label: FATHER'S NAME, Text: KISHTAIAH MOTHER, Start: 41, End: 57\n",
            "Label: FATHER'S NAME, Text: VASANTHA  , Start: 65, End: 75\n",
            "Label: ROLL NO., Text: 1813109222, Start: 75, End: 85\n",
            "Label: DATE OF BIRTH, Text: 26/11/2002, Start: 99, End: 109\n",
            "\n",
            "File: temp33.txt\n",
            "Extracted Entities:\n",
            "Label: CERTIFIED THAT, Text: CERTIFI ANTHIREDDYGARI SIDDARTHA REDDY, Start: 0, End: 38\n",
            "Label: FATHER'S NAME, Text: ANTHIREDDYGARI RAM REDDY, Start: 53, End: 77\n",
            "Label: MOTHER'S NAME, Text: ANTHIREDDYGARI SARALA, Start: 92, End: 113\n",
            "Label: ROLL NO., Text: 4821121739, Start: 123, End: 133\n",
            "Label: DATE OF BIRTH, Text: 14/02/2003, Start: 148, End: 158\n",
            "\n",
            "File: temp34.txt\n",
            "Extracted Entities:\n",
            "Label: CERTIFIED THAT, Text: MALVATHKAR AKASH, Start: 15, End: 31\n",
            "Label: FATHER'S NAME, Text: MALVATHKAR SHANKAR, Start: 46, End: 64\n",
            "Label: MOTHER'S NAME, Text: MALVATHKAR VANI, Start: 80, End: 95\n",
            "Label: ROLL NO., Text: 1805100197, Start: 105, End: 115\n",
            "Label: DATE OF BIRTH, Text: 10/01/2002, Start: 131, End: 141\n",
            "\n",
            "File: temp39.txt\n",
            "Extracted Entities:\n",
            "Label: FATHER'S NAME, Text: VADDAJI ROHITH, Start: 16, End: 30\n",
            "Label: FATHER'S NAME, Text: VADDAJI RAJESHWAR, Start: 45, End: 62\n",
            "Label: MOTHER'S NAME, Text: VADDAJI SAROJA, Start: 77, End: 91\n",
            "Label: ROLL NO., Text: 1805125564, Start: 101, End: 111\n",
            "Label: DATE OF BIRTH, Text: 18/01/2001, Start: 127, End: 137\n",
            "\n",
            "File: temp35.txt\n",
            "Extracted Entities:\n",
            "Label: CERTIFIED THAT, Text: VODDAJI AVINASH, Start: 15, End: 30\n",
            "Label: FATHER'S NAME, Text: VODDAJI KISHAN, Start: 45, End: 59\n",
            "Label: MOTHER'S NAME, Text: VODDAJI JALAJA., Start: 75, End: 90\n",
            "Label: ROLL NO., Text: 1629140440, Start: 100, End: 110\n",
            "Label: DATE OF BIRTH, Text: 29/05/2000, Start: 125, End: 135\n",
            "\n",
            "File: temp36.txt\n",
            "Extracted Entities:\n",
            "Label: CERTIFIED THAT, Text: BODIGAM GAURAV, Start: 15, End: 29\n",
            "Label: FATHER'S NAME, Text: BODIGAM GANGA SHEKHAR, Start: 44, End: 65\n",
            "Label: MOTHER'S NAME, Text: BODIGAM NIRMALA, Start: 80, End: 95\n",
            "Label: ROLL NO., Text: 1804102104, Start: 105, End: 115\n",
            "Label: DATE OF BIRTH, Text: 24/10/2002, Start: 130, End: 140\n",
            "\n",
            "File: temp37.txt\n",
            "Extracted Entities:\n",
            "Label: CERTIFIED THAT, Text: KATUKU ADITHYA, Start: 15, End: 29\n",
            "Label: FATHER'S NAME, Text: KATUKU SARAIAH, Start: 44, End: 58\n",
            "Label: MOTHER'S NAME, Text: KATUKU SATHYAVATHT, Start: 73, End: 91\n",
            "Label: ROLL NO., Text: 1808103923, Start: 101, End: 111\n",
            "Label: DATE OF BIRTH, Text: 23/10/2002, Start: 126, End: 136\n",
            "\n",
            "File: temp38.txt\n",
            "Extracted Entities:\n",
            "Label: CERTIFIED THAT, Text: YENUGU ARUN REDDY, Start: 15, End: 32\n",
            "Label: FATHER'S NAME, Text: YENUGU LAKPATHI REDDY., Start: 47, End: 69\n",
            "Label: MOTHER'S NAME, Text: YENUGU LAXMI, Start: 85, End: 97\n",
            "Label: ROLL NO., Text: 2105123069, Start: 107, End: 117\n",
            "Label: DATE OF BIRTH, Text: 07/09/2004, Start: 132, End: 142\n"
          ]
        }
      ]
    },
    {
      "cell_type": "code",
      "source": [
        "import spacy\n",
        "import json\n",
        "import os\n",
        "from sklearn.metrics import precision_score, recall_score, f1_score\n",
        "\n",
        "# Load your fine-tuned spaCy NER model\n",
        "nlp = spacy.load(\"/content/drive/MyDrive/model_sm\")  # Replace with the path where you saved your model\n",
        "\n",
        "# Specify the directory containing your evaluation data files\n",
        "evaluation_data_dir = \"/content/drive/MyDrive/data_set/test/entities\"\n",
        "\n",
        "# Initialize lists to store metrics for each file\n",
        "precision_scores = []\n",
        "recall_scores = []\n",
        "f1_scores = []\n",
        "\n",
        "# Loop through each evaluation data file in the directory\n",
        "for filename in os.listdir(evaluation_data_dir):\n",
        "    if filename.endswith(\".json\"):\n",
        "        file_path = os.path.join(evaluation_data_dir, filename)\n",
        "\n",
        "        # Load the evaluation data\n",
        "        with open(file_path, \"r\", encoding=\"utf-8\") as file:\n",
        "            evaluation_data = json.load(file)\n",
        "\n",
        "        # Initialize lists to store predicted and expected entities\n",
        "        predicted_entities_all_files = []\n",
        "        expected_entities_all_files = []\n",
        "\n",
        "        # Process each example in the evaluation data\n",
        "        for example in evaluation_data[\"annotations\"]:\n",
        "            text = example[0]\n",
        "            expected_entities = example[1][\"entities\"]\n",
        "\n",
        "            # Process the text with the NER model\n",
        "            doc = nlp(text)\n",
        "            predicted_entities = [{\"start\": ent.start_char, \"end\": ent.end_char, \"label\": ent.label_} for ent in doc.ents]\n",
        "\n",
        "            # Create a set of unique expected entities\n",
        "            unique_expected_entities = set((ent[0], ent[1], ent[2]) for ent in expected_entities)\n",
        "\n",
        "            # Create a dictionary to store the most accurate predicted entity for each expected entity\n",
        "            entity_to_prediction = {}\n",
        "\n",
        "            # Update the dictionary with the most accurate prediction for each expected entity\n",
        "            for predicted_entity in predicted_entities:\n",
        "                key = (predicted_entity[\"start\"], predicted_entity[\"end\"], predicted_entity[\"label\"])\n",
        "                if key not in entity_to_prediction or (predicted_entity[\"start\"] != -1 and entity_to_prediction[key][\"start\"] == -1):\n",
        "                    entity_to_prediction[key] = predicted_entity\n",
        "\n",
        "            # Check if each expected entity has a corresponding predicted entity\n",
        "            for expected_entity in unique_expected_entities:\n",
        "                if expected_entity not in entity_to_prediction:\n",
        "                    # If missing, add a placeholder entry\n",
        "                    entity_to_prediction[expected_entity] = {\"start\": -1, \"end\": -1, \"label\": \"NOT_PREDICTED\"}\n",
        "\n",
        "            # Append predicted and expected entities to the lists\n",
        "            predicted_entities_all_files.extend(list(entity_to_prediction.values()))\n",
        "            expected_entities_all_files.extend(expected_entities)\n",
        "\n",
        "        # Flatten the lists of entities for sklearn metrics\n",
        "        flat_predicted_entities = [ent[\"label\"] for ent in predicted_entities_all_files if ent[\"label\"] != \"NOT_PREDICTED\"]\n",
        "        flat_expected_entities = [ent[2] for ent in expected_entities_all_files]\n",
        "\n",
        "        # Check if both lists have the same length, pad if necessary\n",
        "        if len(flat_predicted_entities) < len(flat_expected_entities):\n",
        "            flat_predicted_entities += [\"NOT_PREDICTED\"] * (len(flat_expected_entities) - len(flat_predicted_entities))\n",
        "        elif len(flat_predicted_entities) > len(flat_expected_entities):\n",
        "            flat_expected_entities += [\"NOT_PREDICTED\"] * (len(flat_predicted_entities) - len(flat_expected_entities))\n",
        "\n",
        "        # Calculate precision, recall, and F1 score for the current file\n",
        "        precision = precision_score(\n",
        "            flat_expected_entities,\n",
        "            flat_predicted_entities,\n",
        "            average=\"weighted\",\n",
        "            zero_division=1\n",
        "        )\n",
        "        recall = recall_score(flat_expected_entities, flat_predicted_entities, average=\"weighted\")\n",
        "        f1 = f1_score(flat_expected_entities, flat_predicted_entities, average=\"weighted\")\n",
        "\n",
        "        # Print or store the metrics for the current file\n",
        "\n",
        "\n",
        "        # Append metrics to the lists\n",
        "        precision_scores.append(precision)\n",
        "        recall_scores.append(recall)\n",
        "        f1_scores.append(f1)\n",
        "\n",
        "# Calculate and print average metrics across all files\n",
        "avg_precision = sum(precision_scores) / len(precision_scores) if precision_scores else 0\n",
        "avg_recall = sum(recall_scores) / len(recall_scores) if recall_scores else 0\n",
        "avg_f1 = sum(f1_scores) / len(f1_scores) if f1_scores else 0\n",
        "\n",
        "print(\"\\nAverage Metrics Across All Files:\")\n",
        "print(f\"Average Precision: {avg_precision:.4f}, Average Recall: {avg_recall:.4f}, Average F1 Score: {avg_f1:.4f}\")\n"
      ],
      "metadata": {
        "colab": {
          "base_uri": "https://localhost:8080/"
        },
        "id": "Yca2zO-3XMGX",
        "outputId": "1d5d1d38-4a95-4dc1-f60a-2eeecf13f476"
      },
      "execution_count": 16,
      "outputs": [
        {
          "output_type": "stream",
          "name": "stdout",
          "text": [
            "\n",
            "Average Metrics Across All Files:\n",
            "Average Precision: 0.9778, Average Recall: 0.9556, Average F1 Score: 0.9407\n"
          ]
        }
      ]
    },
    {
      "cell_type": "code",
      "source": [
        "import matplotlib.pyplot as plt\n",
        "import seaborn as sns\n",
        "\n",
        "# Create a bar chart for precision, recall, and F1 score\n",
        "metrics = ['Precision', 'Recall', 'F1 Score']\n",
        "values = [avg_precision, avg_recall, avg_f1]\n",
        "\n",
        "plt.figure(figsize=(10, 6))\n",
        "sns.barplot(x=metrics, y=values, palette='viridis')\n",
        "plt.title('Average Evaluation Metrics Across All Files')\n",
        "plt.ylim(0, 1)  # Set y-axis limit to be between 0 and 1 for precision, recall, and F1 score\n",
        "plt.show()\n"
      ],
      "metadata": {
        "colab": {
          "base_uri": "https://localhost:8080/",
          "height": 652
        },
        "id": "8keVSn0fc89D",
        "outputId": "58bfdda5-1509-4a12-e68f-41c85e4e8853"
      },
      "execution_count": 17,
      "outputs": [
        {
          "output_type": "stream",
          "name": "stderr",
          "text": [
            "<ipython-input-17-c9f55a6ed7f2>:9: FutureWarning: \n",
            "\n",
            "Passing `palette` without assigning `hue` is deprecated and will be removed in v0.14.0. Assign the `x` variable to `hue` and set `legend=False` for the same effect.\n",
            "\n",
            "  sns.barplot(x=metrics, y=values, palette='viridis')\n"
          ]
        },
        {
          "output_type": "display_data",
          "data": {
            "text/plain": [
              "<Figure size 1000x600 with 1 Axes>"
            ],
            "image/png": "[encoded data removed]"
          },
          "metadata": {}
        }
      ]
    },
    {
      "cell_type": "code",
      "source": [],
      "metadata": {
        "id": "mKwO3543FwYh"
      },
      "execution_count": null,
      "outputs": []
    },
    {
      "cell_type": "code",
      "source": [],
      "metadata": {
        "id": "epCOszns41KY"
      },
      "execution_count": null,
      "outputs": []
    },
    {
      "cell_type": "markdown",
      "source": [
        "#Fine-tuning en_core_web_md pre-trained model"
      ],
      "metadata": {
        "id": "ya4e5qOQ98WV"
      }
    },
    {
      "cell_type": "code",
      "source": [
        "!pip install spacy\n",
        "!python -m spacy download en_core_web_md\n"
      ],
      "metadata": {
        "colab": {
          "base_uri": "https://localhost:8080/"
        },
        "id": "d2Asf9DtzBs6",
        "outputId": "2a718e12-2dc4-4ac0-fe46-19c7cb2d0957"
      },
      "execution_count": 18,
      "outputs": [
        {
          "output_type": "stream",
          "name": "stdout",
          "text": [
            "Requirement already satisfied: spacy in /usr/local/lib/python3.11/dist-packages (3.7.5)\n",
            "Requirement already satisfied: spacy-legacy<3.1.0,>=3.0.11 in /usr/local/lib/python3.11/dist-packages (from spacy) (3.0.12)\n",
            "Requirement already satisfied: spacy-loggers<2.0.0,>=1.0.0 in /usr/local/lib/python3.11/dist-packages (from spacy) (1.0.5)\n",
            "Requirement already satisfied: murmurhash<1.1.0,>=0.28.0 in /usr/local/lib/python3.11/dist-packages (from spacy) (1.0.12)\n",
            "Requirement already satisfied: cymem<2.1.0,>=2.0.2 in /usr/local/lib/python3.11/dist-packages (from spacy) (2.0.11)\n",
            "Requirement already satisfied: preshed<3.1.0,>=3.0.2 in /usr/local/lib/python3.11/dist-packages (from spacy) (3.0.9)\n",
            "Requirement already satisfied: thinc<8.3.0,>=8.2.2 in /usr/local/lib/python3.11/dist-packages (from spacy) (8.2.5)\n",
            "Requirement already satisfied: wasabi<1.2.0,>=0.9.1 in /usr/local/lib/python3.11/dist-packages (from spacy) (1.1.3)\n",
            "Requirement already satisfied: srsly<3.0.0,>=2.4.3 in /usr/local/lib/python3.11/dist-packages (from spacy) (2.5.1)\n",
            "Requirement already satisfied: catalogue<2.1.0,>=2.0.6 in /usr/local/lib/python3.11/dist-packages (from spacy) (2.0.10)\n",
            "Requirement already satisfied: weasel<0.5.0,>=0.1.0 in /usr/local/lib/python3.11/dist-packages (from spacy) (0.4.1)\n",
            "Requirement already satisfied: typer<1.0.0,>=0.3.0 in /usr/local/lib/python3.11/dist-packages (from spacy) (0.15.2)\n",
            "Requirement already satisfied: tqdm<5.0.0,>=4.38.0 in /usr/local/lib/python3.11/dist-packages (from spacy) (4.67.1)\n",
            "Requirement already satisfied: requests<3.0.0,>=2.13.0 in /usr/local/lib/python3.11/dist-packages (from spacy) (2.32.3)\n",
            "Requirement already satisfied: pydantic!=1.8,!=1.8.1,<3.0.0,>=1.7.4 in /usr/local/lib/python3.11/dist-packages (from spacy) (2.10.6)\n",
            "Requirement already satisfied: jinja2 in /usr/local/lib/python3.11/dist-packages (from spacy) (3.1.5)\n",
            "Requirement already satisfied: setuptools in /usr/local/lib/python3.11/dist-packages (from spacy) (75.1.0)\n",
            "Requirement already satisfied: packaging>=20.0 in /usr/local/lib/python3.11/dist-packages (from spacy) (24.2)\n",
            "Requirement already satisfied: langcodes<4.0.0,>=3.2.0 in /usr/local/lib/python3.11/dist-packages (from spacy) (3.5.0)\n",
            "Requirement already satisfied: numpy>=1.19.0 in /usr/local/lib/python3.11/dist-packages (from spacy) (1.26.4)\n",
            "Requirement already satisfied: language-data>=1.2 in /usr/local/lib/python3.11/dist-packages (from langcodes<4.0.0,>=3.2.0->spacy) (1.3.0)\n",
            "Requirement already satisfied: annotated-types>=0.6.0 in /usr/local/lib/python3.11/dist-packages (from pydantic!=1.8,!=1.8.1,<3.0.0,>=1.7.4->spacy) (0.7.0)\n",
            "Requirement already satisfied: pydantic-core==2.27.2 in /usr/local/lib/python3.11/dist-packages (from pydantic!=1.8,!=1.8.1,<3.0.0,>=1.7.4->spacy) (2.27.2)\n",
            "Requirement already satisfied: typing-extensions>=4.12.2 in /usr/local/lib/python3.11/dist-packages (from pydantic!=1.8,!=1.8.1,<3.0.0,>=1.7.4->spacy) (4.12.2)\n",
            "Requirement already satisfied: charset-normalizer<4,>=2 in /usr/local/lib/python3.11/dist-packages (from requests<3.0.0,>=2.13.0->spacy) (3.4.1)\n",
            "Requirement already satisfied: idna<4,>=2.5 in /usr/local/lib/python3.11/dist-packages (from requests<3.0.0,>=2.13.0->spacy) (3.10)\n",
            "Requirement already satisfied: urllib3<3,>=1.21.1 in /usr/local/lib/python3.11/dist-packages (from requests<3.0.0,>=2.13.0->spacy) (2.3.0)\n",
            "Requirement already satisfied: certifi>=2017.4.17 in /usr/local/lib/python3.11/dist-packages (from requests<3.0.0,>=2.13.0->spacy) (2025.1.31)\n",
            "Requirement already satisfied: blis<0.8.0,>=0.7.8 in /usr/local/lib/python3.11/dist-packages (from thinc<8.3.0,>=8.2.2->spacy) (0.7.11)\n",
            "Requirement already satisfied: confection<1.0.0,>=0.0.1 in /usr/local/lib/python3.11/dist-packages (from thinc<8.3.0,>=8.2.2->spacy) (0.1.5)\n",
            "Requirement already satisfied: click>=8.0.0 in /usr/local/lib/python3.11/dist-packages (from typer<1.0.0,>=0.3.0->spacy) (8.1.8)\n",
            "Requirement already satisfied: shellingham>=1.3.0 in /usr/local/lib/python3.11/dist-packages (from typer<1.0.0,>=0.3.0->spacy) (1.5.4)\n",
            "Requirement already satisfied: rich>=10.11.0 in /usr/local/lib/python3.11/dist-packages (from typer<1.0.0,>=0.3.0->spacy) (13.9.4)\n",
            "Requirement already satisfied: cloudpathlib<1.0.0,>=0.7.0 in /usr/local/lib/python3.11/dist-packages (from weasel<0.5.0,>=0.1.0->spacy) (0.20.0)\n",
            "Requirement already satisfied: smart-open<8.0.0,>=5.2.1 in /usr/local/lib/python3.11/dist-packages (from weasel<0.5.0,>=0.1.0->spacy) (7.1.0)\n",
            "Requirement already satisfied: MarkupSafe>=2.0 in /usr/local/lib/python3.11/dist-packages (from jinja2->spacy) (3.0.2)\n",
            "Requirement already satisfied: marisa-trie>=1.1.0 in /usr/local/lib/python3.11/dist-packages (from language-data>=1.2->langcodes<4.0.0,>=3.2.0->spacy) (1.2.1)\n",
            "Requirement already satisfied: markdown-it-py>=2.2.0 in /usr/local/lib/python3.11/dist-packages (from rich>=10.11.0->typer<1.0.0,>=0.3.0->spacy) (3.0.0)\n",
            "Requirement already satisfied: pygments<3.0.0,>=2.13.0 in /usr/local/lib/python3.11/dist-packages (from rich>=10.11.0->typer<1.0.0,>=0.3.0->spacy) (2.18.0)\n",
            "Requirement already satisfied: wrapt in /usr/local/lib/python3.11/dist-packages (from smart-open<8.0.0,>=5.2.1->weasel<0.5.0,>=0.1.0->spacy) (1.17.2)\n",
            "Requirement already satisfied: mdurl~=0.1 in /usr/local/lib/python3.11/dist-packages (from markdown-it-py>=2.2.0->rich>=10.11.0->typer<1.0.0,>=0.3.0->spacy) (0.1.2)\n",
            "Collecting en-core-web-md==3.7.1\n",
            "  Downloading https://github.com/explosion/spacy-models/releases/download/en_core_web_md-3.7.1/en_core_web_md-3.7.1-py3-none-any.whl (42.8 MB)\n",
            "\u001b[2K     \u001b[90m━━━━━━━━━━━━━━━━━━━━━━━━━━━━━━━━━━━━━━━━\u001b[0m \u001b[32m42.8/42.8 MB\u001b[0m \u001b[31m16.0 MB/s\u001b[0m eta \u001b[36m0:00:00\u001b[0m\n",
            "\u001b[?25hRequirement already satisfied: spacy<3.8.0,>=3.7.2 in /usr/local/lib/python3.11/dist-packages (from en-core-web-md==3.7.1) (3.7.5)\n",
            "Requirement already satisfied: spacy-legacy<3.1.0,>=3.0.11 in /usr/local/lib/python3.11/dist-packages (from spacy<3.8.0,>=3.7.2->en-core-web-md==3.7.1) (3.0.12)\n",
            "Requirement already satisfied: spacy-loggers<2.0.0,>=1.0.0 in /usr/local/lib/python3.11/dist-packages (from spacy<3.8.0,>=3.7.2->en-core-web-md==3.7.1) (1.0.5)\n",
            "Requirement already satisfied: murmurhash<1.1.0,>=0.28.0 in /usr/local/lib/python3.11/dist-packages (from spacy<3.8.0,>=3.7.2->en-core-web-md==3.7.1) (1.0.12)\n",
            "Requirement already satisfied: cymem<2.1.0,>=2.0.2 in /usr/local/lib/python3.11/dist-packages (from spacy<3.8.0,>=3.7.2->en-core-web-md==3.7.1) (2.0.11)\n",
            "Requirement already satisfied: preshed<3.1.0,>=3.0.2 in /usr/local/lib/python3.11/dist-packages (from spacy<3.8.0,>=3.7.2->en-core-web-md==3.7.1) (3.0.9)\n",
            "Requirement already satisfied: thinc<8.3.0,>=8.2.2 in /usr/local/lib/python3.11/dist-packages (from spacy<3.8.0,>=3.7.2->en-core-web-md==3.7.1) (8.2.5)\n",
            "Requirement already satisfied: wasabi<1.2.0,>=0.9.1 in /usr/local/lib/python3.11/dist-packages (from spacy<3.8.0,>=3.7.2->en-core-web-md==3.7.1) (1.1.3)\n",
            "Requirement already satisfied: srsly<3.0.0,>=2.4.3 in /usr/local/lib/python3.11/dist-packages (from spacy<3.8.0,>=3.7.2->en-core-web-md==3.7.1) (2.5.1)\n",
            "Requirement already satisfied: catalogue<2.1.0,>=2.0.6 in /usr/local/lib/python3.11/dist-packages (from spacy<3.8.0,>=3.7.2->en-core-web-md==3.7.1) (2.0.10)\n",
            "Requirement already satisfied: weasel<0.5.0,>=0.1.0 in /usr/local/lib/python3.11/dist-packages (from spacy<3.8.0,>=3.7.2->en-core-web-md==3.7.1) (0.4.1)\n",
            "Requirement already satisfied: typer<1.0.0,>=0.3.0 in /usr/local/lib/python3.11/dist-packages (from spacy<3.8.0,>=3.7.2->en-core-web-md==3.7.1) (0.15.2)\n",
            "Requirement already satisfied: tqdm<5.0.0,>=4.38.0 in /usr/local/lib/python3.11/dist-packages (from spacy<3.8.0,>=3.7.2->en-core-web-md==3.7.1) (4.67.1)\n",
            "Requirement already satisfied: requests<3.0.0,>=2.13.0 in /usr/local/lib/python3.11/dist-packages (from spacy<3.8.0,>=3.7.2->en-core-web-md==3.7.1) (2.32.3)\n",
            "Requirement already satisfied: pydantic!=1.8,!=1.8.1,<3.0.0,>=1.7.4 in /usr/local/lib/python3.11/dist-packages (from spacy<3.8.0,>=3.7.2->en-core-web-md==3.7.1) (2.10.6)\n",
            "Requirement already satisfied: jinja2 in /usr/local/lib/python3.11/dist-packages (from spacy<3.8.0,>=3.7.2->en-core-web-md==3.7.1) (3.1.5)\n",
            "Requirement already satisfied: setuptools in /usr/local/lib/python3.11/dist-packages (from spacy<3.8.0,>=3.7.2->en-core-web-md==3.7.1) (75.1.0)\n",
            "Requirement already satisfied: packaging>=20.0 in /usr/local/lib/python3.11/dist-packages (from spacy<3.8.0,>=3.7.2->en-core-web-md==3.7.1) (24.2)\n",
            "Requirement already satisfied: langcodes<4.0.0,>=3.2.0 in /usr/local/lib/python3.11/dist-packages (from spacy<3.8.0,>=3.7.2->en-core-web-md==3.7.1) (3.5.0)\n",
            "Requirement already satisfied: numpy>=1.19.0 in /usr/local/lib/python3.11/dist-packages (from spacy<3.8.0,>=3.7.2->en-core-web-md==3.7.1) (1.26.4)\n",
            "Requirement already satisfied: language-data>=1.2 in /usr/local/lib/python3.11/dist-packages (from langcodes<4.0.0,>=3.2.0->spacy<3.8.0,>=3.7.2->en-core-web-md==3.7.1) (1.3.0)\n",
            "Requirement already satisfied: annotated-types>=0.6.0 in /usr/local/lib/python3.11/dist-packages (from pydantic!=1.8,!=1.8.1,<3.0.0,>=1.7.4->spacy<3.8.0,>=3.7.2->en-core-web-md==3.7.1) (0.7.0)\n",
            "Requirement already satisfied: pydantic-core==2.27.2 in /usr/local/lib/python3.11/dist-packages (from pydantic!=1.8,!=1.8.1,<3.0.0,>=1.7.4->spacy<3.8.0,>=3.7.2->en-core-web-md==3.7.1) (2.27.2)\n",
            "Requirement already satisfied: typing-extensions>=4.12.2 in /usr/local/lib/python3.11/dist-packages (from pydantic!=1.8,!=1.8.1,<3.0.0,>=1.7.4->spacy<3.8.0,>=3.7.2->en-core-web-md==3.7.1) (4.12.2)\n",
            "Requirement already satisfied: charset-normalizer<4,>=2 in /usr/local/lib/python3.11/dist-packages (from requests<3.0.0,>=2.13.0->spacy<3.8.0,>=3.7.2->en-core-web-md==3.7.1) (3.4.1)\n",
            "Requirement already satisfied: idna<4,>=2.5 in /usr/local/lib/python3.11/dist-packages (from requests<3.0.0,>=2.13.0->spacy<3.8.0,>=3.7.2->en-core-web-md==3.7.1) (3.10)\n",
            "Requirement already satisfied: urllib3<3,>=1.21.1 in /usr/local/lib/python3.11/dist-packages (from requests<3.0.0,>=2.13.0->spacy<3.8.0,>=3.7.2->en-core-web-md==3.7.1) (2.3.0)\n",
            "Requirement already satisfied: certifi>=2017.4.17 in /usr/local/lib/python3.11/dist-packages (from requests<3.0.0,>=2.13.0->spacy<3.8.0,>=3.7.2->en-core-web-md==3.7.1) (2025.1.31)\n",
            "Requirement already satisfied: blis<0.8.0,>=0.7.8 in /usr/local/lib/python3.11/dist-packages (from thinc<8.3.0,>=8.2.2->spacy<3.8.0,>=3.7.2->en-core-web-md==3.7.1) (0.7.11)\n",
            "Requirement already satisfied: confection<1.0.0,>=0.0.1 in /usr/local/lib/python3.11/dist-packages (from thinc<8.3.0,>=8.2.2->spacy<3.8.0,>=3.7.2->en-core-web-md==3.7.1) (0.1.5)\n",
            "Requirement already satisfied: click>=8.0.0 in /usr/local/lib/python3.11/dist-packages (from typer<1.0.0,>=0.3.0->spacy<3.8.0,>=3.7.2->en-core-web-md==3.7.1) (8.1.8)\n",
            "Requirement already satisfied: shellingham>=1.3.0 in /usr/local/lib/python3.11/dist-packages (from typer<1.0.0,>=0.3.0->spacy<3.8.0,>=3.7.2->en-core-web-md==3.7.1) (1.5.4)\n",
            "Requirement already satisfied: rich>=10.11.0 in /usr/local/lib/python3.11/dist-packages (from typer<1.0.0,>=0.3.0->spacy<3.8.0,>=3.7.2->en-core-web-md==3.7.1) (13.9.4)\n",
            "Requirement already satisfied: cloudpathlib<1.0.0,>=0.7.0 in /usr/local/lib/python3.11/dist-packages (from weasel<0.5.0,>=0.1.0->spacy<3.8.0,>=3.7.2->en-core-web-md==3.7.1) (0.20.0)\n",
            "Requirement already satisfied: smart-open<8.0.0,>=5.2.1 in /usr/local/lib/python3.11/dist-packages (from weasel<0.5.0,>=0.1.0->spacy<3.8.0,>=3.7.2->en-core-web-md==3.7.1) (7.1.0)\n",
            "Requirement already satisfied: MarkupSafe>=2.0 in /usr/local/lib/python3.11/dist-packages (from jinja2->spacy<3.8.0,>=3.7.2->en-core-web-md==3.7.1) (3.0.2)\n",
            "Requirement already satisfied: marisa-trie>=1.1.0 in /usr/local/lib/python3.11/dist-packages (from language-data>=1.2->langcodes<4.0.0,>=3.2.0->spacy<3.8.0,>=3.7.2->en-core-web-md==3.7.1) (1.2.1)\n",
            "Requirement already satisfied: markdown-it-py>=2.2.0 in /usr/local/lib/python3.11/dist-packages (from rich>=10.11.0->typer<1.0.0,>=0.3.0->spacy<3.8.0,>=3.7.2->en-core-web-md==3.7.1) (3.0.0)\n",
            "Requirement already satisfied: pygments<3.0.0,>=2.13.0 in /usr/local/lib/python3.11/dist-packages (from rich>=10.11.0->typer<1.0.0,>=0.3.0->spacy<3.8.0,>=3.7.2->en-core-web-md==3.7.1) (2.18.0)\n",
            "Requirement already satisfied: wrapt in /usr/local/lib/python3.11/dist-packages (from smart-open<8.0.0,>=5.2.1->weasel<0.5.0,>=0.1.0->spacy<3.8.0,>=3.7.2->en-core-web-md==3.7.1) (1.17.2)\n",
            "Requirement already satisfied: mdurl~=0.1 in /usr/local/lib/python3.11/dist-packages (from markdown-it-py>=2.2.0->rich>=10.11.0->typer<1.0.0,>=0.3.0->spacy<3.8.0,>=3.7.2->en-core-web-md==3.7.1) (0.1.2)\n",
            "Installing collected packages: en-core-web-md\n",
            "Successfully installed en-core-web-md-3.7.1\n",
            "\u001b[38;5;2m✔ Download and installation successful\u001b[0m\n",
            "You can now load the package via spacy.load('en_core_web_md')\n",
            "\u001b[38;5;3m⚠ Restart to reload dependencies\u001b[0m\n",
            "If you are in a Jupyter or Colab notebook, you may need to restart Python in\n",
            "order to load all the package's dependencies. You can do this by selecting the\n",
            "'Restart kernel' or 'Restart runtime' option.\n"
          ]
        }
      ]
    },
    {
      "cell_type": "code",
      "source": [
        "import spacy\n",
        "import random\n",
        "from spacy.training.example import Example\n",
        "import json\n",
        "import os\n"
      ],
      "metadata": {
        "id": "6inrVdErylaL"
      },
      "execution_count": 19,
      "outputs": []
    },
    {
      "cell_type": "code",
      "source": [
        "# Load the pre-trained \"en_core_web_md\" model\n",
        "nlp = spacy.load(\"en_core_web_md\")\n"
      ],
      "metadata": {
        "id": "YJGyra0Cyr2g"
      },
      "execution_count": 20,
      "outputs": []
    },
    {
      "cell_type": "code",
      "source": [
        "ner = nlp.get_pipe(\"ner\")\n",
        "for label in [\"CERTIFIED THAT\", \"FATHER'S NAME\", \"MOTHER'S NAME\", \"ROLL NO.\", \"DATE OF BIRTH\"]:\n",
        "    ner.add_label(label)"
      ],
      "metadata": {
        "id": "K_QBNIQCyxSW"
      },
      "execution_count": 21,
      "outputs": []
    },
    {
      "cell_type": "code",
      "source": [
        "# Your training data directory\n",
        "training_data_dir = \"/content/drive/MyDrive/data_set/train/entities\""
      ],
      "metadata": {
        "id": "e09BuThUzaz_"
      },
      "execution_count": 22,
      "outputs": []
    },
    {
      "cell_type": "code",
      "source": [
        "# Training loop\n",
        "epochs = 60\n",
        "dropout_rate = 0.5\n",
        "\n",
        "for epoch in range(epochs):\n",
        "    all_losses = {}\n",
        "\n",
        "    # Loop through each training file in the directory\n",
        "    for filename in os.listdir(training_data_dir):\n",
        "        if filename.endswith(\".json\"):\n",
        "            file_path = os.path.join(training_data_dir, filename)\n",
        "\n",
        "            # Load JSON file\n",
        "            with open(file_path, \"r\", encoding=\"utf-8\") as file:\n",
        "                training_data = json.load(file)\n",
        "\n",
        "            # Shuffle the list of annotations in the training data\n",
        "            random.shuffle(training_data[\"annotations\"])\n",
        "            losses = {}\n",
        "\n",
        "            # Process each example in the file\n",
        "            for example in training_data[\"annotations\"]:\n",
        "                text = example[0]\n",
        "                entities = example[1][\"entities\"]\n",
        "\n",
        "                # Create a spaCy Doc object\n",
        "                doc = nlp.make_doc(text)\n",
        "\n",
        "                # Update the NER model with the example\n",
        "                example = Example.from_dict(doc, {\"entities\": entities})\n",
        "                nlp.update([example], drop=dropout_rate, losses=losses)\n",
        "\n",
        "            # Print loss for each file\n",
        "            avg_loss = losses.get(\"ner\", 0.0)\n",
        "\n",
        "\n",
        "            # Collect losses for all files\n",
        "            all_losses.setdefault(\"ner\", []).append(avg_loss)\n",
        "\n",
        "    # Print average loss for the epoch\n",
        "    avg_loss_all_files = sum(all_losses.get(\"ner\", [])) / len(all_losses.get(\"ner\", [])) if all_losses.get(\"ner\") else 0\n",
        "    print(f\"Epoch {epoch + 1}, Avg. Loss (All Files): {avg_loss_all_files:.2f}\")\n"
      ],
      "metadata": {
        "id": "Wm2aIcVhznAL"
      },
      "execution_count": null,
      "outputs": []
    },
    {
      "cell_type": "code",
      "source": [
        "# Save the fine-tuned model\n",
        "nlp.to_disk(\"/content/drive/MyDrive/model_md\")"
      ],
      "metadata": {
        "id": "C-WRmicb0Hnm"
      },
      "execution_count": 24,
      "outputs": []
    },
    {
      "cell_type": "code",
      "source": [
        "import spacy\n",
        "import os\n",
        "import json\n",
        "\n",
        "# Load your fine-tuned spaCy NER model\n",
        "nlp = spacy.load(\"/content/drive/MyDrive/model_md\")  # Replace with the path where you saved your model\n",
        "\n",
        "# Directory containing your text files\n",
        "text_files_dir = \"/content/drive/MyDrive/data_set/test/text\"\n",
        "\n",
        "# Loop through each text file in the directory\n",
        "for filename in os.listdir(text_files_dir):\n",
        "    if filename.endswith(\".txt\"):\n",
        "        file_path = os.path.join(text_files_dir, filename)\n",
        "\n",
        "        # Read the contents of the text file\n",
        "        with open(file_path, \"r\", encoding=\"utf-8\") as file:\n",
        "            test_text = file.read()\n",
        "\n",
        "        # Process the test text with the NER model\n",
        "        doc = nlp(test_text)\n",
        "\n",
        "        # Extract entities from the processed text\n",
        "        entities = [{\"start\": ent.start_char, \"end\": ent.end_char, \"label\": ent.label_, \"text\": ent.text} for ent in doc.ents]\n",
        "\n",
        "        # Print the extracted entities with text\n",
        "        print(f\"\\nFile: {filename}\")\n",
        "        print(\"Extracted Entities:\")\n",
        "        for entity in entities:\n",
        "            print(f\"Label: {entity['label']}, Text: {entity['text']}, Start: {entity['start']}, End: {entity['end']}\")\n"
      ],
      "metadata": {
        "colab": {
          "base_uri": "https://localhost:8080/"
        },
        "id": "ehL77PJ-0Nl8",
        "outputId": "6ba45d5e-cece-4bcb-c54c-7c73824a5e36"
      },
      "execution_count": null,
      "outputs": [
        {
          "output_type": "stream",
          "name": "stdout",
          "text": [
            "\n",
            "File: temp32.txt\n",
            "Extracted Entities:\n",
            "Label: CERTIFIED THAT, Text: AKULA SHIVA, Start: 15, End: 26\n",
            "Label: FATHER'S NAME, Text: KISHTAIAH MOTHER, Start: 41, End: 57\n",
            "Label: ROLL NO., Text: 1813109222, Start: 75, End: 85\n",
            "Label: DATE OF BIRTH, Text: 26/11/2002, Start: 99, End: 109\n",
            "\n",
            "File: temp37.txt\n",
            "Extracted Entities:\n",
            "Label: CERTIFIED THAT, Text: KATUKU ADITHYA, Start: 15, End: 29\n",
            "Label: FATHER'S NAME, Text: KATUKU SARAIAH, Start: 44, End: 58\n",
            "Label: MOTHER'S NAME, Text: KATUKU SATHYAVATHT, Start: 73, End: 91\n",
            "Label: ROLL NO., Text: 1808103923, Start: 101, End: 111\n",
            "Label: DATE OF BIRTH, Text: 23/10/2002, Start: 126, End: 136\n",
            "\n",
            "File: temp38.txt\n",
            "Extracted Entities:\n",
            "Label: CERTIFIED THAT, Text: YENUGU ARUN REDDY, Start: 15, End: 32\n",
            "Label: FATHER'S NAME, Text: YENUGU LAKPATHI REDDY., Start: 47, End: 69\n",
            "Label: MOTHER'S NAME, Text: YENUGU LAXMI, Start: 85, End: 97\n",
            "Label: ROLL NO., Text: 2105123069, Start: 107, End: 117\n",
            "Label: DATE OF BIRTH, Text: 07/09/2004, Start: 132, End: 142\n",
            "\n",
            "File: temp35.txt\n",
            "Extracted Entities:\n",
            "Label: CERTIFIED THAT, Text: VODDAJI AVINASH, Start: 15, End: 30\n",
            "Label: FATHER'S NAME, Text: VODDAJI KISHAN, Start: 45, End: 59\n",
            "Label: MOTHER'S NAME, Text: VODDAJI JALAJA., Start: 75, End: 90\n",
            "Label: ROLL NO., Text: 1629140440, Start: 100, End: 110\n",
            "Label: DATE OF BIRTH, Text: 29/05/2000, Start: 125, End: 135\n",
            "\n",
            "File: temp31.txt\n",
            "Extracted Entities:\n",
            "Label: CERTIFIED THAT, Text: EMMADI GANESH REDDY, Start: 15, End: 34\n",
            "Label: FATHER'S NAME, Text: EMMADI GOPAL REDDY, Start: 49, End: 67\n",
            "Label: MOTHER'S NAME, Text: EMMADI JYOTHI, Start: 82, End: 95\n",
            "Label: ROLL NO., Text: 1818111414, Start: 105, End: 115\n",
            "Label: DATE OF BIRTH, Text: 24/07/2001, Start: 130, End: 140\n",
            "\n",
            "File: temp36.txt\n",
            "Extracted Entities:\n",
            "Label: CERTIFIED THAT, Text: BODIGAM GAURAV, Start: 15, End: 29\n",
            "Label: FATHER'S NAME, Text: BODIGAM GANGA SHEKHAR, Start: 44, End: 65\n",
            "Label: MOTHER'S NAME, Text: BODIGAM NIRMALA, Start: 80, End: 95\n",
            "Label: ROLL NO., Text: 1804102104, Start: 105, End: 115\n",
            "Label: DATE OF BIRTH, Text: 24/10/2002, Start: 130, End: 140\n",
            "\n",
            "File: temp39.txt\n",
            "Extracted Entities:\n",
            "Label: FATHER'S NAME, Text: VADDAJI ROHITH, Start: 16, End: 30\n",
            "Label: FATHER'S NAME, Text: VADDAJI RAJESHWAR, Start: 45, End: 62\n",
            "Label: MOTHER'S NAME, Text: VADDAJI SAROJA, Start: 77, End: 91\n",
            "Label: ROLL NO., Text: 1805125564, Start: 101, End: 111\n",
            "Label: DATE OF BIRTH, Text: 18/01/2001, Start: 127, End: 137\n",
            "\n",
            "File: temp33.txt\n",
            "Extracted Entities:\n",
            "Label: MOTHER'S NAME, Text: CERTIFI ANTHIREDDYGARI SIDDARTHA REDDY, Start: 0, End: 38\n",
            "Label: FATHER'S NAME, Text: ANTHIREDDYGARI RAM REDDY, Start: 53, End: 77\n",
            "Label: MOTHER'S NAME, Text: ANTHIREDDYGARI SARALA, Start: 92, End: 113\n",
            "Label: ROLL NO., Text: 4821121739, Start: 123, End: 133\n",
            "Label: DATE OF BIRTH, Text: 14/02/2003, Start: 148, End: 158\n",
            "\n",
            "File: temp34.txt\n",
            "Extracted Entities:\n",
            "Label: CERTIFIED THAT, Text: MALVATHKAR AKASH, Start: 15, End: 31\n",
            "Label: FATHER'S NAME, Text: MALVATHKAR SHANKAR, Start: 46, End: 64\n",
            "Label: MOTHER'S NAME, Text: MALVATHKAR VANI, Start: 80, End: 95\n",
            "Label: ROLL NO., Text: 1805100197, Start: 105, End: 115\n",
            "Label: DATE OF BIRTH, Text: 10/01/2002, Start: 131, End: 141\n"
          ]
        }
      ]
    },
    {
      "cell_type": "code",
      "source": [
        "import spacy\n",
        "import json\n",
        "import os\n",
        "from sklearn.metrics import precision_score, recall_score, f1_score\n",
        "\n",
        "# Load your fine-tuned spaCy NER model\n",
        "nlp = spacy.load(\"/content/drive/MyDrive/model_md\")  # Replace with the path where you saved your model\n",
        "\n",
        "# Specify the directory containing your evaluation data files\n",
        "evaluation_data_dir = \"/content/drive/MyDrive/data_set/test/entities\"\n",
        "\n",
        "# Initialize lists to store metrics for each file\n",
        "precision_scores = []\n",
        "recall_scores = []\n",
        "f1_scores = []\n",
        "\n",
        "# Loop through each evaluation data file in the directory\n",
        "for filename in os.listdir(evaluation_data_dir):\n",
        "    if filename.endswith(\".json\"):\n",
        "        file_path = os.path.join(evaluation_data_dir, filename)\n",
        "\n",
        "        # Load the evaluation data\n",
        "        with open(file_path, \"r\", encoding=\"utf-8\") as file:\n",
        "            evaluation_data = json.load(file)\n",
        "\n",
        "        # Initialize lists to store predicted and expected entities\n",
        "        predicted_entities_all_files = []\n",
        "        expected_entities_all_files = []\n",
        "\n",
        "        # Process each example in the evaluation data\n",
        "        for example in evaluation_data[\"annotations\"]:\n",
        "            text = example[0]\n",
        "            expected_entities = example[1][\"entities\"]\n",
        "\n",
        "            # Process the text with the NER model\n",
        "            doc = nlp(text)\n",
        "            predicted_entities = [{\"start\": ent.start_char, \"end\": ent.end_char, \"label\": ent.label_} for ent in doc.ents]\n",
        "\n",
        "            # Create a set of unique expected entities\n",
        "            unique_expected_entities = set((ent[0], ent[1], ent[2]) for ent in expected_entities)\n",
        "\n",
        "            # Create a dictionary to store the most accurate predicted entity for each expected entity\n",
        "            entity_to_prediction = {}\n",
        "\n",
        "            # Update the dictionary with the most accurate prediction for each expected entity\n",
        "            for predicted_entity in predicted_entities:\n",
        "                key = (predicted_entity[\"start\"], predicted_entity[\"end\"], predicted_entity[\"label\"])\n",
        "                if key not in entity_to_prediction or (predicted_entity[\"start\"] != -1 and entity_to_prediction[key][\"start\"] == -1):\n",
        "                    entity_to_prediction[key] = predicted_entity\n",
        "\n",
        "            # Check if each expected entity has a corresponding predicted entity\n",
        "            for expected_entity in unique_expected_entities:\n",
        "                if expected_entity not in entity_to_prediction:\n",
        "                    # If missing, add a placeholder entry\n",
        "                    entity_to_prediction[expected_entity] = {\"start\": -1, \"end\": -1, \"label\": \"NOT_PREDICTED\"}\n",
        "\n",
        "            # Append predicted and expected entities to the lists\n",
        "            predicted_entities_all_files.extend(list(entity_to_prediction.values()))\n",
        "            expected_entities_all_files.extend(expected_entities)\n",
        "\n",
        "        # Flatten the lists of entities for sklearn metrics\n",
        "        flat_predicted_entities = [ent[\"label\"] for ent in predicted_entities_all_files if ent[\"label\"] != \"NOT_PREDICTED\"]\n",
        "        flat_expected_entities = [ent[2] for ent in expected_entities_all_files]\n",
        "\n",
        "        # Check if both lists have the same length, pad if necessary\n",
        "        if len(flat_predicted_entities) < len(flat_expected_entities):\n",
        "            flat_predicted_entities += [\"NOT_PREDICTED\"] * (len(flat_expected_entities) - len(flat_predicted_entities))\n",
        "        elif len(flat_predicted_entities) > len(flat_expected_entities):\n",
        "            flat_expected_entities += [\"NOT_PREDICTED\"] * (len(flat_predicted_entities) - len(flat_expected_entities))\n",
        "\n",
        "        # Calculate precision, recall, and F1 score for the current file\n",
        "        precision = precision_score(\n",
        "            flat_expected_entities,\n",
        "            flat_predicted_entities,\n",
        "            average=\"weighted\",\n",
        "            zero_division=1\n",
        "        )\n",
        "        recall = recall_score(flat_expected_entities, flat_predicted_entities, average=\"weighted\")\n",
        "        f1 = f1_score(flat_expected_entities, flat_predicted_entities, average=\"weighted\")\n",
        "\n",
        "        # Print or store the metrics for the current file\n",
        "\n",
        "\n",
        "        # Append metrics to the lists\n",
        "        precision_scores.append(precision)\n",
        "        recall_scores.append(recall)\n",
        "        f1_scores.append(f1)\n",
        "\n",
        "# Calculate and print average metrics across all files\n",
        "avg_precision = sum(precision_scores) / len(precision_scores) if precision_scores else 0\n",
        "avg_recall = sum(recall_scores) / len(recall_scores) if recall_scores else 0\n",
        "avg_f1 = sum(f1_scores) / len(f1_scores) if f1_scores else 0\n",
        "\n",
        "print(\"\\nAverage Metrics Across All Files:\")\n",
        "print(f\"Average Precision: {avg_precision:.4f}, Average Recall: {avg_recall:.4f}, Average F1 Score: {avg_f1:.4f}\")\n"
      ],
      "metadata": {
        "colab": {
          "base_uri": "https://localhost:8080/"
        },
        "id": "w9-eWsiR0zjg",
        "outputId": "018d8705-a363-49c2-e844-f8f109640db7"
      },
      "execution_count": null,
      "outputs": [
        {
          "output_type": "stream",
          "name": "stdout",
          "text": [
            "\n",
            "Average Metrics Across All Files:\n",
            "Average Precision: 0.9667, Average Recall: 0.9333, Average F1 Score: 0.9111\n"
          ]
        }
      ]
    },
    {
      "cell_type": "code",
      "source": [
        "import matplotlib.pyplot as plt\n",
        "import seaborn as sns\n",
        "\n",
        "# Create a bar chart for precision, recall, and F1 score\n",
        "metrics = ['Precision', 'Recall', 'F1 Score']\n",
        "values = [avg_precision, avg_recall, avg_f1]\n",
        "\n",
        "plt.figure(figsize=(10, 6))\n",
        "sns.barplot(x=metrics, y=values, palette='viridis')\n",
        "plt.title('Average Evaluation Metrics Across All Files')\n",
        "plt.ylim(0, 1)  # Set y-axis limit to be between 0 and 1 for precision, recall, and F1 score\n",
        "plt.show()\n"
      ],
      "metadata": {
        "colab": {
          "base_uri": "https://localhost:8080/",
          "height": 545
        },
        "id": "n9LYhRzS1Cgi",
        "outputId": "e07aec12-1069-4942-f994-0340375cf8ed"
      },
      "execution_count": null,
      "outputs": [
        {
          "output_type": "display_data",
          "data": {
            "text/plain": [
              "<Figure size 1000x600 with 1 Axes>"
            ],
            "image/png": "[encoded data removed]"
          },
          "metadata": {}
        }
      ]
    },
    {
      "cell_type": "code",
      "source": [],
      "metadata": {
        "id": "OFu-SO8F1ExB"
      },
      "execution_count": null,
      "outputs": []
    },
    {
      "cell_type": "code",
      "source": [],
      "metadata": {
        "id": "tCcIFlAJP7zj"
      },
      "execution_count": null,
      "outputs": []
    },
    {
      "cell_type": "markdown",
      "source": [
        "#Fine-tuning en_core_web_lg pre-trained model"
      ],
      "metadata": {
        "id": "GvFxQehz-H7K"
      }
    },
    {
      "cell_type": "code",
      "source": [
        "!python -m spacy download en_core_web_lg\n"
      ],
      "metadata": {
        "colab": {
          "base_uri": "https://localhost:8080/"
        },
        "id": "Nhit0yao3gBl",
        "outputId": "76cc4bc1-5a3c-48a6-97f0-7d1bc386492a"
      },
      "execution_count": null,
      "outputs": [
        {
          "output_type": "stream",
          "name": "stdout",
          "text": [
            "2023-12-02 11:19:58.152088: E tensorflow/compiler/xla/stream_executor/cuda/cuda_dnn.cc:9342] Unable to register cuDNN factory: Attempting to register factory for plugin cuDNN when one has already been registered\n",
            "2023-12-02 11:19:58.152164: E tensorflow/compiler/xla/stream_executor/cuda/cuda_fft.cc:609] Unable to register cuFFT factory: Attempting to register factory for plugin cuFFT when one has already been registered\n",
            "2023-12-02 11:19:58.152206: E tensorflow/compiler/xla/stream_executor/cuda/cuda_blas.cc:1518] Unable to register cuBLAS factory: Attempting to register factory for plugin cuBLAS when one has already been registered\n",
            "2023-12-02 11:19:59.771487: W tensorflow/compiler/tf2tensorrt/utils/py_utils.cc:38] TF-TRT Warning: Could not find TensorRT\n",
            "Collecting en-core-web-lg==3.6.0\n",
            "  Downloading https://github.com/explosion/spacy-models/releases/download/en_core_web_lg-3.6.0/en_core_web_lg-3.6.0-py3-none-any.whl (587.7 MB)\n",
            "\u001b[2K     \u001b[90m━━━━━━━━━━━━━━━━━━━━━━━━━━━━━━━━━━━━━━━━\u001b[0m \u001b[32m587.7/587.7 MB\u001b[0m \u001b[31m1.8 MB/s\u001b[0m eta \u001b[36m0:00:00\u001b[0m\n",
            "\u001b[?25hRequirement already satisfied: spacy<3.7.0,>=3.6.0 in /usr/local/lib/python3.10/dist-packages (from en-core-web-lg==3.6.0) (3.6.1)\n",
            "Requirement already satisfied: spacy-legacy<3.1.0,>=3.0.11 in /usr/local/lib/python3.10/dist-packages (from spacy<3.7.0,>=3.6.0->en-core-web-lg==3.6.0) (3.0.12)\n",
            "Requirement already satisfied: spacy-loggers<2.0.0,>=1.0.0 in /usr/local/lib/python3.10/dist-packages (from spacy<3.7.0,>=3.6.0->en-core-web-lg==3.6.0) (1.0.5)\n",
            "Requirement already satisfied: murmurhash<1.1.0,>=0.28.0 in /usr/local/lib/python3.10/dist-packages (from spacy<3.7.0,>=3.6.0->en-core-web-lg==3.6.0) (1.0.10)\n",
            "Requirement already satisfied: cymem<2.1.0,>=2.0.2 in /usr/local/lib/python3.10/dist-packages (from spacy<3.7.0,>=3.6.0->en-core-web-lg==3.6.0) (2.0.8)\n",
            "Requirement already satisfied: preshed<3.1.0,>=3.0.2 in /usr/local/lib/python3.10/dist-packages (from spacy<3.7.0,>=3.6.0->en-core-web-lg==3.6.0) (3.0.9)\n",
            "Requirement already satisfied: thinc<8.2.0,>=8.1.8 in /usr/local/lib/python3.10/dist-packages (from spacy<3.7.0,>=3.6.0->en-core-web-lg==3.6.0) (8.1.12)\n",
            "Requirement already satisfied: wasabi<1.2.0,>=0.9.1 in /usr/local/lib/python3.10/dist-packages (from spacy<3.7.0,>=3.6.0->en-core-web-lg==3.6.0) (1.1.2)\n",
            "Requirement already satisfied: srsly<3.0.0,>=2.4.3 in /usr/local/lib/python3.10/dist-packages (from spacy<3.7.0,>=3.6.0->en-core-web-lg==3.6.0) (2.4.8)\n",
            "Requirement already satisfied: catalogue<2.1.0,>=2.0.6 in /usr/local/lib/python3.10/dist-packages (from spacy<3.7.0,>=3.6.0->en-core-web-lg==3.6.0) (2.0.10)\n",
            "Requirement already satisfied: typer<0.10.0,>=0.3.0 in /usr/local/lib/python3.10/dist-packages (from spacy<3.7.0,>=3.6.0->en-core-web-lg==3.6.0) (0.9.0)\n",
            "Requirement already satisfied: pathy>=0.10.0 in /usr/local/lib/python3.10/dist-packages (from spacy<3.7.0,>=3.6.0->en-core-web-lg==3.6.0) (0.10.3)\n",
            "Requirement already satisfied: smart-open<7.0.0,>=5.2.1 in /usr/local/lib/python3.10/dist-packages (from spacy<3.7.0,>=3.6.0->en-core-web-lg==3.6.0) (6.4.0)\n",
            "Requirement already satisfied: tqdm<5.0.0,>=4.38.0 in /usr/local/lib/python3.10/dist-packages (from spacy<3.7.0,>=3.6.0->en-core-web-lg==3.6.0) (4.66.1)\n",
            "Requirement already satisfied: numpy>=1.15.0 in /usr/local/lib/python3.10/dist-packages (from spacy<3.7.0,>=3.6.0->en-core-web-lg==3.6.0) (1.23.5)\n",
            "Requirement already satisfied: requests<3.0.0,>=2.13.0 in /usr/local/lib/python3.10/dist-packages (from spacy<3.7.0,>=3.6.0->en-core-web-lg==3.6.0) (2.31.0)\n",
            "Requirement already satisfied: pydantic!=1.8,!=1.8.1,<3.0.0,>=1.7.4 in /usr/local/lib/python3.10/dist-packages (from spacy<3.7.0,>=3.6.0->en-core-web-lg==3.6.0) (1.10.13)\n",
            "Requirement already satisfied: jinja2 in /usr/local/lib/python3.10/dist-packages (from spacy<3.7.0,>=3.6.0->en-core-web-lg==3.6.0) (3.1.2)\n",
            "Requirement already satisfied: setuptools in /usr/local/lib/python3.10/dist-packages (from spacy<3.7.0,>=3.6.0->en-core-web-lg==3.6.0) (67.7.2)\n",
            "Requirement already satisfied: packaging>=20.0 in /usr/local/lib/python3.10/dist-packages (from spacy<3.7.0,>=3.6.0->en-core-web-lg==3.6.0) (23.2)\n",
            "Requirement already satisfied: langcodes<4.0.0,>=3.2.0 in /usr/local/lib/python3.10/dist-packages (from spacy<3.7.0,>=3.6.0->en-core-web-lg==3.6.0) (3.3.0)\n",
            "Requirement already satisfied: typing-extensions>=4.2.0 in /usr/local/lib/python3.10/dist-packages (from pydantic!=1.8,!=1.8.1,<3.0.0,>=1.7.4->spacy<3.7.0,>=3.6.0->en-core-web-lg==3.6.0) (4.5.0)\n",
            "Requirement already satisfied: charset-normalizer<4,>=2 in /usr/local/lib/python3.10/dist-packages (from requests<3.0.0,>=2.13.0->spacy<3.7.0,>=3.6.0->en-core-web-lg==3.6.0) (3.3.2)\n",
            "Requirement already satisfied: idna<4,>=2.5 in /usr/local/lib/python3.10/dist-packages (from requests<3.0.0,>=2.13.0->spacy<3.7.0,>=3.6.0->en-core-web-lg==3.6.0) (3.6)\n",
            "Requirement already satisfied: urllib3<3,>=1.21.1 in /usr/local/lib/python3.10/dist-packages (from requests<3.0.0,>=2.13.0->spacy<3.7.0,>=3.6.0->en-core-web-lg==3.6.0) (2.0.7)\n",
            "Requirement already satisfied: certifi>=2017.4.17 in /usr/local/lib/python3.10/dist-packages (from requests<3.0.0,>=2.13.0->spacy<3.7.0,>=3.6.0->en-core-web-lg==3.6.0) (2023.11.17)\n",
            "Requirement already satisfied: blis<0.8.0,>=0.7.8 in /usr/local/lib/python3.10/dist-packages (from thinc<8.2.0,>=8.1.8->spacy<3.7.0,>=3.6.0->en-core-web-lg==3.6.0) (0.7.11)\n",
            "Requirement already satisfied: confection<1.0.0,>=0.0.1 in /usr/local/lib/python3.10/dist-packages (from thinc<8.2.0,>=8.1.8->spacy<3.7.0,>=3.6.0->en-core-web-lg==3.6.0) (0.1.4)\n",
            "Requirement already satisfied: click<9.0.0,>=7.1.1 in /usr/local/lib/python3.10/dist-packages (from typer<0.10.0,>=0.3.0->spacy<3.7.0,>=3.6.0->en-core-web-lg==3.6.0) (8.1.7)\n",
            "Requirement already satisfied: MarkupSafe>=2.0 in /usr/local/lib/python3.10/dist-packages (from jinja2->spacy<3.7.0,>=3.6.0->en-core-web-lg==3.6.0) (2.1.3)\n",
            "Installing collected packages: en-core-web-lg\n",
            "Successfully installed en-core-web-lg-3.6.0\n",
            "\u001b[38;5;2m✔ Download and installation successful\u001b[0m\n",
            "You can now load the package via spacy.load('en_core_web_lg')\n"
          ]
        }
      ]
    },
    {
      "cell_type": "code",
      "source": [],
      "metadata": {
        "id": "PQpFTR5y3eDh"
      },
      "execution_count": null,
      "outputs": []
    },
    {
      "cell_type": "code",
      "source": [],
      "metadata": {
        "id": "doIaQqQ_QBtG"
      },
      "execution_count": null,
      "outputs": []
    },
    {
      "cell_type": "code",
      "source": [
        "import spacy\n",
        "import random\n",
        "from spacy.training.example import Example\n",
        "import json\n",
        "import os\n"
      ],
      "metadata": {
        "id": "zw2cKUOcU7UO"
      },
      "execution_count": null,
      "outputs": []
    },
    {
      "cell_type": "code",
      "source": [
        "# Load the pre-trained \"en_core_web_lg\" model\n",
        "nlp = spacy.load(\"en_core_web_lg\")\n"
      ],
      "metadata": {
        "id": "WnWnDwIHVKRk"
      },
      "execution_count": null,
      "outputs": []
    },
    {
      "cell_type": "code",
      "source": [
        "ner = nlp.get_pipe(\"ner\")\n",
        "for label in [\"CERTIFIED THAT\", \"FATHER'S NAME\", \"MOTHER'S NAME\", \"ROLL NO.\", \"DATE OF BIRTH\"]:\n",
        "    ner.add_label(label)"
      ],
      "metadata": {
        "id": "EUpBURlbVWAd"
      },
      "execution_count": null,
      "outputs": []
    },
    {
      "cell_type": "code",
      "source": [
        "# Your training data directory\n",
        "training_data_dir = \"/content/data_set/train/entities\""
      ],
      "metadata": {
        "id": "B_MfDoGfVc6_"
      },
      "execution_count": null,
      "outputs": []
    },
    {
      "cell_type": "code",
      "source": [
        "# Training loop\n",
        "epochs = 60\n",
        "dropout_rate = 0.5\n",
        "\n",
        "for epoch in range(epochs):\n",
        "    all_losses = {}\n",
        "\n",
        "    # Loop through each training file in the directory\n",
        "    for filename in os.listdir(training_data_dir):\n",
        "        if filename.endswith(\".json\"):\n",
        "            file_path = os.path.join(training_data_dir, filename)\n",
        "\n",
        "            # Load JSON file\n",
        "            with open(file_path, \"r\", encoding=\"utf-8\") as file:\n",
        "                training_data = json.load(file)\n",
        "\n",
        "            # Shuffle the list of annotations in the training data\n",
        "            random.shuffle(training_data[\"annotations\"])\n",
        "            losses = {}\n",
        "\n",
        "            # Process each example in the file\n",
        "            for example in training_data[\"annotations\"]:\n",
        "                text = example[0]\n",
        "                entities = example[1][\"entities\"]\n",
        "\n",
        "                # Create a spaCy Doc object\n",
        "                doc = nlp.make_doc(text)\n",
        "\n",
        "                # Update the NER model with the example\n",
        "                example = Example.from_dict(doc, {\"entities\": entities})\n",
        "                nlp.update([example], drop=dropout_rate, losses=losses)\n",
        "\n",
        "            # Print loss for each file\n",
        "            avg_loss = losses.get(\"ner\", 0.0)\n",
        "\n",
        "\n",
        "            # Collect losses for all files\n",
        "            all_losses.setdefault(\"ner\", []).append(avg_loss)\n",
        "\n",
        "    # Print average loss for the epoch\n",
        "    avg_loss_all_files = sum(all_losses.get(\"ner\", [])) / len(all_losses.get(\"ner\", [])) if all_losses.get(\"ner\") else 0\n",
        "    print(f\"Epoch {epoch + 1}, Avg. Loss (All Files): {avg_loss_all_files:.2f}\")\n"
      ],
      "metadata": {
        "colab": {
          "base_uri": "https://localhost:8080/"
        },
        "id": "NszaOWWzVmYl",
        "outputId": "4b89fb09-db34-40c9-baf0-7ea69d5bcdec"
      },
      "execution_count": null,
      "outputs": [
        {
          "output_type": "stream",
          "name": "stdout",
          "text": [
            "Epoch 1, Avg. Loss (All Files): 10.28\n",
            "Epoch 2, Avg. Loss (All Files): 15.52\n",
            "Epoch 3, Avg. Loss (All Files): 15.94\n",
            "Epoch 4, Avg. Loss (All Files): 12.12\n",
            "Epoch 5, Avg. Loss (All Files): 6.72\n",
            "Epoch 6, Avg. Loss (All Files): 4.96\n",
            "Epoch 7, Avg. Loss (All Files): 4.10\n",
            "Epoch 8, Avg. Loss (All Files): 8.80\n",
            "Epoch 9, Avg. Loss (All Files): 4.81\n",
            "Epoch 10, Avg. Loss (All Files): 3.96\n",
            "Epoch 11, Avg. Loss (All Files): 3.77\n",
            "Epoch 12, Avg. Loss (All Files): 3.45\n",
            "Epoch 13, Avg. Loss (All Files): 3.40\n",
            "Epoch 14, Avg. Loss (All Files): 3.58\n",
            "Epoch 15, Avg. Loss (All Files): 3.46\n",
            "Epoch 16, Avg. Loss (All Files): 2.51\n",
            "Epoch 17, Avg. Loss (All Files): 2.63\n",
            "Epoch 18, Avg. Loss (All Files): 2.75\n",
            "Epoch 19, Avg. Loss (All Files): 1.62\n",
            "Epoch 20, Avg. Loss (All Files): 2.03\n",
            "Epoch 21, Avg. Loss (All Files): 1.34\n",
            "Epoch 22, Avg. Loss (All Files): 1.14\n",
            "Epoch 23, Avg. Loss (All Files): 1.26\n",
            "Epoch 24, Avg. Loss (All Files): 1.26\n",
            "Epoch 25, Avg. Loss (All Files): 0.81\n",
            "Epoch 26, Avg. Loss (All Files): 0.84\n",
            "Epoch 27, Avg. Loss (All Files): 0.90\n",
            "Epoch 28, Avg. Loss (All Files): 0.72\n",
            "Epoch 29, Avg. Loss (All Files): 0.74\n",
            "Epoch 30, Avg. Loss (All Files): 0.57\n",
            "Epoch 31, Avg. Loss (All Files): 0.80\n",
            "Epoch 32, Avg. Loss (All Files): 0.50\n",
            "Epoch 33, Avg. Loss (All Files): 0.66\n",
            "Epoch 34, Avg. Loss (All Files): 0.59\n",
            "Epoch 35, Avg. Loss (All Files): 0.51\n",
            "Epoch 36, Avg. Loss (All Files): 0.50\n",
            "Epoch 37, Avg. Loss (All Files): 0.47\n",
            "Epoch 38, Avg. Loss (All Files): 0.52\n",
            "Epoch 39, Avg. Loss (All Files): 0.28\n",
            "Epoch 40, Avg. Loss (All Files): 0.40\n",
            "Epoch 41, Avg. Loss (All Files): 0.60\n",
            "Epoch 42, Avg. Loss (All Files): 0.53\n",
            "Epoch 43, Avg. Loss (All Files): 0.08\n",
            "Epoch 44, Avg. Loss (All Files): 0.14\n",
            "Epoch 45, Avg. Loss (All Files): 0.07\n",
            "Epoch 46, Avg. Loss (All Files): 0.04\n",
            "Epoch 47, Avg. Loss (All Files): 0.16\n",
            "Epoch 48, Avg. Loss (All Files): 0.00\n",
            "Epoch 49, Avg. Loss (All Files): 0.01\n",
            "Epoch 50, Avg. Loss (All Files): 0.15\n",
            "Epoch 51, Avg. Loss (All Files): 0.12\n",
            "Epoch 52, Avg. Loss (All Files): 0.29\n",
            "Epoch 53, Avg. Loss (All Files): 0.13\n",
            "Epoch 54, Avg. Loss (All Files): 0.10\n",
            "Epoch 55, Avg. Loss (All Files): 0.15\n",
            "Epoch 56, Avg. Loss (All Files): 0.23\n",
            "Epoch 57, Avg. Loss (All Files): 0.34\n",
            "Epoch 58, Avg. Loss (All Files): 0.16\n",
            "Epoch 59, Avg. Loss (All Files): 0.19\n",
            "Epoch 60, Avg. Loss (All Files): 0.02\n"
          ]
        }
      ]
    },
    {
      "cell_type": "code",
      "source": [
        "# Save the fine-tuned model\n",
        "nlp.to_disk(\"/content/model_lg\")"
      ],
      "metadata": {
        "id": "URcrvvl2VvHm"
      },
      "execution_count": null,
      "outputs": []
    },
    {
      "cell_type": "code",
      "source": [
        "import spacy\n",
        "import os\n",
        "import json\n",
        "\n",
        "# Load your fine-tuned spaCy NER model\n",
        "nlp = spacy.load(\"/content/model_lg\")  # Replace with the path where you saved your model\n",
        "\n",
        "# Directory containing your text files\n",
        "text_files_dir = \"/content/data_set/test/text\"\n",
        "\n",
        "# Loop through each text file in the directory\n",
        "for filename in os.listdir(text_files_dir):\n",
        "    if filename.endswith(\".txt\"):\n",
        "        file_path = os.path.join(text_files_dir, filename)\n",
        "\n",
        "        # Read the contents of the text file\n",
        "        with open(file_path, \"r\", encoding=\"utf-8\") as file:\n",
        "            test_text = file.read()\n",
        "\n",
        "        # Process the test text with the NER model\n",
        "        doc = nlp(test_text)\n",
        "\n",
        "        # Extract entities from the processed text\n",
        "        entities = [{\"start\": ent.start_char, \"end\": ent.end_char, \"label\": ent.label_, \"text\": ent.text} for ent in doc.ents]\n",
        "\n",
        "        # Print the extracted entities with text\n",
        "        print(f\"\\nFile: {filename}\")\n",
        "        print(\"Extracted Entities:\")\n",
        "        for entity in entities:\n",
        "            print(f\"Label: {entity['label']}, Text: {entity['text']}, Start: {entity['start']}, End: {entity['end']}\")\n"
      ],
      "metadata": {
        "id": "xVrWZq-7U-l3"
      },
      "execution_count": null,
      "outputs": []
    },
    {
      "cell_type": "code",
      "source": [
        "import spacy\n",
        "import json\n",
        "import os\n",
        "from sklearn.metrics import precision_score, recall_score, f1_score\n",
        "\n",
        "# Load your fine-tuned spaCy NER model\n",
        "nlp = spacy.load(\"/content/model_lg\")  # Replace with the path where you saved your model\n",
        "\n",
        "# Specify the directory containing your evaluation data files\n",
        "evaluation_data_dir = \"/content/data_set/test/entities\"\n",
        "\n",
        "# Initialize lists to store metrics for each file\n",
        "precision_scores = []\n",
        "recall_scores = []\n",
        "f1_scores = []\n",
        "\n",
        "# Loop through each evaluation data file in the directory\n",
        "for filename in os.listdir(evaluation_data_dir):\n",
        "    if filename.endswith(\".json\"):\n",
        "        file_path = os.path.join(evaluation_data_dir, filename)\n",
        "\n",
        "        # Load the evaluation data\n",
        "        with open(file_path, \"r\", encoding=\"utf-8\") as file:\n",
        "            evaluation_data = json.load(file)\n",
        "\n",
        "        # Initialize lists to store predicted and expected entities\n",
        "        predicted_entities_all_files = []\n",
        "        expected_entities_all_files = []\n",
        "\n",
        "        # Process each example in the evaluation data\n",
        "        for example in evaluation_data[\"annotations\"]:\n",
        "            text = example[0]\n",
        "            expected_entities = example[1][\"entities\"]\n",
        "\n",
        "            # Process the text with the NER model\n",
        "            doc = nlp(text)\n",
        "            predicted_entities = [{\"start\": ent.start_char, \"end\": ent.end_char, \"label\": ent.label_} for ent in doc.ents]\n",
        "\n",
        "            # Create a set of unique expected entities\n",
        "            unique_expected_entities = set((ent[0], ent[1], ent[2]) for ent in expected_entities)\n",
        "\n",
        "            # Create a dictionary to store the most accurate predicted entity for each expected entity\n",
        "            entity_to_prediction = {}\n",
        "\n",
        "            # Update the dictionary with the most accurate prediction for each expected entity\n",
        "            for predicted_entity in predicted_entities:\n",
        "                key = (predicted_entity[\"start\"], predicted_entity[\"end\"], predicted_entity[\"label\"])\n",
        "                if key not in entity_to_prediction or (predicted_entity[\"start\"] != -1 and entity_to_prediction[key][\"start\"] == -1):\n",
        "                    entity_to_prediction[key] = predicted_entity\n",
        "\n",
        "            # Check if each expected entity has a corresponding predicted entity\n",
        "            for expected_entity in unique_expected_entities:\n",
        "                if expected_entity not in entity_to_prediction:\n",
        "                    # If missing, add a placeholder entry\n",
        "                    entity_to_prediction[expected_entity] = {\"start\": -1, \"end\": -1, \"label\": \"NOT_PREDICTED\"}\n",
        "\n",
        "            # Append predicted and expected entities to the lists\n",
        "            predicted_entities_all_files.extend(list(entity_to_prediction.values()))\n",
        "            expected_entities_all_files.extend(expected_entities)\n",
        "\n",
        "        # Flatten the lists of entities for sklearn metrics\n",
        "        flat_predicted_entities = [ent[\"label\"] for ent in predicted_entities_all_files if ent[\"label\"] != \"NOT_PREDICTED\"]\n",
        "        flat_expected_entities = [ent[2] for ent in expected_entities_all_files]\n",
        "\n",
        "        # Check if both lists have the same length, pad if necessary\n",
        "        if len(flat_predicted_entities) < len(flat_expected_entities):\n",
        "            flat_predicted_entities += [\"NOT_PREDICTED\"] * (len(flat_expected_entities) - len(flat_predicted_entities))\n",
        "        elif len(flat_predicted_entities) > len(flat_expected_entities):\n",
        "            flat_expected_entities += [\"NOT_PREDICTED\"] * (len(flat_predicted_entities) - len(flat_expected_entities))\n",
        "\n",
        "        # Calculate precision, recall, and F1 score for the current file\n",
        "        precision = precision_score(\n",
        "            flat_expected_entities,\n",
        "            flat_predicted_entities,\n",
        "            average=\"weighted\",\n",
        "            zero_division=1\n",
        "        )\n",
        "        recall = recall_score(flat_expected_entities, flat_predicted_entities, average=\"weighted\")\n",
        "        f1 = f1_score(flat_expected_entities, flat_predicted_entities, average=\"weighted\")\n",
        "\n",
        "        # Print or store the metrics for the current file\n",
        "\n",
        "\n",
        "        # Append metrics to the lists\n",
        "        precision_scores.append(precision)\n",
        "        recall_scores.append(recall)\n",
        "        f1_scores.append(f1)\n",
        "\n",
        "# Calculate and print average metrics across all files\n",
        "avg_precision = sum(precision_scores) / len(precision_scores) if precision_scores else 0\n",
        "avg_recall = sum(recall_scores) / len(recall_scores) if recall_scores else 0\n",
        "avg_f1 = sum(f1_scores) / len(f1_scores) if f1_scores else 0\n",
        "\n",
        "print(\"\\nAverage Metrics Across All Files:\")\n",
        "print(f\"Average Precision: {avg_precision:.4f}, Average Recall: {avg_recall:.4f}, Average F1 Score: {avg_f1:.4f}\")\n"
      ],
      "metadata": {
        "id": "5mGX1IOQU-x6"
      },
      "execution_count": null,
      "outputs": []
    },
    {
      "cell_type": "code",
      "source": [
        "import matplotlib.pyplot as plt\n",
        "import seaborn as sns\n",
        "\n",
        "# Create a bar chart for precision, recall, and F1 score\n",
        "metrics = ['Precision', 'Recall', 'F1 Score']\n",
        "values = [avg_precision, avg_recall, avg_f1]\n",
        "\n",
        "plt.figure(figsize=(10, 6))\n",
        "sns.barplot(x=metrics, y=values, palette='viridis')\n",
        "plt.title('Average Evaluation Metrics Across All Files')\n",
        "plt.ylim(0, 1)  # Set y-axis limit to be between 0 and 1 for precision, recall, and F1 score\n",
        "plt.show()\n"
      ],
      "metadata": {
        "id": "N3o97QgbU_B_"
      },
      "execution_count": null,
      "outputs": []
    },
    {
      "cell_type": "markdown",
      "source": [
        "#Comparing the models"
      ],
      "metadata": {
        "id": "1pKV3Izj-WUC"
      }
    },
    {
      "cell_type": "code",
      "source": [
        "import spacy\n",
        "import json\n",
        "import os\n",
        "import matplotlib.pyplot as plt\n",
        "import numpy as np\n",
        "from sklearn.metrics import precision_score, recall_score, f1_score\n",
        "\n",
        "def evaluate_model(nlp, evaluation_data_dir):\n",
        "    precision_scores = []\n",
        "    recall_scores = []\n",
        "    f1_scores = []\n",
        "\n",
        "    for filename in os.listdir(evaluation_data_dir):\n",
        "        if filename.endswith(\".json\"):\n",
        "            file_path = os.path.join(evaluation_data_dir, filename)\n",
        "\n",
        "            with open(file_path, \"r\", encoding=\"utf-8\") as file:\n",
        "                evaluation_data = json.load(file)\n",
        "\n",
        "            predicted_entities_all_files = []\n",
        "            expected_entities_all_files = []\n",
        "\n",
        "            for example in evaluation_data[\"annotations\"]:\n",
        "                text = example[0]\n",
        "                expected_entities = example[1][\"entities\"]\n",
        "\n",
        "                doc = nlp(text)\n",
        "                predicted_entities = [{\"start\": ent.start_char, \"end\": ent.end_char, \"label\": ent.label_} for ent in doc.ents]\n",
        "\n",
        "                unique_expected_entities = set((ent[0], ent[1], ent[2]) for ent in expected_entities)\n",
        "\n",
        "                entity_to_prediction = {}\n",
        "\n",
        "                for predicted_entity in predicted_entities:\n",
        "                    key = (predicted_entity[\"start\"], predicted_entity[\"end\"], predicted_entity[\"label\"])\n",
        "                    if key not in entity_to_prediction or (predicted_entity[\"start\"] != -1 and entity_to_prediction[key][\"start\"] == -1):\n",
        "                        entity_to_prediction[key] = predicted_entity\n",
        "\n",
        "                for expected_entity in unique_expected_entities:\n",
        "                    if expected_entity not in entity_to_prediction:\n",
        "                        entity_to_prediction[expected_entity] = {\"start\": -1, \"end\": -1, \"label\": \"NOT_PREDICTED\"}\n",
        "\n",
        "                predicted_entities_all_files.extend(list(entity_to_prediction.values()))\n",
        "                expected_entities_all_files.extend(expected_entities)\n",
        "\n",
        "            flat_predicted_entities = [ent[\"label\"] for ent in predicted_entities_all_files if ent[\"label\"] != \"NOT_PREDICTED\"]\n",
        "            flat_expected_entities = [ent[2] for ent in expected_entities_all_files]\n",
        "\n",
        "            if len(flat_predicted_entities) < len(flat_expected_entities):\n",
        "                flat_predicted_entities += [\"NOT_PREDICTED\"] * (len(flat_expected_entities) - len(flat_predicted_entities))\n",
        "            elif len(flat_predicted_entities) > len(flat_expected_entities):\n",
        "                flat_expected_entities += [\"NOT_PREDICTED\"] * (len(flat_predicted_entities) - len(flat_expected_entities))\n",
        "\n",
        "            precision = precision_score(flat_expected_entities, flat_predicted_entities, average=\"weighted\", zero_division=1)\n",
        "            recall = recall_score(flat_expected_entities, flat_predicted_entities, average=\"weighted\")\n",
        "            f1 = f1_score(flat_expected_entities, flat_predicted_entities, average=\"weighted\")\n",
        "\n",
        "            precision_scores.append(precision)\n",
        "            recall_scores.append(recall)\n",
        "            f1_scores.append(f1)\n",
        "\n",
        "    avg_precision = sum(precision_scores) / len(precision_scores) if precision_scores else 0\n",
        "    avg_recall = sum(recall_scores) / len(recall_scores) if recall_scores else 0\n",
        "    avg_f1 = sum(f1_scores) / len(f1_scores) if f1_scores else 0\n",
        "\n",
        "    return avg_precision, avg_recall, avg_f1\n",
        "\n",
        "# Specify the paths to the model directories\n",
        "model_paths = {\n",
        "    \"en_core_web_sm\": \"/content/model_sm\",\n",
        "    \"en_core_web_md\": \"/content/model_md\",\n",
        "    \"en_core_web_lg\": \"/content/model_lg\",\n",
        "}\n",
        "\n",
        "# Specify the directory containing your evaluation data files\n",
        "evaluation_data_dir = \"/content/data_set/test/entities\"\n",
        "\n",
        "# Evaluate each model\n",
        "precision_scores = []\n",
        "recall_scores = []\n",
        "f1_scores = []\n",
        "\n",
        "for model_name, model_path in model_paths.items():\n",
        "    nlp = spacy.load(model_path)\n",
        "    precision, recall, f1 = evaluate_model(nlp, evaluation_data_dir)\n",
        "\n",
        "    # Print the metrics for each model\n",
        "    print(f\"Metrics for {model_name}:\")\n",
        "    print(f\"Precision: {precision:.4f}, Recall: {recall:.4f}, F1 Score: {f1:.4f}\")\n",
        "    print(\"=\" * 50)\n",
        "\n",
        "    # Append metrics to lists for visualization\n",
        "    precision_scores.append(precision)\n",
        "    recall_scores.append(recall)\n",
        "    f1_scores.append(f1)\n",
        "\n",
        "# Visualize the comparison using bar charts\n",
        "labels = list(model_paths.keys())\n",
        "precision_values = precision_scores\n",
        "recall_values = recall_scores\n",
        "f1_values = f1_scores\n",
        "\n",
        "x = np.arange(len(labels))\n",
        "width = 0.25\n",
        "\n",
        "fig, ax = plt.subplots(figsize=(10, 6))\n",
        "rects1 = ax.bar(x - width, precision_values, width, label='Precision')\n",
        "rects2 = ax.bar(x, recall_values, width, label='Recall')\n",
        "rects3 = ax.bar(x + width, f1_values, width, label='F1 Score')\n",
        "\n",
        "ax.set_ylabel('Scores')\n",
        "ax.set_title('Comparison of NER Models')\n",
        "ax.set_xticks(x)\n",
        "ax.set_xticklabels(labels)\n",
        "ax.legend()\n",
        "\n",
        "fig.tight_layout()\n",
        "plt.show()\n"
      ],
      "metadata": {
        "colab": {
          "base_uri": "https://localhost:8080/",
          "height": 853
        },
        "id": "4S4SvPGGWIed",
        "outputId": "71390214-923f-4315-8845-5d4d4c8645b7"
      },
      "execution_count": null,
      "outputs": [
        {
          "output_type": "stream",
          "name": "stdout",
          "text": [
            "Metrics for en_core_web_sm:\n",
            "Precision: 0.9574, Recall: 0.9148, F1 Score: 0.8864\n",
            "==================================================\n",
            "Metrics for en_core_web_md:\n",
            "Precision: 0.9667, Recall: 0.9333, F1 Score: 0.9111\n",
            "==================================================\n"
          ]
        },
        {
          "output_type": "stream",
          "name": "stderr",
          "text": [
            "/usr/local/lib/python3.10/dist-packages/sklearn/metrics/_classification.py:1344: UndefinedMetricWarning: Recall is ill-defined and being set to 0.0 in labels with no true samples. Use `zero_division` parameter to control this behavior.\n",
            "  _warn_prf(average, modifier, msg_start, len(result))\n",
            "/usr/local/lib/python3.10/dist-packages/sklearn/metrics/_classification.py:1344: UndefinedMetricWarning: Recall is ill-defined and being set to 0.0 in labels with no true samples. Use `zero_division` parameter to control this behavior.\n",
            "  _warn_prf(average, modifier, msg_start, len(result))\n"
          ]
        },
        {
          "output_type": "stream",
          "name": "stdout",
          "text": [
            "Metrics for en_core_web_lg:\n",
            "Precision: 0.8556, Recall: 0.8000, F1 Score: 0.7926\n",
            "==================================================\n"
          ]
        },
        {
          "output_type": "display_data",
          "data": {
            "text/plain": [
              "<Figure size 1000x600 with 1 Axes>"
            ],
            "image/png": "[encoded data removed]"
          },
          "metadata": {}
        }
      ]
    },
    {
      "cell_type": "code",
      "source": [
        "import spacy\n",
        "import json\n",
        "import os\n",
        "import random\n",
        "import matplotlib.pyplot as plt\n",
        "import seaborn as sns\n",
        "from sklearn.metrics import precision_score, recall_score, f1_score\n",
        "from spacy.training.example import Example\n",
        "\n",
        "# Load your spaCy NER model (you can use a blank model if you don't have a pre-trained model)\n",
        "nlp = spacy.load(\"en_core_web_sm\")\n",
        "\n",
        "# Specify the directory containing your training data files\n",
        "training_data_dir = \"/content/data_set/train/entities\"\n",
        "\n",
        "# Specify the directory containing your evaluation data files\n",
        "evaluation_data_dir = \"/content/data_set/test/entities\"\n",
        "\n",
        "def evaluate_model(nlp, evaluation_data_dir):\n",
        "    precision_scores = []\n",
        "    recall_scores = []\n",
        "    f1_scores = []\n",
        "\n",
        "    for filename in os.listdir(evaluation_data_dir):\n",
        "        if filename.endswith(\".json\"):\n",
        "            file_path = os.path.join(evaluation_data_dir, filename)\n",
        "\n",
        "            with open(file_path, \"r\", encoding=\"utf-8\") as file:\n",
        "                evaluation_data = json.load(file)\n",
        "\n",
        "            predicted_entities_all_files = []\n",
        "            expected_entities_all_files = []\n",
        "\n",
        "            for example in evaluation_data[\"annotations\"]:\n",
        "                text = example[0]\n",
        "                expected_entities = example[1][\"entities\"]\n",
        "\n",
        "                doc = nlp(text)\n",
        "                predicted_entities = [{\"start\": ent.start_char, \"end\": ent.end_char, \"label\": ent.label_} for ent in doc.ents]\n",
        "\n",
        "                unique_expected_entities = set((ent[0], ent[1], ent[2]) for ent in expected_entities)\n",
        "\n",
        "                entity_to_prediction = {}\n",
        "\n",
        "                for predicted_entity in predicted_entities:\n",
        "                    key = (predicted_entity[\"start\"], predicted_entity[\"end\"], predicted_entity[\"label\"])\n",
        "                    if key not in entity_to_prediction or (predicted_entity[\"start\"] != -1 and entity_to_prediction[key][\"start\"] == -1):\n",
        "                        entity_to_prediction[key] = predicted_entity\n",
        "\n",
        "                for expected_entity in unique_expected_entities:\n",
        "                    if expected_entity not in entity_to_prediction:\n",
        "                        entity_to_prediction[expected_entity] = {\"start\": -1, \"end\": -1, \"label\": \"NOT_PREDICTED\"}\n",
        "\n",
        "                predicted_entities_all_files.extend(list(entity_to_prediction.values()))\n",
        "                expected_entities_all_files.extend(expected_entities)\n",
        "\n",
        "            flat_predicted_entities = [ent[\"label\"] for ent in predicted_entities_all_files if ent[\"label\"] != \"NOT_PREDICTED\"]\n",
        "            flat_expected_entities = [ent[2] for ent in expected_entities_all_files]\n",
        "\n",
        "            if len(flat_predicted_entities) < len(flat_expected_entities):\n",
        "                flat_predicted_entities += [\"NOT_PREDICTED\"] * (len(flat_expected_entities) - len(flat_predicted_entities))\n",
        "            elif len(flat_predicted_entities) > len(flat_expected_entities):\n",
        "                flat_expected_entities += [\"NOT_PREDICTED\"] * (len(flat_predicted_entities) - len(flat_expected_entities))\n",
        "\n",
        "            precision = precision_score(flat_expected_entities, flat_predicted_entities, average=\"weighted\", zero_division=1)\n",
        "            recall = recall_score(flat_expected_entities, flat_predicted_entities, average=\"weighted\")\n",
        "            f1 = f1_score(flat_expected_entities, flat_predicted_entities, average=\"weighted\")\n",
        "\n",
        "            precision_scores.append(precision)\n",
        "            recall_scores.append(recall)\n",
        "            f1_scores.append(f1)\n",
        "\n",
        "    avg_precision = sum(precision_scores) / len(precision_scores) if precision_scores else 0\n",
        "    avg_recall = sum(recall_scores) / len(recall_scores) if recall_scores else 0\n",
        "    avg_f1 = sum(f1_scores) / len(f1_scores) if f1_scores else 0\n",
        "\n",
        "    return avg_precision, avg_recall, avg_f1\n",
        "\n",
        "\n",
        "# Initialize lists to store metrics for each epoch\n",
        "epoch_list = []\n",
        "precision_scores = []\n",
        "recall_scores = []\n",
        "f1_scores = []\n",
        "\n",
        "# Training loop\n",
        "epochs = 60\n",
        "dropout_rate = 0.5\n",
        "\n",
        "for epoch in range(epochs):\n",
        "    all_losses = {}\n",
        "\n",
        "    # Loop through each training file in the directory\n",
        "    for filename in os.listdir(training_data_dir):\n",
        "        if filename.endswith(\".json\"):\n",
        "            file_path = os.path.join(training_data_dir, filename)\n",
        "\n",
        "            # Load JSON file\n",
        "            with open(file_path, \"r\", encoding=\"utf-8\") as file:\n",
        "                training_data = json.load(file)\n",
        "\n",
        "            # Shuffle the list of annotations in the training data\n",
        "            random.shuffle(training_data[\"annotations\"])\n",
        "            losses = {}\n",
        "\n",
        "            # Process each example in the file\n",
        "            for example in training_data[\"annotations\"]:\n",
        "                text = example[0]\n",
        "                entities = example[1][\"entities\"]\n",
        "\n",
        "                # Create a spaCy Doc object\n",
        "                doc = nlp.make_doc(text)\n",
        "\n",
        "                # Update the NER model with the example\n",
        "                example = Example.from_dict(doc, {\"entities\": entities})\n",
        "                nlp.update([example], drop=dropout_rate, losses=losses)\n",
        "\n",
        "            # Print loss for each file\n",
        "            avg_loss = losses.get(\"ner\", 0.0)\n",
        "\n",
        "            # Collect losses for all files\n",
        "            all_losses.setdefault(\"ner\", []).append(avg_loss)\n",
        "\n",
        "    # Print average loss for the epoch\n",
        "    avg_loss_all_files = sum(all_losses.get(\"ner\", [])) / len(all_losses.get(\"ner\", [])) if all_losses.get(\"ner\") else 0\n",
        "    print(f\"Epoch {epoch + 1}, Avg. Loss (All Files): {avg_loss_all_files:.2f}\")\n",
        "\n",
        "    # Evaluate the model on your evaluation data\n",
        "    precision, recall, f1 = evaluate_model(nlp, evaluation_data_dir)\n",
        "\n",
        "    # Print or store the metrics for the current epoch\n",
        "    print(f\"\\nEpoch: {epoch + 1}\")\n",
        "    print(f\"Precision: {precision:.4f}, Recall: {recall:.4f}, F1 Score: {f1:.4f}\")\n",
        "\n",
        "    # Append metrics to the lists\n",
        "    epoch_list.append(epoch + 1)\n",
        "    precision_scores.append(precision)\n",
        "    recall_scores.append(recall)\n",
        "    f1_scores.append(f1)\n",
        "\n"
      ],
      "metadata": {
        "colab": {
          "base_uri": "https://localhost:8080/"
        },
        "id": "3cY5Qse4Sv5i",
        "outputId": "96c819a6-9d72-4480-9ef1-43d813a8934c"
      },
      "execution_count": null,
      "outputs": [
        {
          "output_type": "stream",
          "name": "stdout",
          "text": [
            "Epoch 1, Avg. Loss (All Files): 11.38\n",
            "\n",
            "Epoch: 1\n",
            "Precision: 1.0000, Recall: 0.0000, F1 Score: 0.0000\n"
          ]
        },
        {
          "output_type": "stream",
          "name": "stderr",
          "text": [
            "/usr/local/lib/python3.10/dist-packages/sklearn/metrics/_classification.py:1344: UndefinedMetricWarning: Recall is ill-defined and being set to 0.0 in labels with no true samples. Use `zero_division` parameter to control this behavior.\n",
            "  _warn_prf(average, modifier, msg_start, len(result))\n",
            "/usr/local/lib/python3.10/dist-packages/sklearn/metrics/_classification.py:1344: UndefinedMetricWarning: Recall is ill-defined and being set to 0.0 in labels with no true samples. Use `zero_division` parameter to control this behavior.\n",
            "  _warn_prf(average, modifier, msg_start, len(result))\n",
            "/usr/local/lib/python3.10/dist-packages/sklearn/metrics/_classification.py:1344: UndefinedMetricWarning: Recall is ill-defined and being set to 0.0 in labels with no true samples. Use `zero_division` parameter to control this behavior.\n",
            "  _warn_prf(average, modifier, msg_start, len(result))\n",
            "/usr/local/lib/python3.10/dist-packages/sklearn/metrics/_classification.py:1344: UndefinedMetricWarning: Recall is ill-defined and being set to 0.0 in labels with no true samples. Use `zero_division` parameter to control this behavior.\n",
            "  _warn_prf(average, modifier, msg_start, len(result))\n",
            "/usr/local/lib/python3.10/dist-packages/sklearn/metrics/_classification.py:1344: UndefinedMetricWarning: Recall is ill-defined and being set to 0.0 in labels with no true samples. Use `zero_division` parameter to control this behavior.\n",
            "  _warn_prf(average, modifier, msg_start, len(result))\n",
            "/usr/local/lib/python3.10/dist-packages/sklearn/metrics/_classification.py:1344: UndefinedMetricWarning: Recall is ill-defined and being set to 0.0 in labels with no true samples. Use `zero_division` parameter to control this behavior.\n",
            "  _warn_prf(average, modifier, msg_start, len(result))\n",
            "/usr/local/lib/python3.10/dist-packages/sklearn/metrics/_classification.py:1344: UndefinedMetricWarning: Recall is ill-defined and being set to 0.0 in labels with no true samples. Use `zero_division` parameter to control this behavior.\n",
            "  _warn_prf(average, modifier, msg_start, len(result))\n",
            "/usr/local/lib/python3.10/dist-packages/sklearn/metrics/_classification.py:1344: UndefinedMetricWarning: Recall is ill-defined and being set to 0.0 in labels with no true samples. Use `zero_division` parameter to control this behavior.\n",
            "  _warn_prf(average, modifier, msg_start, len(result))\n",
            "/usr/local/lib/python3.10/dist-packages/sklearn/metrics/_classification.py:1344: UndefinedMetricWarning: Recall is ill-defined and being set to 0.0 in labels with no true samples. Use `zero_division` parameter to control this behavior.\n",
            "  _warn_prf(average, modifier, msg_start, len(result))\n"
          ]
        },
        {
          "output_type": "stream",
          "name": "stdout",
          "text": [
            "Epoch 2, Avg. Loss (All Files): 8.10\n",
            "\n",
            "Epoch: 2\n",
            "Precision: 0.9111, Recall: 0.0000, F1 Score: 0.0000\n"
          ]
        },
        {
          "output_type": "stream",
          "name": "stderr",
          "text": [
            "/usr/local/lib/python3.10/dist-packages/sklearn/metrics/_classification.py:1344: UndefinedMetricWarning: Recall is ill-defined and being set to 0.0 in labels with no true samples. Use `zero_division` parameter to control this behavior.\n",
            "  _warn_prf(average, modifier, msg_start, len(result))\n",
            "/usr/local/lib/python3.10/dist-packages/sklearn/metrics/_classification.py:1344: UndefinedMetricWarning: Recall is ill-defined and being set to 0.0 in labels with no true samples. Use `zero_division` parameter to control this behavior.\n",
            "  _warn_prf(average, modifier, msg_start, len(result))\n",
            "/usr/local/lib/python3.10/dist-packages/sklearn/metrics/_classification.py:1344: UndefinedMetricWarning: Recall is ill-defined and being set to 0.0 in labels with no true samples. Use `zero_division` parameter to control this behavior.\n",
            "  _warn_prf(average, modifier, msg_start, len(result))\n",
            "/usr/local/lib/python3.10/dist-packages/sklearn/metrics/_classification.py:1344: UndefinedMetricWarning: Recall is ill-defined and being set to 0.0 in labels with no true samples. Use `zero_division` parameter to control this behavior.\n",
            "  _warn_prf(average, modifier, msg_start, len(result))\n",
            "/usr/local/lib/python3.10/dist-packages/sklearn/metrics/_classification.py:1344: UndefinedMetricWarning: Recall is ill-defined and being set to 0.0 in labels with no true samples. Use `zero_division` parameter to control this behavior.\n",
            "  _warn_prf(average, modifier, msg_start, len(result))\n",
            "/usr/local/lib/python3.10/dist-packages/sklearn/metrics/_classification.py:1344: UndefinedMetricWarning: Recall is ill-defined and being set to 0.0 in labels with no true samples. Use `zero_division` parameter to control this behavior.\n",
            "  _warn_prf(average, modifier, msg_start, len(result))\n",
            "/usr/local/lib/python3.10/dist-packages/sklearn/metrics/_classification.py:1344: UndefinedMetricWarning: Recall is ill-defined and being set to 0.0 in labels with no true samples. Use `zero_division` parameter to control this behavior.\n",
            "  _warn_prf(average, modifier, msg_start, len(result))\n",
            "/usr/local/lib/python3.10/dist-packages/sklearn/metrics/_classification.py:1344: UndefinedMetricWarning: Recall is ill-defined and being set to 0.0 in labels with no true samples. Use `zero_division` parameter to control this behavior.\n",
            "  _warn_prf(average, modifier, msg_start, len(result))\n",
            "/usr/local/lib/python3.10/dist-packages/sklearn/metrics/_classification.py:1344: UndefinedMetricWarning: Recall is ill-defined and being set to 0.0 in labels with no true samples. Use `zero_division` parameter to control this behavior.\n",
            "  _warn_prf(average, modifier, msg_start, len(result))\n"
          ]
        },
        {
          "output_type": "stream",
          "name": "stdout",
          "text": [
            "Epoch 3, Avg. Loss (All Files): 9.40\n",
            "\n",
            "Epoch: 3\n",
            "Precision: 0.6852, Recall: 0.2222, F1 Score: 0.1741\n"
          ]
        },
        {
          "output_type": "stream",
          "name": "stderr",
          "text": [
            "/usr/local/lib/python3.10/dist-packages/sklearn/metrics/_classification.py:1344: UndefinedMetricWarning: Recall is ill-defined and being set to 0.0 in labels with no true samples. Use `zero_division` parameter to control this behavior.\n",
            "  _warn_prf(average, modifier, msg_start, len(result))\n",
            "/usr/local/lib/python3.10/dist-packages/sklearn/metrics/_classification.py:1344: UndefinedMetricWarning: Recall is ill-defined and being set to 0.0 in labels with no true samples. Use `zero_division` parameter to control this behavior.\n",
            "  _warn_prf(average, modifier, msg_start, len(result))\n",
            "/usr/local/lib/python3.10/dist-packages/sklearn/metrics/_classification.py:1344: UndefinedMetricWarning: Recall is ill-defined and being set to 0.0 in labels with no true samples. Use `zero_division` parameter to control this behavior.\n",
            "  _warn_prf(average, modifier, msg_start, len(result))\n",
            "/usr/local/lib/python3.10/dist-packages/sklearn/metrics/_classification.py:1344: UndefinedMetricWarning: Recall is ill-defined and being set to 0.0 in labels with no true samples. Use `zero_division` parameter to control this behavior.\n",
            "  _warn_prf(average, modifier, msg_start, len(result))\n",
            "/usr/local/lib/python3.10/dist-packages/sklearn/metrics/_classification.py:1344: UndefinedMetricWarning: Recall is ill-defined and being set to 0.0 in labels with no true samples. Use `zero_division` parameter to control this behavior.\n",
            "  _warn_prf(average, modifier, msg_start, len(result))\n",
            "/usr/local/lib/python3.10/dist-packages/sklearn/metrics/_classification.py:1344: UndefinedMetricWarning: Recall is ill-defined and being set to 0.0 in labels with no true samples. Use `zero_division` parameter to control this behavior.\n",
            "  _warn_prf(average, modifier, msg_start, len(result))\n",
            "/usr/local/lib/python3.10/dist-packages/sklearn/metrics/_classification.py:1344: UndefinedMetricWarning: Recall is ill-defined and being set to 0.0 in labels with no true samples. Use `zero_division` parameter to control this behavior.\n",
            "  _warn_prf(average, modifier, msg_start, len(result))\n"
          ]
        },
        {
          "output_type": "stream",
          "name": "stdout",
          "text": [
            "Epoch 4, Avg. Loss (All Files): 10.74\n",
            "\n",
            "Epoch: 4\n",
            "Precision: 0.6926, Recall: 0.4444, F1 Score: 0.3704\n"
          ]
        },
        {
          "output_type": "stream",
          "name": "stderr",
          "text": [
            "/usr/local/lib/python3.10/dist-packages/sklearn/metrics/_classification.py:1344: UndefinedMetricWarning: Recall is ill-defined and being set to 0.0 in labels with no true samples. Use `zero_division` parameter to control this behavior.\n",
            "  _warn_prf(average, modifier, msg_start, len(result))\n",
            "/usr/local/lib/python3.10/dist-packages/sklearn/metrics/_classification.py:1344: UndefinedMetricWarning: Recall is ill-defined and being set to 0.0 in labels with no true samples. Use `zero_division` parameter to control this behavior.\n",
            "  _warn_prf(average, modifier, msg_start, len(result))\n",
            "/usr/local/lib/python3.10/dist-packages/sklearn/metrics/_classification.py:1344: UndefinedMetricWarning: Recall is ill-defined and being set to 0.0 in labels with no true samples. Use `zero_division` parameter to control this behavior.\n",
            "  _warn_prf(average, modifier, msg_start, len(result))\n"
          ]
        },
        {
          "output_type": "stream",
          "name": "stdout",
          "text": [
            "Epoch 5, Avg. Loss (All Files): 11.26\n"
          ]
        },
        {
          "output_type": "stream",
          "name": "stderr",
          "text": [
            "/usr/local/lib/python3.10/dist-packages/sklearn/metrics/_classification.py:1344: UndefinedMetricWarning: Recall is ill-defined and being set to 0.0 in labels with no true samples. Use `zero_division` parameter to control this behavior.\n",
            "  _warn_prf(average, modifier, msg_start, len(result))\n",
            "/usr/local/lib/python3.10/dist-packages/sklearn/metrics/_classification.py:1344: UndefinedMetricWarning: Recall is ill-defined and being set to 0.0 in labels with no true samples. Use `zero_division` parameter to control this behavior.\n",
            "  _warn_prf(average, modifier, msg_start, len(result))\n",
            "/usr/local/lib/python3.10/dist-packages/sklearn/metrics/_classification.py:1344: UndefinedMetricWarning: Recall is ill-defined and being set to 0.0 in labels with no true samples. Use `zero_division` parameter to control this behavior.\n",
            "  _warn_prf(average, modifier, msg_start, len(result))\n",
            "/usr/local/lib/python3.10/dist-packages/sklearn/metrics/_classification.py:1344: UndefinedMetricWarning: Recall is ill-defined and being set to 0.0 in labels with no true samples. Use `zero_division` parameter to control this behavior.\n",
            "  _warn_prf(average, modifier, msg_start, len(result))\n",
            "/usr/local/lib/python3.10/dist-packages/sklearn/metrics/_classification.py:1344: UndefinedMetricWarning: Recall is ill-defined and being set to 0.0 in labels with no true samples. Use `zero_division` parameter to control this behavior.\n",
            "  _warn_prf(average, modifier, msg_start, len(result))\n",
            "/usr/local/lib/python3.10/dist-packages/sklearn/metrics/_classification.py:1344: UndefinedMetricWarning: Recall is ill-defined and being set to 0.0 in labels with no true samples. Use `zero_division` parameter to control this behavior.\n",
            "  _warn_prf(average, modifier, msg_start, len(result))\n",
            "/usr/local/lib/python3.10/dist-packages/sklearn/metrics/_classification.py:1344: UndefinedMetricWarning: Recall is ill-defined and being set to 0.0 in labels with no true samples. Use `zero_division` parameter to control this behavior.\n",
            "  _warn_prf(average, modifier, msg_start, len(result))\n",
            "/usr/local/lib/python3.10/dist-packages/sklearn/metrics/_classification.py:1344: UndefinedMetricWarning: Recall is ill-defined and being set to 0.0 in labels with no true samples. Use `zero_division` parameter to control this behavior.\n",
            "  _warn_prf(average, modifier, msg_start, len(result))\n",
            "/usr/local/lib/python3.10/dist-packages/sklearn/metrics/_classification.py:1344: UndefinedMetricWarning: Recall is ill-defined and being set to 0.0 in labels with no true samples. Use `zero_division` parameter to control this behavior.\n",
            "  _warn_prf(average, modifier, msg_start, len(result))\n"
          ]
        },
        {
          "output_type": "stream",
          "name": "stdout",
          "text": [
            "\n",
            "Epoch: 5\n",
            "Precision: 0.7333, Recall: 0.2000, F1 Score: 0.1852\n",
            "Epoch 6, Avg. Loss (All Files): 6.53\n"
          ]
        },
        {
          "output_type": "stream",
          "name": "stderr",
          "text": [
            "/usr/local/lib/python3.10/dist-packages/sklearn/metrics/_classification.py:1344: UndefinedMetricWarning: Recall is ill-defined and being set to 0.0 in labels with no true samples. Use `zero_division` parameter to control this behavior.\n",
            "  _warn_prf(average, modifier, msg_start, len(result))\n",
            "/usr/local/lib/python3.10/dist-packages/sklearn/metrics/_classification.py:1344: UndefinedMetricWarning: Recall is ill-defined and being set to 0.0 in labels with no true samples. Use `zero_division` parameter to control this behavior.\n",
            "  _warn_prf(average, modifier, msg_start, len(result))\n",
            "/usr/local/lib/python3.10/dist-packages/sklearn/metrics/_classification.py:1344: UndefinedMetricWarning: Recall is ill-defined and being set to 0.0 in labels with no true samples. Use `zero_division` parameter to control this behavior.\n",
            "  _warn_prf(average, modifier, msg_start, len(result))\n"
          ]
        },
        {
          "output_type": "stream",
          "name": "stdout",
          "text": [
            "\n",
            "Epoch: 6\n",
            "Precision: 0.7296, Recall: 0.4667, F1 Score: 0.4000\n",
            "Epoch 7, Avg. Loss (All Files): 15.92\n"
          ]
        },
        {
          "output_type": "stream",
          "name": "stderr",
          "text": [
            "/usr/local/lib/python3.10/dist-packages/sklearn/metrics/_classification.py:1344: UndefinedMetricWarning: Recall is ill-defined and being set to 0.0 in labels with no true samples. Use `zero_division` parameter to control this behavior.\n",
            "  _warn_prf(average, modifier, msg_start, len(result))\n",
            "/usr/local/lib/python3.10/dist-packages/sklearn/metrics/_classification.py:1344: UndefinedMetricWarning: Recall is ill-defined and being set to 0.0 in labels with no true samples. Use `zero_division` parameter to control this behavior.\n",
            "  _warn_prf(average, modifier, msg_start, len(result))\n"
          ]
        },
        {
          "output_type": "stream",
          "name": "stdout",
          "text": [
            "\n",
            "Epoch: 7\n",
            "Precision: 0.7481, Recall: 0.5111, F1 Score: 0.4407\n",
            "Epoch 8, Avg. Loss (All Files): 5.04\n",
            "\n",
            "Epoch: 8\n",
            "Precision: 0.8519, Recall: 0.7333, F1 Score: 0.6630\n",
            "Epoch 9, Avg. Loss (All Files): 4.60\n",
            "\n",
            "Epoch: 9\n",
            "Precision: 0.8741, Recall: 0.7556, F1 Score: 0.6852\n",
            "Epoch 10, Avg. Loss (All Files): 4.11\n",
            "\n",
            "Epoch: 10\n",
            "Precision: 0.8074, Recall: 0.7111, F1 Score: 0.6556\n",
            "Epoch 11, Avg. Loss (All Files): 4.36\n"
          ]
        },
        {
          "output_type": "stream",
          "name": "stderr",
          "text": [
            "/usr/local/lib/python3.10/dist-packages/sklearn/metrics/_classification.py:1344: UndefinedMetricWarning: Recall is ill-defined and being set to 0.0 in labels with no true samples. Use `zero_division` parameter to control this behavior.\n",
            "  _warn_prf(average, modifier, msg_start, len(result))\n"
          ]
        },
        {
          "output_type": "stream",
          "name": "stdout",
          "text": [
            "\n",
            "Epoch: 11\n",
            "Precision: 0.8519, Recall: 0.7333, F1 Score: 0.6778\n",
            "Epoch 12, Avg. Loss (All Files): 3.51\n",
            "\n",
            "Epoch: 12\n",
            "Precision: 0.9185, Recall: 0.8222, F1 Score: 0.7667\n",
            "Epoch 13, Avg. Loss (All Files): 3.20\n",
            "\n",
            "Epoch: 13\n",
            "Precision: 0.9185, Recall: 0.8222, F1 Score: 0.7667\n",
            "Epoch 14, Avg. Loss (All Files): 3.27\n",
            "\n",
            "Epoch: 14\n",
            "Precision: 0.9185, Recall: 0.8222, F1 Score: 0.7667\n",
            "Epoch 15, Avg. Loss (All Files): 4.75\n",
            "\n",
            "Epoch: 15\n",
            "Precision: 0.9185, Recall: 0.8222, F1 Score: 0.7667\n",
            "Epoch 16, Avg. Loss (All Files): 3.05\n",
            "\n",
            "Epoch: 16\n",
            "Precision: 0.9352, Recall: 0.8704, F1 Score: 0.8272\n",
            "Epoch 17, Avg. Loss (All Files): 3.53\n",
            "\n",
            "Epoch: 17\n",
            "Precision: 0.9074, Recall: 0.8000, F1 Score: 0.7370\n",
            "Epoch 18, Avg. Loss (All Files): 2.97\n",
            "\n",
            "Epoch: 18\n",
            "Precision: 0.9463, Recall: 0.8926, F1 Score: 0.8568\n",
            "Epoch 19, Avg. Loss (All Files): 2.24\n",
            "\n",
            "Epoch: 19\n",
            "Precision: 0.9444, Recall: 0.8889, F1 Score: 0.8519\n",
            "Epoch 20, Avg. Loss (All Files): 1.95\n",
            "\n",
            "Epoch: 20\n",
            "Precision: 0.9667, Recall: 0.9333, F1 Score: 0.9111\n",
            "Epoch 21, Avg. Loss (All Files): 1.54\n",
            "\n",
            "Epoch: 21\n",
            "Precision: 0.9574, Recall: 0.9148, F1 Score: 0.8864\n",
            "Epoch 22, Avg. Loss (All Files): 1.81\n",
            "\n",
            "Epoch: 22\n",
            "Precision: 0.9685, Recall: 0.9370, F1 Score: 0.9160\n",
            "Epoch 23, Avg. Loss (All Files): 1.38\n",
            "\n",
            "Epoch: 23\n",
            "Precision: 0.9667, Recall: 0.9333, F1 Score: 0.9111\n",
            "Epoch 24, Avg. Loss (All Files): 1.63\n",
            "\n",
            "Epoch: 24\n",
            "Precision: 0.9667, Recall: 0.9333, F1 Score: 0.9111\n",
            "Epoch 25, Avg. Loss (All Files): 1.54\n",
            "\n",
            "Epoch: 25\n",
            "Precision: 0.9296, Recall: 0.8444, F1 Score: 0.7963\n",
            "Epoch 26, Avg. Loss (All Files): 1.35\n",
            "\n",
            "Epoch: 26\n",
            "Precision: 0.9463, Recall: 0.8926, F1 Score: 0.8568\n",
            "Epoch 27, Avg. Loss (All Files): 1.27\n",
            "\n",
            "Epoch: 27\n",
            "Precision: 0.9667, Recall: 0.9333, F1 Score: 0.9111\n",
            "Epoch 28, Avg. Loss (All Files): 1.21\n",
            "\n",
            "Epoch: 28\n",
            "Precision: 0.9778, Recall: 0.9556, F1 Score: 0.9407\n",
            "Epoch 29, Avg. Loss (All Files): 1.27\n",
            "\n",
            "Epoch: 29\n",
            "Precision: 0.9556, Recall: 0.9111, F1 Score: 0.8815\n",
            "Epoch 30, Avg. Loss (All Files): 1.08\n",
            "\n",
            "Epoch: 30\n",
            "Precision: 0.9667, Recall: 0.9333, F1 Score: 0.9111\n",
            "Epoch 31, Avg. Loss (All Files): 1.11\n",
            "\n",
            "Epoch: 31\n",
            "Precision: 0.9778, Recall: 0.9556, F1 Score: 0.9407\n",
            "Epoch 32, Avg. Loss (All Files): 1.09\n",
            "\n",
            "Epoch: 32\n",
            "Precision: 0.8889, Recall: 0.8444, F1 Score: 0.8296\n"
          ]
        },
        {
          "output_type": "stream",
          "name": "stderr",
          "text": [
            "/usr/local/lib/python3.10/dist-packages/sklearn/metrics/_classification.py:1344: UndefinedMetricWarning: Recall is ill-defined and being set to 0.0 in labels with no true samples. Use `zero_division` parameter to control this behavior.\n",
            "  _warn_prf(average, modifier, msg_start, len(result))\n"
          ]
        },
        {
          "output_type": "stream",
          "name": "stdout",
          "text": [
            "Epoch 33, Avg. Loss (All Files): 0.44\n",
            "\n",
            "Epoch: 33\n",
            "Precision: 0.8889, Recall: 0.8444, F1 Score: 0.8296\n"
          ]
        },
        {
          "output_type": "stream",
          "name": "stderr",
          "text": [
            "/usr/local/lib/python3.10/dist-packages/sklearn/metrics/_classification.py:1344: UndefinedMetricWarning: Recall is ill-defined and being set to 0.0 in labels with no true samples. Use `zero_division` parameter to control this behavior.\n",
            "  _warn_prf(average, modifier, msg_start, len(result))\n"
          ]
        },
        {
          "output_type": "stream",
          "name": "stdout",
          "text": [
            "Epoch 34, Avg. Loss (All Files): 0.73\n",
            "\n",
            "Epoch: 34\n",
            "Precision: 0.9778, Recall: 0.9556, F1 Score: 0.9407\n",
            "Epoch 35, Avg. Loss (All Files): 1.06\n",
            "\n",
            "Epoch: 35\n",
            "Precision: 0.9778, Recall: 0.9556, F1 Score: 0.9407\n",
            "Epoch 36, Avg. Loss (All Files): 0.85\n",
            "\n",
            "Epoch: 36\n",
            "Precision: 0.9667, Recall: 0.9333, F1 Score: 0.9111\n",
            "Epoch 37, Avg. Loss (All Files): 0.44\n",
            "\n",
            "Epoch: 37\n",
            "Precision: 0.9667, Recall: 0.9333, F1 Score: 0.9111\n",
            "Epoch 38, Avg. Loss (All Files): 0.47\n",
            "\n",
            "Epoch: 38\n",
            "Precision: 0.9667, Recall: 0.9333, F1 Score: 0.9111\n",
            "Epoch 39, Avg. Loss (All Files): 0.54\n",
            "\n",
            "Epoch: 39\n",
            "Precision: 0.9667, Recall: 0.9333, F1 Score: 0.9111\n",
            "Epoch 40, Avg. Loss (All Files): 0.53\n",
            "\n",
            "Epoch: 40\n",
            "Precision: 0.9667, Recall: 0.9333, F1 Score: 0.9111\n",
            "Epoch 41, Avg. Loss (All Files): 0.39\n",
            "\n",
            "Epoch: 41\n",
            "Precision: 0.9481, Recall: 0.8963, F1 Score: 0.8617\n",
            "Epoch 42, Avg. Loss (All Files): 0.59\n",
            "\n",
            "Epoch: 42\n",
            "Precision: 0.9667, Recall: 0.9333, F1 Score: 0.9111\n",
            "Epoch 43, Avg. Loss (All Files): 0.38\n",
            "\n",
            "Epoch: 43\n",
            "Precision: 0.9667, Recall: 0.9333, F1 Score: 0.9111\n",
            "Epoch 44, Avg. Loss (All Files): 0.58\n",
            "\n",
            "Epoch: 44\n",
            "Precision: 0.9667, Recall: 0.9333, F1 Score: 0.9111\n",
            "Epoch 45, Avg. Loss (All Files): 0.20\n",
            "\n",
            "Epoch: 45\n",
            "Precision: 0.8889, Recall: 0.8444, F1 Score: 0.8296\n"
          ]
        },
        {
          "output_type": "stream",
          "name": "stderr",
          "text": [
            "/usr/local/lib/python3.10/dist-packages/sklearn/metrics/_classification.py:1344: UndefinedMetricWarning: Recall is ill-defined and being set to 0.0 in labels with no true samples. Use `zero_division` parameter to control this behavior.\n",
            "  _warn_prf(average, modifier, msg_start, len(result))\n"
          ]
        },
        {
          "output_type": "stream",
          "name": "stdout",
          "text": [
            "Epoch 46, Avg. Loss (All Files): 0.27\n",
            "\n",
            "Epoch: 46\n",
            "Precision: 0.8889, Recall: 0.8444, F1 Score: 0.8296\n"
          ]
        },
        {
          "output_type": "stream",
          "name": "stderr",
          "text": [
            "/usr/local/lib/python3.10/dist-packages/sklearn/metrics/_classification.py:1344: UndefinedMetricWarning: Recall is ill-defined and being set to 0.0 in labels with no true samples. Use `zero_division` parameter to control this behavior.\n",
            "  _warn_prf(average, modifier, msg_start, len(result))\n"
          ]
        },
        {
          "output_type": "stream",
          "name": "stdout",
          "text": [
            "Epoch 47, Avg. Loss (All Files): 0.47\n",
            "\n",
            "Epoch: 47\n",
            "Precision: 0.8889, Recall: 0.8444, F1 Score: 0.8296\n"
          ]
        },
        {
          "output_type": "stream",
          "name": "stderr",
          "text": [
            "/usr/local/lib/python3.10/dist-packages/sklearn/metrics/_classification.py:1344: UndefinedMetricWarning: Recall is ill-defined and being set to 0.0 in labels with no true samples. Use `zero_division` parameter to control this behavior.\n",
            "  _warn_prf(average, modifier, msg_start, len(result))\n"
          ]
        },
        {
          "output_type": "stream",
          "name": "stdout",
          "text": [
            "Epoch 48, Avg. Loss (All Files): 0.39\n",
            "\n",
            "Epoch: 48\n",
            "Precision: 0.8889, Recall: 0.8444, F1 Score: 0.8296\n"
          ]
        },
        {
          "output_type": "stream",
          "name": "stderr",
          "text": [
            "/usr/local/lib/python3.10/dist-packages/sklearn/metrics/_classification.py:1344: UndefinedMetricWarning: Recall is ill-defined and being set to 0.0 in labels with no true samples. Use `zero_division` parameter to control this behavior.\n",
            "  _warn_prf(average, modifier, msg_start, len(result))\n"
          ]
        },
        {
          "output_type": "stream",
          "name": "stdout",
          "text": [
            "Epoch 49, Avg. Loss (All Files): 0.21\n"
          ]
        },
        {
          "output_type": "stream",
          "name": "stderr",
          "text": [
            "/usr/local/lib/python3.10/dist-packages/sklearn/metrics/_classification.py:1344: UndefinedMetricWarning: Recall is ill-defined and being set to 0.0 in labels with no true samples. Use `zero_division` parameter to control this behavior.\n",
            "  _warn_prf(average, modifier, msg_start, len(result))\n"
          ]
        },
        {
          "output_type": "stream",
          "name": "stdout",
          "text": [
            "\n",
            "Epoch: 49\n",
            "Precision: 0.8889, Recall: 0.8444, F1 Score: 0.8296\n",
            "Epoch 50, Avg. Loss (All Files): 0.57\n",
            "\n",
            "Epoch: 50\n",
            "Precision: 0.9667, Recall: 0.9333, F1 Score: 0.9111\n",
            "Epoch 51, Avg. Loss (All Files): 0.59\n"
          ]
        },
        {
          "output_type": "stream",
          "name": "stderr",
          "text": [
            "/usr/local/lib/python3.10/dist-packages/sklearn/metrics/_classification.py:1344: UndefinedMetricWarning: Recall is ill-defined and being set to 0.0 in labels with no true samples. Use `zero_division` parameter to control this behavior.\n",
            "  _warn_prf(average, modifier, msg_start, len(result))\n"
          ]
        },
        {
          "output_type": "stream",
          "name": "stdout",
          "text": [
            "\n",
            "Epoch: 51\n",
            "Precision: 0.8889, Recall: 0.8444, F1 Score: 0.8296\n",
            "Epoch 52, Avg. Loss (All Files): 0.36\n",
            "\n",
            "Epoch: 52\n",
            "Precision: 0.8889, Recall: 0.8444, F1 Score: 0.8296\n"
          ]
        },
        {
          "output_type": "stream",
          "name": "stderr",
          "text": [
            "/usr/local/lib/python3.10/dist-packages/sklearn/metrics/_classification.py:1344: UndefinedMetricWarning: Recall is ill-defined and being set to 0.0 in labels with no true samples. Use `zero_division` parameter to control this behavior.\n",
            "  _warn_prf(average, modifier, msg_start, len(result))\n"
          ]
        },
        {
          "output_type": "stream",
          "name": "stdout",
          "text": [
            "Epoch 53, Avg. Loss (All Files): 0.47\n",
            "\n",
            "Epoch: 53\n",
            "Precision: 0.8889, Recall: 0.8444, F1 Score: 0.8296\n"
          ]
        },
        {
          "output_type": "stream",
          "name": "stderr",
          "text": [
            "/usr/local/lib/python3.10/dist-packages/sklearn/metrics/_classification.py:1344: UndefinedMetricWarning: Recall is ill-defined and being set to 0.0 in labels with no true samples. Use `zero_division` parameter to control this behavior.\n",
            "  _warn_prf(average, modifier, msg_start, len(result))\n"
          ]
        },
        {
          "output_type": "stream",
          "name": "stdout",
          "text": [
            "Epoch 54, Avg. Loss (All Files): 0.61\n",
            "\n",
            "Epoch: 54\n",
            "Precision: 0.8889, Recall: 0.8444, F1 Score: 0.8296\n"
          ]
        },
        {
          "output_type": "stream",
          "name": "stderr",
          "text": [
            "/usr/local/lib/python3.10/dist-packages/sklearn/metrics/_classification.py:1344: UndefinedMetricWarning: Recall is ill-defined and being set to 0.0 in labels with no true samples. Use `zero_division` parameter to control this behavior.\n",
            "  _warn_prf(average, modifier, msg_start, len(result))\n"
          ]
        },
        {
          "output_type": "stream",
          "name": "stdout",
          "text": [
            "Epoch 55, Avg. Loss (All Files): 0.49\n",
            "\n",
            "Epoch: 55\n",
            "Precision: 0.9667, Recall: 0.9333, F1 Score: 0.9111\n",
            "Epoch 56, Avg. Loss (All Files): 0.68\n",
            "\n",
            "Epoch: 56\n",
            "Precision: 0.9667, Recall: 0.9333, F1 Score: 0.9111\n",
            "Epoch 57, Avg. Loss (All Files): 0.34\n"
          ]
        },
        {
          "output_type": "stream",
          "name": "stderr",
          "text": [
            "/usr/local/lib/python3.10/dist-packages/sklearn/metrics/_classification.py:1344: UndefinedMetricWarning: Recall is ill-defined and being set to 0.0 in labels with no true samples. Use `zero_division` parameter to control this behavior.\n",
            "  _warn_prf(average, modifier, msg_start, len(result))\n"
          ]
        },
        {
          "output_type": "stream",
          "name": "stdout",
          "text": [
            "\n",
            "Epoch: 57\n",
            "Precision: 0.8889, Recall: 0.8444, F1 Score: 0.8296\n",
            "Epoch 58, Avg. Loss (All Files): 0.06\n"
          ]
        },
        {
          "output_type": "stream",
          "name": "stderr",
          "text": [
            "/usr/local/lib/python3.10/dist-packages/sklearn/metrics/_classification.py:1344: UndefinedMetricWarning: Recall is ill-defined and being set to 0.0 in labels with no true samples. Use `zero_division` parameter to control this behavior.\n",
            "  _warn_prf(average, modifier, msg_start, len(result))\n"
          ]
        },
        {
          "output_type": "stream",
          "name": "stdout",
          "text": [
            "\n",
            "Epoch: 58\n",
            "Precision: 0.8889, Recall: 0.8444, F1 Score: 0.8296\n",
            "Epoch 59, Avg. Loss (All Files): 0.43\n",
            "\n",
            "Epoch: 59\n",
            "Precision: 0.8889, Recall: 0.8444, F1 Score: 0.8296\n"
          ]
        },
        {
          "output_type": "stream",
          "name": "stderr",
          "text": [
            "/usr/local/lib/python3.10/dist-packages/sklearn/metrics/_classification.py:1344: UndefinedMetricWarning: Recall is ill-defined and being set to 0.0 in labels with no true samples. Use `zero_division` parameter to control this behavior.\n",
            "  _warn_prf(average, modifier, msg_start, len(result))\n"
          ]
        },
        {
          "output_type": "stream",
          "name": "stdout",
          "text": [
            "Epoch 60, Avg. Loss (All Files): 0.69\n",
            "\n",
            "Epoch: 60\n",
            "Precision: 0.9667, Recall: 0.9333, F1 Score: 0.9111\n"
          ]
        }
      ]
    },
    {
      "cell_type": "code",
      "source": [
        "# Visualize the curves\n",
        "plt.figure(figsize=(10, 6))\n",
        "\n",
        "# Plot precision curve\n",
        "plt.plot(epoch_list, precision_scores, label='Precision', marker='o')\n",
        "\n",
        "# Plot recall curve\n",
        "plt.plot(epoch_list, recall_scores, label='Recall', marker='o')\n",
        "\n",
        "# Plot F1 score curve\n",
        "plt.plot(epoch_list, f1_scores, label='F1 Score', marker='o')\n",
        "\n",
        "plt.xlabel('Epoch')\n",
        "plt.ylabel('Score')\n",
        "plt.title('Variation in Precision, Recall, and F1 Score Across Epochs')\n",
        "plt.legend()\n",
        "plt.show()"
      ],
      "metadata": {
        "colab": {
          "base_uri": "https://localhost:8080/",
          "height": 564
        },
        "id": "e8f3kDlCS_LD",
        "outputId": "0676e4a7-ad35-44ac-a8c4-5a95b3bb1382"
      },
      "execution_count": null,
      "outputs": [
        {
          "output_type": "display_data",
          "data": {
            "text/plain": [
              "<Figure size 1000x600 with 1 Axes>"
            ],
            "image/png": "[encoded data removed]"
          },
          "metadata": {}
        }
      ]
    },
    {
      "cell_type": "code",
      "source": [
        "import spacy\n",
        "import json\n",
        "import os\n",
        "import random\n",
        "import matplotlib.pyplot as plt\n",
        "import seaborn as sns\n",
        "from sklearn.metrics import precision_score, recall_score, f1_score\n",
        "from spacy.training.example import Example\n",
        "\n",
        "# Load your spaCy NER model (you can use a blank model if you don't have a pre-trained model)\n",
        "nlp = spacy.load(\"en_core_web_md\")\n",
        "\n",
        "# Specify the directory containing your training data files\n",
        "training_data_dir = \"/content/data_set/train/entities\"\n",
        "\n",
        "# Specify the directory containing your evaluation data files\n",
        "evaluation_data_dir = \"/content/data_set/test/entities\"\n",
        "\n",
        "def evaluate_model(nlp, evaluation_data_dir):\n",
        "    precision_scores = []\n",
        "    recall_scores = []\n",
        "    f1_scores = []\n",
        "\n",
        "    for filename in os.listdir(evaluation_data_dir):\n",
        "        if filename.endswith(\".json\"):\n",
        "            file_path = os.path.join(evaluation_data_dir, filename)\n",
        "\n",
        "            with open(file_path, \"r\", encoding=\"utf-8\") as file:\n",
        "                evaluation_data = json.load(file)\n",
        "\n",
        "            predicted_entities_all_files = []\n",
        "            expected_entities_all_files = []\n",
        "\n",
        "            for example in evaluation_data[\"annotations\"]:\n",
        "                text = example[0]\n",
        "                expected_entities = example[1][\"entities\"]\n",
        "\n",
        "                doc = nlp(text)\n",
        "                predicted_entities = [{\"start\": ent.start_char, \"end\": ent.end_char, \"label\": ent.label_} for ent in doc.ents]\n",
        "\n",
        "                unique_expected_entities = set((ent[0], ent[1], ent[2]) for ent in expected_entities)\n",
        "\n",
        "                entity_to_prediction = {}\n",
        "\n",
        "                for predicted_entity in predicted_entities:\n",
        "                    key = (predicted_entity[\"start\"], predicted_entity[\"end\"], predicted_entity[\"label\"])\n",
        "                    if key not in entity_to_prediction or (predicted_entity[\"start\"] != -1 and entity_to_prediction[key][\"start\"] == -1):\n",
        "                        entity_to_prediction[key] = predicted_entity\n",
        "\n",
        "                for expected_entity in unique_expected_entities:\n",
        "                    if expected_entity not in entity_to_prediction:\n",
        "                        entity_to_prediction[expected_entity] = {\"start\": -1, \"end\": -1, \"label\": \"NOT_PREDICTED\"}\n",
        "\n",
        "                predicted_entities_all_files.extend(list(entity_to_prediction.values()))\n",
        "                expected_entities_all_files.extend(expected_entities)\n",
        "\n",
        "            flat_predicted_entities = [ent[\"label\"] for ent in predicted_entities_all_files if ent[\"label\"] != \"NOT_PREDICTED\"]\n",
        "            flat_expected_entities = [ent[2] for ent in expected_entities_all_files]\n",
        "\n",
        "            if len(flat_predicted_entities) < len(flat_expected_entities):\n",
        "                flat_predicted_entities += [\"NOT_PREDICTED\"] * (len(flat_expected_entities) - len(flat_predicted_entities))\n",
        "            elif len(flat_predicted_entities) > len(flat_expected_entities):\n",
        "                flat_expected_entities += [\"NOT_PREDICTED\"] * (len(flat_predicted_entities) - len(flat_expected_entities))\n",
        "\n",
        "            precision = precision_score(flat_expected_entities, flat_predicted_entities, average=\"weighted\", zero_division=1)\n",
        "            recall = recall_score(flat_expected_entities, flat_predicted_entities, average=\"weighted\")\n",
        "            f1 = f1_score(flat_expected_entities, flat_predicted_entities, average=\"weighted\")\n",
        "\n",
        "            precision_scores.append(precision)\n",
        "            recall_scores.append(recall)\n",
        "            f1_scores.append(f1)\n",
        "\n",
        "    avg_precision = sum(precision_scores) / len(precision_scores) if precision_scores else 0\n",
        "    avg_recall = sum(recall_scores) / len(recall_scores) if recall_scores else 0\n",
        "    avg_f1 = sum(f1_scores) / len(f1_scores) if f1_scores else 0\n",
        "\n",
        "    return avg_precision, avg_recall, avg_f1\n",
        "\n",
        "\n",
        "# Initialize lists to store metrics for each epoch\n",
        "epoch_list = []\n",
        "precision_scores = []\n",
        "recall_scores = []\n",
        "f1_scores = []\n",
        "\n",
        "# Training loop\n",
        "epochs = 60\n",
        "dropout_rate = 0.5\n",
        "\n",
        "for epoch in range(epochs):\n",
        "    all_losses = {}\n",
        "\n",
        "    # Loop through each training file in the directory\n",
        "    for filename in os.listdir(training_data_dir):\n",
        "        if filename.endswith(\".json\"):\n",
        "            file_path = os.path.join(training_data_dir, filename)\n",
        "\n",
        "            # Load JSON file\n",
        "            with open(file_path, \"r\", encoding=\"utf-8\") as file:\n",
        "                training_data = json.load(file)\n",
        "\n",
        "            # Shuffle the list of annotations in the training data\n",
        "            random.shuffle(training_data[\"annotations\"])\n",
        "            losses = {}\n",
        "\n",
        "            # Process each example in the file\n",
        "            for example in training_data[\"annotations\"]:\n",
        "                text = example[0]\n",
        "                entities = example[1][\"entities\"]\n",
        "\n",
        "                # Create a spaCy Doc object\n",
        "                doc = nlp.make_doc(text)\n",
        "\n",
        "                # Update the NER model with the example\n",
        "                example = Example.from_dict(doc, {\"entities\": entities})\n",
        "                nlp.update([example], drop=dropout_rate, losses=losses)\n",
        "\n",
        "            # Print loss for each file\n",
        "            avg_loss = losses.get(\"ner\", 0.0)\n",
        "\n",
        "            # Collect losses for all files\n",
        "            all_losses.setdefault(\"ner\", []).append(avg_loss)\n",
        "\n",
        "    # Print average loss for the epoch\n",
        "    avg_loss_all_files = sum(all_losses.get(\"ner\", [])) / len(all_losses.get(\"ner\", [])) if all_losses.get(\"ner\") else 0\n",
        "    print(f\"Epoch {epoch + 1}, Avg. Loss (All Files): {avg_loss_all_files:.2f}\")\n",
        "\n",
        "    # Evaluate the model on your evaluation data\n",
        "    precision, recall, f1 = evaluate_model(nlp, evaluation_data_dir)\n",
        "\n",
        "    # Print or store the metrics for the current epoch\n",
        "    print(f\"\\nEpoch: {epoch + 1}\")\n",
        "    print(f\"Precision: {precision:.4f}, Recall: {recall:.4f}, F1 Score: {f1:.4f}\")\n",
        "\n",
        "    # Append metrics to the lists\n",
        "    epoch_list.append(epoch + 1)\n",
        "    precision_scores.append(precision)\n",
        "    recall_scores.append(recall)\n",
        "    f1_scores.append(f1)\n",
        "\n"
      ],
      "metadata": {
        "colab": {
          "base_uri": "https://localhost:8080/"
        },
        "id": "Tcgcow_HTBFj",
        "outputId": "b5694cee-5fa5-4d3b-c019-cdb811fd82a5"
      },
      "execution_count": null,
      "outputs": [
        {
          "output_type": "stream",
          "name": "stdout",
          "text": [
            "Epoch 1, Avg. Loss (All Files): 10.48\n",
            "\n",
            "Epoch: 1\n",
            "Precision: 1.0000, Recall: 0.0000, F1 Score: 0.0000\n"
          ]
        },
        {
          "output_type": "stream",
          "name": "stderr",
          "text": [
            "/usr/local/lib/python3.10/dist-packages/sklearn/metrics/_classification.py:1344: UndefinedMetricWarning: Recall is ill-defined and being set to 0.0 in labels with no true samples. Use `zero_division` parameter to control this behavior.\n",
            "  _warn_prf(average, modifier, msg_start, len(result))\n",
            "/usr/local/lib/python3.10/dist-packages/sklearn/metrics/_classification.py:1344: UndefinedMetricWarning: Recall is ill-defined and being set to 0.0 in labels with no true samples. Use `zero_division` parameter to control this behavior.\n",
            "  _warn_prf(average, modifier, msg_start, len(result))\n",
            "/usr/local/lib/python3.10/dist-packages/sklearn/metrics/_classification.py:1344: UndefinedMetricWarning: Recall is ill-defined and being set to 0.0 in labels with no true samples. Use `zero_division` parameter to control this behavior.\n",
            "  _warn_prf(average, modifier, msg_start, len(result))\n",
            "/usr/local/lib/python3.10/dist-packages/sklearn/metrics/_classification.py:1344: UndefinedMetricWarning: Recall is ill-defined and being set to 0.0 in labels with no true samples. Use `zero_division` parameter to control this behavior.\n",
            "  _warn_prf(average, modifier, msg_start, len(result))\n",
            "/usr/local/lib/python3.10/dist-packages/sklearn/metrics/_classification.py:1344: UndefinedMetricWarning: Recall is ill-defined and being set to 0.0 in labels with no true samples. Use `zero_division` parameter to control this behavior.\n",
            "  _warn_prf(average, modifier, msg_start, len(result))\n",
            "/usr/local/lib/python3.10/dist-packages/sklearn/metrics/_classification.py:1344: UndefinedMetricWarning: Recall is ill-defined and being set to 0.0 in labels with no true samples. Use `zero_division` parameter to control this behavior.\n",
            "  _warn_prf(average, modifier, msg_start, len(result))\n",
            "/usr/local/lib/python3.10/dist-packages/sklearn/metrics/_classification.py:1344: UndefinedMetricWarning: Recall is ill-defined and being set to 0.0 in labels with no true samples. Use `zero_division` parameter to control this behavior.\n",
            "  _warn_prf(average, modifier, msg_start, len(result))\n",
            "/usr/local/lib/python3.10/dist-packages/sklearn/metrics/_classification.py:1344: UndefinedMetricWarning: Recall is ill-defined and being set to 0.0 in labels with no true samples. Use `zero_division` parameter to control this behavior.\n",
            "  _warn_prf(average, modifier, msg_start, len(result))\n",
            "/usr/local/lib/python3.10/dist-packages/sklearn/metrics/_classification.py:1344: UndefinedMetricWarning: Recall is ill-defined and being set to 0.0 in labels with no true samples. Use `zero_division` parameter to control this behavior.\n",
            "  _warn_prf(average, modifier, msg_start, len(result))\n"
          ]
        },
        {
          "output_type": "stream",
          "name": "stdout",
          "text": [
            "Epoch 2, Avg. Loss (All Files): 7.13\n",
            "\n",
            "Epoch: 2\n",
            "Precision: 0.8111, Recall: 0.1111, F1 Score: 0.0889\n"
          ]
        },
        {
          "output_type": "stream",
          "name": "stderr",
          "text": [
            "/usr/local/lib/python3.10/dist-packages/sklearn/metrics/_classification.py:1344: UndefinedMetricWarning: Recall is ill-defined and being set to 0.0 in labels with no true samples. Use `zero_division` parameter to control this behavior.\n",
            "  _warn_prf(average, modifier, msg_start, len(result))\n",
            "/usr/local/lib/python3.10/dist-packages/sklearn/metrics/_classification.py:1344: UndefinedMetricWarning: Recall is ill-defined and being set to 0.0 in labels with no true samples. Use `zero_division` parameter to control this behavior.\n",
            "  _warn_prf(average, modifier, msg_start, len(result))\n",
            "/usr/local/lib/python3.10/dist-packages/sklearn/metrics/_classification.py:1344: UndefinedMetricWarning: Recall is ill-defined and being set to 0.0 in labels with no true samples. Use `zero_division` parameter to control this behavior.\n",
            "  _warn_prf(average, modifier, msg_start, len(result))\n",
            "/usr/local/lib/python3.10/dist-packages/sklearn/metrics/_classification.py:1344: UndefinedMetricWarning: Recall is ill-defined and being set to 0.0 in labels with no true samples. Use `zero_division` parameter to control this behavior.\n",
            "  _warn_prf(average, modifier, msg_start, len(result))\n",
            "/usr/local/lib/python3.10/dist-packages/sklearn/metrics/_classification.py:1344: UndefinedMetricWarning: Recall is ill-defined and being set to 0.0 in labels with no true samples. Use `zero_division` parameter to control this behavior.\n",
            "  _warn_prf(average, modifier, msg_start, len(result))\n",
            "/usr/local/lib/python3.10/dist-packages/sklearn/metrics/_classification.py:1344: UndefinedMetricWarning: Recall is ill-defined and being set to 0.0 in labels with no true samples. Use `zero_division` parameter to control this behavior.\n",
            "  _warn_prf(average, modifier, msg_start, len(result))\n",
            "/usr/local/lib/python3.10/dist-packages/sklearn/metrics/_classification.py:1344: UndefinedMetricWarning: Recall is ill-defined and being set to 0.0 in labels with no true samples. Use `zero_division` parameter to control this behavior.\n",
            "  _warn_prf(average, modifier, msg_start, len(result))\n",
            "/usr/local/lib/python3.10/dist-packages/sklearn/metrics/_classification.py:1344: UndefinedMetricWarning: Recall is ill-defined and being set to 0.0 in labels with no true samples. Use `zero_division` parameter to control this behavior.\n",
            "  _warn_prf(average, modifier, msg_start, len(result))\n",
            "/usr/local/lib/python3.10/dist-packages/sklearn/metrics/_classification.py:1344: UndefinedMetricWarning: Recall is ill-defined and being set to 0.0 in labels with no true samples. Use `zero_division` parameter to control this behavior.\n",
            "  _warn_prf(average, modifier, msg_start, len(result))\n"
          ]
        },
        {
          "output_type": "stream",
          "name": "stdout",
          "text": [
            "Epoch 3, Avg. Loss (All Files): 14.73\n"
          ]
        },
        {
          "output_type": "stream",
          "name": "stderr",
          "text": [
            "/usr/local/lib/python3.10/dist-packages/sklearn/metrics/_classification.py:1344: UndefinedMetricWarning: Recall is ill-defined and being set to 0.0 in labels with no true samples. Use `zero_division` parameter to control this behavior.\n",
            "  _warn_prf(average, modifier, msg_start, len(result))\n",
            "/usr/local/lib/python3.10/dist-packages/sklearn/metrics/_classification.py:1344: UndefinedMetricWarning: Recall is ill-defined and being set to 0.0 in labels with no true samples. Use `zero_division` parameter to control this behavior.\n",
            "  _warn_prf(average, modifier, msg_start, len(result))\n",
            "/usr/local/lib/python3.10/dist-packages/sklearn/metrics/_classification.py:1344: UndefinedMetricWarning: Recall is ill-defined and being set to 0.0 in labels with no true samples. Use `zero_division` parameter to control this behavior.\n",
            "  _warn_prf(average, modifier, msg_start, len(result))\n"
          ]
        },
        {
          "output_type": "stream",
          "name": "stdout",
          "text": [
            "\n",
            "Epoch: 3\n",
            "Precision: 0.7741, Recall: 0.4889, F1 Score: 0.4556\n",
            "Epoch 4, Avg. Loss (All Files): 9.25\n",
            "\n",
            "Epoch: 4\n",
            "Precision: 0.8481, Recall: 0.6000, F1 Score: 0.5037\n",
            "Epoch 5, Avg. Loss (All Files): 5.01\n",
            "\n",
            "Epoch: 5\n",
            "Precision: 0.8704, Recall: 0.6222, F1 Score: 0.5259\n",
            "Epoch 6, Avg. Loss (All Files): 18.08\n",
            "\n",
            "Epoch: 6\n",
            "Precision: 0.8481, Recall: 0.6000, F1 Score: 0.5037\n",
            "Epoch 7, Avg. Loss (All Files): 35.44\n",
            "\n",
            "Epoch: 7\n",
            "Precision: 0.8556, Recall: 0.2000, F1 Score: 0.1778\n"
          ]
        },
        {
          "output_type": "stream",
          "name": "stderr",
          "text": [
            "/usr/local/lib/python3.10/dist-packages/sklearn/metrics/_classification.py:1344: UndefinedMetricWarning: Recall is ill-defined and being set to 0.0 in labels with no true samples. Use `zero_division` parameter to control this behavior.\n",
            "  _warn_prf(average, modifier, msg_start, len(result))\n",
            "/usr/local/lib/python3.10/dist-packages/sklearn/metrics/_classification.py:1344: UndefinedMetricWarning: Recall is ill-defined and being set to 0.0 in labels with no true samples. Use `zero_division` parameter to control this behavior.\n",
            "  _warn_prf(average, modifier, msg_start, len(result))\n",
            "/usr/local/lib/python3.10/dist-packages/sklearn/metrics/_classification.py:1344: UndefinedMetricWarning: Recall is ill-defined and being set to 0.0 in labels with no true samples. Use `zero_division` parameter to control this behavior.\n",
            "  _warn_prf(average, modifier, msg_start, len(result))\n",
            "/usr/local/lib/python3.10/dist-packages/sklearn/metrics/_classification.py:1344: UndefinedMetricWarning: Recall is ill-defined and being set to 0.0 in labels with no true samples. Use `zero_division` parameter to control this behavior.\n",
            "  _warn_prf(average, modifier, msg_start, len(result))\n",
            "/usr/local/lib/python3.10/dist-packages/sklearn/metrics/_classification.py:1344: UndefinedMetricWarning: Recall is ill-defined and being set to 0.0 in labels with no true samples. Use `zero_division` parameter to control this behavior.\n",
            "  _warn_prf(average, modifier, msg_start, len(result))\n",
            "/usr/local/lib/python3.10/dist-packages/sklearn/metrics/_classification.py:1344: UndefinedMetricWarning: Recall is ill-defined and being set to 0.0 in labels with no true samples. Use `zero_division` parameter to control this behavior.\n",
            "  _warn_prf(average, modifier, msg_start, len(result))\n",
            "/usr/local/lib/python3.10/dist-packages/sklearn/metrics/_classification.py:1344: UndefinedMetricWarning: Recall is ill-defined and being set to 0.0 in labels with no true samples. Use `zero_division` parameter to control this behavior.\n",
            "  _warn_prf(average, modifier, msg_start, len(result))\n",
            "/usr/local/lib/python3.10/dist-packages/sklearn/metrics/_classification.py:1344: UndefinedMetricWarning: Recall is ill-defined and being set to 0.0 in labels with no true samples. Use `zero_division` parameter to control this behavior.\n",
            "  _warn_prf(average, modifier, msg_start, len(result))\n",
            "/usr/local/lib/python3.10/dist-packages/sklearn/metrics/_classification.py:1344: UndefinedMetricWarning: Recall is ill-defined and being set to 0.0 in labels with no true samples. Use `zero_division` parameter to control this behavior.\n",
            "  _warn_prf(average, modifier, msg_start, len(result))\n"
          ]
        },
        {
          "output_type": "stream",
          "name": "stdout",
          "text": [
            "Epoch 8, Avg. Loss (All Files): 7.43\n",
            "\n",
            "Epoch: 8\n",
            "Precision: 0.7333, Recall: 0.4667, F1 Score: 0.4037\n"
          ]
        },
        {
          "output_type": "stream",
          "name": "stderr",
          "text": [
            "/usr/local/lib/python3.10/dist-packages/sklearn/metrics/_classification.py:1344: UndefinedMetricWarning: Recall is ill-defined and being set to 0.0 in labels with no true samples. Use `zero_division` parameter to control this behavior.\n",
            "  _warn_prf(average, modifier, msg_start, len(result))\n",
            "/usr/local/lib/python3.10/dist-packages/sklearn/metrics/_classification.py:1344: UndefinedMetricWarning: Recall is ill-defined and being set to 0.0 in labels with no true samples. Use `zero_division` parameter to control this behavior.\n",
            "  _warn_prf(average, modifier, msg_start, len(result))\n",
            "/usr/local/lib/python3.10/dist-packages/sklearn/metrics/_classification.py:1344: UndefinedMetricWarning: Recall is ill-defined and being set to 0.0 in labels with no true samples. Use `zero_division` parameter to control this behavior.\n",
            "  _warn_prf(average, modifier, msg_start, len(result))\n",
            "/usr/local/lib/python3.10/dist-packages/sklearn/metrics/_classification.py:1344: UndefinedMetricWarning: Recall is ill-defined and being set to 0.0 in labels with no true samples. Use `zero_division` parameter to control this behavior.\n",
            "  _warn_prf(average, modifier, msg_start, len(result))\n"
          ]
        },
        {
          "output_type": "stream",
          "name": "stdout",
          "text": [
            "Epoch 9, Avg. Loss (All Files): 6.95\n",
            "\n",
            "Epoch: 9\n",
            "Precision: 0.8741, Recall: 0.6444, F1 Score: 0.5519\n",
            "Epoch 10, Avg. Loss (All Files): 4.58\n",
            "\n",
            "Epoch: 10\n",
            "Precision: 0.8704, Recall: 0.7333, F1 Score: 0.6593\n",
            "Epoch 11, Avg. Loss (All Files): 3.56\n"
          ]
        },
        {
          "output_type": "stream",
          "name": "stderr",
          "text": [
            "/usr/local/lib/python3.10/dist-packages/sklearn/metrics/_classification.py:1344: UndefinedMetricWarning: Recall is ill-defined and being set to 0.0 in labels with no true samples. Use `zero_division` parameter to control this behavior.\n",
            "  _warn_prf(average, modifier, msg_start, len(result))\n"
          ]
        },
        {
          "output_type": "stream",
          "name": "stdout",
          "text": [
            "\n",
            "Epoch: 11\n",
            "Precision: 0.9074, Recall: 0.8000, F1 Score: 0.7519\n",
            "Epoch 12, Avg. Loss (All Files): 3.65\n",
            "\n",
            "Epoch: 12\n",
            "Precision: 0.9000, Recall: 0.8222, F1 Score: 0.7704\n",
            "Epoch 13, Avg. Loss (All Files): 3.01\n",
            "\n",
            "Epoch: 13\n",
            "Precision: 0.8407, Recall: 0.7111, F1 Score: 0.6481\n"
          ]
        },
        {
          "output_type": "stream",
          "name": "stderr",
          "text": [
            "/usr/local/lib/python3.10/dist-packages/sklearn/metrics/_classification.py:1344: UndefinedMetricWarning: Recall is ill-defined and being set to 0.0 in labels with no true samples. Use `zero_division` parameter to control this behavior.\n",
            "  _warn_prf(average, modifier, msg_start, len(result))\n"
          ]
        },
        {
          "output_type": "stream",
          "name": "stdout",
          "text": [
            "Epoch 14, Avg. Loss (All Files): 3.25\n",
            "\n",
            "Epoch: 14\n",
            "Precision: 0.9333, Recall: 0.8667, F1 Score: 0.8222\n",
            "Epoch 15, Avg. Loss (All Files): 2.96\n",
            "\n",
            "Epoch: 15\n",
            "Precision: 0.9296, Recall: 0.8444, F1 Score: 0.7963\n",
            "Epoch 16, Avg. Loss (All Files): 2.54\n",
            "\n",
            "Epoch: 16\n",
            "Precision: 0.8963, Recall: 0.7778, F1 Score: 0.7074\n",
            "Epoch 17, Avg. Loss (All Files): 2.70\n",
            "\n",
            "Epoch: 17\n",
            "Precision: 0.9444, Recall: 0.8889, F1 Score: 0.8519\n",
            "Epoch 18, Avg. Loss (All Files): 2.33\n",
            "\n",
            "Epoch: 18\n",
            "Precision: 0.9667, Recall: 0.9333, F1 Score: 0.9111\n",
            "Epoch 19, Avg. Loss (All Files): 1.54\n",
            "\n",
            "Epoch: 19\n",
            "Precision: 0.9444, Recall: 0.8889, F1 Score: 0.8519\n",
            "Epoch 20, Avg. Loss (All Files): 2.26\n",
            "\n",
            "Epoch: 20\n",
            "Precision: 0.9352, Recall: 0.8704, F1 Score: 0.8272\n",
            "Epoch 21, Avg. Loss (All Files): 1.96\n",
            "\n",
            "Epoch: 21\n",
            "Precision: 0.9444, Recall: 0.8889, F1 Score: 0.8519\n",
            "Epoch 22, Avg. Loss (All Files): 1.81\n",
            "\n",
            "Epoch: 22\n",
            "Precision: 0.9444, Recall: 0.8889, F1 Score: 0.8519\n",
            "Epoch 23, Avg. Loss (All Files): 1.21\n",
            "\n",
            "Epoch: 23\n",
            "Precision: 0.9778, Recall: 0.9556, F1 Score: 0.9407\n",
            "Epoch 24, Avg. Loss (All Files): 0.90\n",
            "\n",
            "Epoch: 24\n",
            "Precision: 0.9463, Recall: 0.8926, F1 Score: 0.8568\n",
            "Epoch 25, Avg. Loss (All Files): 1.65\n",
            "\n",
            "Epoch: 25\n",
            "Precision: 0.9407, Recall: 0.8667, F1 Score: 0.8259\n",
            "Epoch 26, Avg. Loss (All Files): 0.78\n",
            "\n",
            "Epoch: 26\n",
            "Precision: 0.9444, Recall: 0.8889, F1 Score: 0.8519\n",
            "Epoch 27, Avg. Loss (All Files): 0.68\n",
            "\n",
            "Epoch: 27\n",
            "Precision: 0.9667, Recall: 0.9333, F1 Score: 0.9111\n",
            "Epoch 28, Avg. Loss (All Files): 0.63\n",
            "\n",
            "Epoch: 28\n",
            "Precision: 0.9778, Recall: 0.9556, F1 Score: 0.9407\n",
            "Epoch 29, Avg. Loss (All Files): 0.85\n",
            "\n",
            "Epoch: 29\n",
            "Precision: 0.9519, Recall: 0.8889, F1 Score: 0.8556\n",
            "Epoch 30, Avg. Loss (All Files): 0.57\n",
            "\n",
            "Epoch: 30\n",
            "Precision: 0.9315, Recall: 0.8481, F1 Score: 0.8012\n",
            "Epoch 31, Avg. Loss (All Files): 0.60\n",
            "\n",
            "Epoch: 31\n",
            "Precision: 0.9556, Recall: 0.9111, F1 Score: 0.8815\n",
            "Epoch 32, Avg. Loss (All Files): 0.95\n",
            "\n",
            "Epoch: 32\n",
            "Precision: 0.9889, Recall: 0.9778, F1 Score: 0.9704\n",
            "Epoch 33, Avg. Loss (All Files): 0.35\n",
            "\n",
            "Epoch: 33\n",
            "Precision: 0.9407, Recall: 0.8667, F1 Score: 0.8259\n",
            "Epoch 34, Avg. Loss (All Files): 0.37\n",
            "\n",
            "Epoch: 34\n",
            "Precision: 0.9556, Recall: 0.9111, F1 Score: 0.8815\n",
            "Epoch 35, Avg. Loss (All Files): 0.58\n",
            "\n",
            "Epoch: 35\n",
            "Precision: 0.9685, Recall: 0.9370, F1 Score: 0.9160\n",
            "Epoch 36, Avg. Loss (All Files): 0.22\n",
            "\n",
            "Epoch: 36\n",
            "Precision: 0.9407, Recall: 0.8667, F1 Score: 0.8259\n",
            "Epoch 37, Avg. Loss (All Files): 0.22\n",
            "\n",
            "Epoch: 37\n",
            "Precision: 0.9778, Recall: 0.9556, F1 Score: 0.9407\n",
            "Epoch 38, Avg. Loss (All Files): 0.31\n",
            "\n",
            "Epoch: 38\n",
            "Precision: 0.9778, Recall: 0.9556, F1 Score: 0.9407\n",
            "Epoch 39, Avg. Loss (All Files): 0.37\n",
            "\n",
            "Epoch: 39\n",
            "Precision: 0.9407, Recall: 0.8667, F1 Score: 0.8259\n",
            "Epoch 40, Avg. Loss (All Files): 0.26\n",
            "\n",
            "Epoch: 40\n",
            "Precision: 0.9667, Recall: 0.9333, F1 Score: 0.9111\n",
            "Epoch 41, Avg. Loss (All Files): 0.41\n"
          ]
        },
        {
          "output_type": "stream",
          "name": "stderr",
          "text": [
            "/usr/local/lib/python3.10/dist-packages/sklearn/metrics/_classification.py:1344: UndefinedMetricWarning: Recall is ill-defined and being set to 0.0 in labels with no true samples. Use `zero_division` parameter to control this behavior.\n",
            "  _warn_prf(average, modifier, msg_start, len(result))\n"
          ]
        },
        {
          "output_type": "stream",
          "name": "stdout",
          "text": [
            "\n",
            "Epoch: 41\n",
            "Precision: 0.9111, Recall: 0.8444, F1 Score: 0.8148\n",
            "Epoch 42, Avg. Loss (All Files): 0.08\n",
            "\n",
            "Epoch: 42\n",
            "Precision: 0.9574, Recall: 0.9148, F1 Score: 0.8864\n",
            "Epoch 43, Avg. Loss (All Files): 0.36\n",
            "\n",
            "Epoch: 43\n",
            "Precision: 0.9778, Recall: 0.9556, F1 Score: 0.9407\n",
            "Epoch 44, Avg. Loss (All Files): 0.21\n",
            "\n",
            "Epoch: 44\n",
            "Precision: 0.9352, Recall: 0.8704, F1 Score: 0.8568\n"
          ]
        },
        {
          "output_type": "stream",
          "name": "stderr",
          "text": [
            "/usr/local/lib/python3.10/dist-packages/sklearn/metrics/_classification.py:1344: UndefinedMetricWarning: Recall is ill-defined and being set to 0.0 in labels with no true samples. Use `zero_division` parameter to control this behavior.\n",
            "  _warn_prf(average, modifier, msg_start, len(result))\n"
          ]
        },
        {
          "output_type": "stream",
          "name": "stdout",
          "text": [
            "Epoch 45, Avg. Loss (All Files): 0.41\n",
            "\n",
            "Epoch: 45\n",
            "Precision: 0.9556, Recall: 0.9111, F1 Score: 0.8815\n",
            "Epoch 46, Avg. Loss (All Files): 0.31\n",
            "\n",
            "Epoch: 46\n",
            "Precision: 0.9241, Recall: 0.8704, F1 Score: 0.8494\n"
          ]
        },
        {
          "output_type": "stream",
          "name": "stderr",
          "text": [
            "/usr/local/lib/python3.10/dist-packages/sklearn/metrics/_classification.py:1344: UndefinedMetricWarning: Recall is ill-defined and being set to 0.0 in labels with no true samples. Use `zero_division` parameter to control this behavior.\n",
            "  _warn_prf(average, modifier, msg_start, len(result))\n"
          ]
        },
        {
          "output_type": "stream",
          "name": "stdout",
          "text": [
            "Epoch 47, Avg. Loss (All Files): 0.26\n",
            "\n",
            "Epoch: 47\n",
            "Precision: 0.9685, Recall: 0.9370, F1 Score: 0.9160\n",
            "Epoch 48, Avg. Loss (All Files): 0.17\n"
          ]
        },
        {
          "output_type": "stream",
          "name": "stderr",
          "text": [
            "/usr/local/lib/python3.10/dist-packages/sklearn/metrics/_classification.py:1344: UndefinedMetricWarning: Recall is ill-defined and being set to 0.0 in labels with no true samples. Use `zero_division` parameter to control this behavior.\n",
            "  _warn_prf(average, modifier, msg_start, len(result))\n"
          ]
        },
        {
          "output_type": "stream",
          "name": "stdout",
          "text": [
            "\n",
            "Epoch: 48\n",
            "Precision: 0.9241, Recall: 0.8704, F1 Score: 0.8494\n",
            "Epoch 49, Avg. Loss (All Files): 0.33\n"
          ]
        },
        {
          "output_type": "stream",
          "name": "stderr",
          "text": [
            "/usr/local/lib/python3.10/dist-packages/sklearn/metrics/_classification.py:1344: UndefinedMetricWarning: Recall is ill-defined and being set to 0.0 in labels with no true samples. Use `zero_division` parameter to control this behavior.\n",
            "  _warn_prf(average, modifier, msg_start, len(result))\n"
          ]
        },
        {
          "output_type": "stream",
          "name": "stdout",
          "text": [
            "\n",
            "Epoch: 49\n",
            "Precision: 0.9444, Recall: 0.9111, F1 Score: 0.9037\n",
            "Epoch 50, Avg. Loss (All Files): 0.27\n",
            "\n",
            "Epoch: 50\n",
            "Precision: 0.9778, Recall: 0.9556, F1 Score: 0.9407\n",
            "Epoch 51, Avg. Loss (All Files): 0.43\n",
            "\n",
            "Epoch: 51\n",
            "Precision: 0.9778, Recall: 0.9556, F1 Score: 0.9407\n",
            "Epoch 52, Avg. Loss (All Files): 0.26\n",
            "\n",
            "Epoch: 52\n",
            "Precision: 0.9667, Recall: 0.9333, F1 Score: 0.9111\n",
            "Epoch 53, Avg. Loss (All Files): 0.37\n",
            "\n",
            "Epoch: 53\n",
            "Precision: 0.9778, Recall: 0.9556, F1 Score: 0.9407\n",
            "Epoch 54, Avg. Loss (All Files): 0.34\n",
            "\n",
            "Epoch: 54\n",
            "Precision: 0.9444, Recall: 0.9111, F1 Score: 0.9037\n"
          ]
        },
        {
          "output_type": "stream",
          "name": "stderr",
          "text": [
            "/usr/local/lib/python3.10/dist-packages/sklearn/metrics/_classification.py:1344: UndefinedMetricWarning: Recall is ill-defined and being set to 0.0 in labels with no true samples. Use `zero_division` parameter to control this behavior.\n",
            "  _warn_prf(average, modifier, msg_start, len(result))\n"
          ]
        },
        {
          "output_type": "stream",
          "name": "stdout",
          "text": [
            "Epoch 55, Avg. Loss (All Files): 0.29\n",
            "\n",
            "Epoch: 55\n",
            "Precision: 0.9778, Recall: 0.9556, F1 Score: 0.9407\n",
            "Epoch 56, Avg. Loss (All Files): 0.20\n"
          ]
        },
        {
          "output_type": "stream",
          "name": "stderr",
          "text": [
            "/usr/local/lib/python3.10/dist-packages/sklearn/metrics/_classification.py:1344: UndefinedMetricWarning: Recall is ill-defined and being set to 0.0 in labels with no true samples. Use `zero_division` parameter to control this behavior.\n",
            "  _warn_prf(average, modifier, msg_start, len(result))\n"
          ]
        },
        {
          "output_type": "stream",
          "name": "stdout",
          "text": [
            "\n",
            "Epoch: 56\n",
            "Precision: 0.9333, Recall: 0.8889, F1 Score: 0.8741\n",
            "Epoch 57, Avg. Loss (All Files): 0.18\n"
          ]
        },
        {
          "output_type": "stream",
          "name": "stderr",
          "text": [
            "/usr/local/lib/python3.10/dist-packages/sklearn/metrics/_classification.py:1344: UndefinedMetricWarning: Recall is ill-defined and being set to 0.0 in labels with no true samples. Use `zero_division` parameter to control this behavior.\n",
            "  _warn_prf(average, modifier, msg_start, len(result))\n"
          ]
        },
        {
          "output_type": "stream",
          "name": "stdout",
          "text": [
            "\n",
            "Epoch: 57\n",
            "Precision: 0.9222, Recall: 0.8667, F1 Score: 0.8444\n",
            "Epoch 58, Avg. Loss (All Files): 0.10\n",
            "\n",
            "Epoch: 58\n",
            "Precision: 0.9685, Recall: 0.9370, F1 Score: 0.9160\n",
            "Epoch 59, Avg. Loss (All Files): 0.27\n",
            "\n",
            "Epoch: 59\n",
            "Precision: 0.9463, Recall: 0.9148, F1 Score: 0.9086\n"
          ]
        },
        {
          "output_type": "stream",
          "name": "stderr",
          "text": [
            "/usr/local/lib/python3.10/dist-packages/sklearn/metrics/_classification.py:1344: UndefinedMetricWarning: Recall is ill-defined and being set to 0.0 in labels with no true samples. Use `zero_division` parameter to control this behavior.\n",
            "  _warn_prf(average, modifier, msg_start, len(result))\n"
          ]
        },
        {
          "output_type": "stream",
          "name": "stdout",
          "text": [
            "Epoch 60, Avg. Loss (All Files): 0.35\n",
            "\n",
            "Epoch: 60\n",
            "Precision: 0.9556, Recall: 0.9333, F1 Score: 0.9333\n"
          ]
        },
        {
          "output_type": "stream",
          "name": "stderr",
          "text": [
            "/usr/local/lib/python3.10/dist-packages/sklearn/metrics/_classification.py:1344: UndefinedMetricWarning: Recall is ill-defined and being set to 0.0 in labels with no true samples. Use `zero_division` parameter to control this behavior.\n",
            "  _warn_prf(average, modifier, msg_start, len(result))\n"
          ]
        }
      ]
    },
    {
      "cell_type": "code",
      "source": [
        "# Visualize the curves\n",
        "plt.figure(figsize=(10, 6))\n",
        "\n",
        "# Plot precision curve\n",
        "plt.plot(epoch_list, precision_scores, label='Precision', marker='o')\n",
        "\n",
        "# Plot recall curve\n",
        "plt.plot(epoch_list, recall_scores, label='Recall', marker='o')\n",
        "\n",
        "# Plot F1 score curve\n",
        "plt.plot(epoch_list, f1_scores, label='F1 Score', marker='o')\n",
        "\n",
        "plt.xlabel('Epoch')\n",
        "plt.ylabel('Score')\n",
        "plt.title('Variation in Precision, Recall, and F1 Score Across Epochs')\n",
        "plt.legend()\n",
        "plt.show()\n"
      ],
      "metadata": {
        "colab": {
          "base_uri": "https://localhost:8080/",
          "height": 564
        },
        "id": "c1gFlZ3pUHqh",
        "outputId": "09b10df9-3682-4b0f-cdc0-f7efa1c8718c"
      },
      "execution_count": null,
      "outputs": [
        {
          "output_type": "display_data",
          "data": {
            "text/plain": [
              "<Figure size 1000x600 with 1 Axes>"
            ],
            "image/png": "[encoded data removed]"
          },
          "metadata": {}
        }
      ]
    },
    {
      "cell_type": "code",
      "source": [
        "import spacy\n",
        "import json\n",
        "import os\n",
        "import random\n",
        "import matplotlib.pyplot as plt\n",
        "import seaborn as sns\n",
        "from sklearn.metrics import precision_score, recall_score, f1_score\n",
        "from spacy.training.example import Example\n",
        "\n",
        "# Load your spaCy NER model (you can use a blank model if you don't have a pre-trained model)\n",
        "nlp = spacy.load(\"en_core_web_lg\")\n",
        "\n",
        "# Specify the directory containing your training data files\n",
        "training_data_dir = \"/content/data_set/train/entities\"\n",
        "\n",
        "# Specify the directory containing your evaluation data files\n",
        "evaluation_data_dir = \"/content/data_set/test/entities\"\n",
        "\n",
        "def evaluate_model(nlp, evaluation_data_dir):\n",
        "    precision_scores = []\n",
        "    recall_scores = []\n",
        "    f1_scores = []\n",
        "\n",
        "    for filename in os.listdir(evaluation_data_dir):\n",
        "        if filename.endswith(\".json\"):\n",
        "            file_path = os.path.join(evaluation_data_dir, filename)\n",
        "\n",
        "            with open(file_path, \"r\", encoding=\"utf-8\") as file:\n",
        "                evaluation_data = json.load(file)\n",
        "\n",
        "            predicted_entities_all_files = []\n",
        "            expected_entities_all_files = []\n",
        "\n",
        "            for example in evaluation_data[\"annotations\"]:\n",
        "                text = example[0]\n",
        "                expected_entities = example[1][\"entities\"]\n",
        "\n",
        "                doc = nlp(text)\n",
        "                predicted_entities = [{\"start\": ent.start_char, \"end\": ent.end_char, \"label\": ent.label_} for ent in doc.ents]\n",
        "\n",
        "                unique_expected_entities = set((ent[0], ent[1], ent[2]) for ent in expected_entities)\n",
        "\n",
        "                entity_to_prediction = {}\n",
        "\n",
        "                for predicted_entity in predicted_entities:\n",
        "                    key = (predicted_entity[\"start\"], predicted_entity[\"end\"], predicted_entity[\"label\"])\n",
        "                    if key not in entity_to_prediction or (predicted_entity[\"start\"] != -1 and entity_to_prediction[key][\"start\"] == -1):\n",
        "                        entity_to_prediction[key] = predicted_entity\n",
        "\n",
        "                for expected_entity in unique_expected_entities:\n",
        "                    if expected_entity not in entity_to_prediction:\n",
        "                        entity_to_prediction[expected_entity] = {\"start\": -1, \"end\": -1, \"label\": \"NOT_PREDICTED\"}\n",
        "\n",
        "                predicted_entities_all_files.extend(list(entity_to_prediction.values()))\n",
        "                expected_entities_all_files.extend(expected_entities)\n",
        "\n",
        "            flat_predicted_entities = [ent[\"label\"] for ent in predicted_entities_all_files if ent[\"label\"] != \"NOT_PREDICTED\"]\n",
        "            flat_expected_entities = [ent[2] for ent in expected_entities_all_files]\n",
        "\n",
        "            if len(flat_predicted_entities) < len(flat_expected_entities):\n",
        "                flat_predicted_entities += [\"NOT_PREDICTED\"] * (len(flat_expected_entities) - len(flat_predicted_entities))\n",
        "            elif len(flat_predicted_entities) > len(flat_expected_entities):\n",
        "                flat_expected_entities += [\"NOT_PREDICTED\"] * (len(flat_predicted_entities) - len(flat_expected_entities))\n",
        "\n",
        "            precision = precision_score(flat_expected_entities, flat_predicted_entities, average=\"weighted\", zero_division=1)\n",
        "            recall = recall_score(flat_expected_entities, flat_predicted_entities, average=\"weighted\")\n",
        "            f1 = f1_score(flat_expected_entities, flat_predicted_entities, average=\"weighted\")\n",
        "\n",
        "            precision_scores.append(precision)\n",
        "            recall_scores.append(recall)\n",
        "            f1_scores.append(f1)\n",
        "\n",
        "    avg_precision = sum(precision_scores) / len(precision_scores) if precision_scores else 0\n",
        "    avg_recall = sum(recall_scores) / len(recall_scores) if recall_scores else 0\n",
        "    avg_f1 = sum(f1_scores) / len(f1_scores) if f1_scores else 0\n",
        "\n",
        "    return avg_precision, avg_recall, avg_f1\n",
        "\n",
        "\n",
        "# Initialize lists to store metrics for each epoch\n",
        "epoch_list = []\n",
        "precision_scores = []\n",
        "recall_scores = []\n",
        "f1_scores = []\n",
        "\n",
        "# Training loop\n",
        "epochs = 60\n",
        "dropout_rate = 0.5\n",
        "\n",
        "for epoch in range(epochs):\n",
        "    all_losses = {}\n",
        "\n",
        "    # Loop through each training file in the directory\n",
        "    for filename in os.listdir(training_data_dir):\n",
        "        if filename.endswith(\".json\"):\n",
        "            file_path = os.path.join(training_data_dir, filename)\n",
        "\n",
        "            # Load JSON file\n",
        "            with open(file_path, \"r\", encoding=\"utf-8\") as file:\n",
        "                training_data = json.load(file)\n",
        "\n",
        "            # Shuffle the list of annotations in the training data\n",
        "            random.shuffle(training_data[\"annotations\"])\n",
        "            losses = {}\n",
        "\n",
        "            # Process each example in the file\n",
        "            for example in training_data[\"annotations\"]:\n",
        "                text = example[0]\n",
        "                entities = example[1][\"entities\"]\n",
        "\n",
        "                # Create a spaCy Doc object\n",
        "                doc = nlp.make_doc(text)\n",
        "\n",
        "                # Update the NER model with the example\n",
        "                example = Example.from_dict(doc, {\"entities\": entities})\n",
        "                nlp.update([example], drop=dropout_rate, losses=losses)\n",
        "\n",
        "            # Print loss for each file\n",
        "            avg_loss = losses.get(\"ner\", 0.0)\n",
        "\n",
        "            # Collect losses for all files\n",
        "            all_losses.setdefault(\"ner\", []).append(avg_loss)\n",
        "\n",
        "    # Print average loss for the epoch\n",
        "    avg_loss_all_files = sum(all_losses.get(\"ner\", [])) / len(all_losses.get(\"ner\", [])) if all_losses.get(\"ner\") else 0\n",
        "    print(f\"Epoch {epoch + 1}, Avg. Loss (All Files): {avg_loss_all_files:.2f}\")\n",
        "\n",
        "    # Evaluate the model on your evaluation data\n",
        "    precision, recall, f1 = evaluate_model(nlp, evaluation_data_dir)\n",
        "\n",
        "    # Print or store the metrics for the current epoch\n",
        "    print(f\"\\nEpoch: {epoch + 1}\")\n",
        "    print(f\"Precision: {precision:.4f}, Recall: {recall:.4f}, F1 Score: {f1:.4f}\")\n",
        "\n",
        "    # Append metrics to the lists\n",
        "    epoch_list.append(epoch + 1)\n",
        "    precision_scores.append(precision)\n",
        "    recall_scores.append(recall)\n",
        "    f1_scores.append(f1)\n",
        "\n"
      ],
      "metadata": {
        "colab": {
          "base_uri": "https://localhost:8080/"
        },
        "id": "2iLUt1l4USxI",
        "outputId": "cf40c333-ef28-4db5-91c5-add867b6ba3f"
      },
      "execution_count": null,
      "outputs": [
        {
          "output_type": "stream",
          "name": "stdout",
          "text": [
            "Epoch 1, Avg. Loss (All Files): 10.22\n"
          ]
        },
        {
          "output_type": "stream",
          "name": "stderr",
          "text": [
            "/usr/local/lib/python3.10/dist-packages/sklearn/metrics/_classification.py:1344: UndefinedMetricWarning: Recall is ill-defined and being set to 0.0 in labels with no true samples. Use `zero_division` parameter to control this behavior.\n",
            "  _warn_prf(average, modifier, msg_start, len(result))\n",
            "/usr/local/lib/python3.10/dist-packages/sklearn/metrics/_classification.py:1344: UndefinedMetricWarning: Recall is ill-defined and being set to 0.0 in labels with no true samples. Use `zero_division` parameter to control this behavior.\n",
            "  _warn_prf(average, modifier, msg_start, len(result))\n",
            "/usr/local/lib/python3.10/dist-packages/sklearn/metrics/_classification.py:1344: UndefinedMetricWarning: Recall is ill-defined and being set to 0.0 in labels with no true samples. Use `zero_division` parameter to control this behavior.\n",
            "  _warn_prf(average, modifier, msg_start, len(result))\n",
            "/usr/local/lib/python3.10/dist-packages/sklearn/metrics/_classification.py:1344: UndefinedMetricWarning: Recall is ill-defined and being set to 0.0 in labels with no true samples. Use `zero_division` parameter to control this behavior.\n",
            "  _warn_prf(average, modifier, msg_start, len(result))\n",
            "/usr/local/lib/python3.10/dist-packages/sklearn/metrics/_classification.py:1344: UndefinedMetricWarning: Recall is ill-defined and being set to 0.0 in labels with no true samples. Use `zero_division` parameter to control this behavior.\n",
            "  _warn_prf(average, modifier, msg_start, len(result))\n",
            "/usr/local/lib/python3.10/dist-packages/sklearn/metrics/_classification.py:1344: UndefinedMetricWarning: Recall is ill-defined and being set to 0.0 in labels with no true samples. Use `zero_division` parameter to control this behavior.\n",
            "  _warn_prf(average, modifier, msg_start, len(result))\n",
            "/usr/local/lib/python3.10/dist-packages/sklearn/metrics/_classification.py:1344: UndefinedMetricWarning: Recall is ill-defined and being set to 0.0 in labels with no true samples. Use `zero_division` parameter to control this behavior.\n",
            "  _warn_prf(average, modifier, msg_start, len(result))\n",
            "/usr/local/lib/python3.10/dist-packages/sklearn/metrics/_classification.py:1344: UndefinedMetricWarning: Recall is ill-defined and being set to 0.0 in labels with no true samples. Use `zero_division` parameter to control this behavior.\n",
            "  _warn_prf(average, modifier, msg_start, len(result))\n",
            "/usr/local/lib/python3.10/dist-packages/sklearn/metrics/_classification.py:1344: UndefinedMetricWarning: Recall is ill-defined and being set to 0.0 in labels with no true samples. Use `zero_division` parameter to control this behavior.\n",
            "  _warn_prf(average, modifier, msg_start, len(result))\n"
          ]
        },
        {
          "output_type": "stream",
          "name": "stdout",
          "text": [
            "\n",
            "Epoch: 1\n",
            "Precision: 1.0000, Recall: 0.0000, F1 Score: 0.0000\n",
            "Epoch 2, Avg. Loss (All Files): 7.36\n"
          ]
        },
        {
          "output_type": "stream",
          "name": "stderr",
          "text": [
            "/usr/local/lib/python3.10/dist-packages/sklearn/metrics/_classification.py:1344: UndefinedMetricWarning: Recall is ill-defined and being set to 0.0 in labels with no true samples. Use `zero_division` parameter to control this behavior.\n",
            "  _warn_prf(average, modifier, msg_start, len(result))\n",
            "/usr/local/lib/python3.10/dist-packages/sklearn/metrics/_classification.py:1344: UndefinedMetricWarning: Recall is ill-defined and being set to 0.0 in labels with no true samples. Use `zero_division` parameter to control this behavior.\n",
            "  _warn_prf(average, modifier, msg_start, len(result))\n",
            "/usr/local/lib/python3.10/dist-packages/sklearn/metrics/_classification.py:1344: UndefinedMetricWarning: Recall is ill-defined and being set to 0.0 in labels with no true samples. Use `zero_division` parameter to control this behavior.\n",
            "  _warn_prf(average, modifier, msg_start, len(result))\n",
            "/usr/local/lib/python3.10/dist-packages/sklearn/metrics/_classification.py:1344: UndefinedMetricWarning: Recall is ill-defined and being set to 0.0 in labels with no true samples. Use `zero_division` parameter to control this behavior.\n",
            "  _warn_prf(average, modifier, msg_start, len(result))\n",
            "/usr/local/lib/python3.10/dist-packages/sklearn/metrics/_classification.py:1344: UndefinedMetricWarning: Recall is ill-defined and being set to 0.0 in labels with no true samples. Use `zero_division` parameter to control this behavior.\n",
            "  _warn_prf(average, modifier, msg_start, len(result))\n",
            "/usr/local/lib/python3.10/dist-packages/sklearn/metrics/_classification.py:1344: UndefinedMetricWarning: Recall is ill-defined and being set to 0.0 in labels with no true samples. Use `zero_division` parameter to control this behavior.\n",
            "  _warn_prf(average, modifier, msg_start, len(result))\n",
            "/usr/local/lib/python3.10/dist-packages/sklearn/metrics/_classification.py:1344: UndefinedMetricWarning: Recall is ill-defined and being set to 0.0 in labels with no true samples. Use `zero_division` parameter to control this behavior.\n",
            "  _warn_prf(average, modifier, msg_start, len(result))\n",
            "/usr/local/lib/python3.10/dist-packages/sklearn/metrics/_classification.py:1344: UndefinedMetricWarning: Recall is ill-defined and being set to 0.0 in labels with no true samples. Use `zero_division` parameter to control this behavior.\n",
            "  _warn_prf(average, modifier, msg_start, len(result))\n",
            "/usr/local/lib/python3.10/dist-packages/sklearn/metrics/_classification.py:1344: UndefinedMetricWarning: Recall is ill-defined and being set to 0.0 in labels with no true samples. Use `zero_division` parameter to control this behavior.\n",
            "  _warn_prf(average, modifier, msg_start, len(result))\n"
          ]
        },
        {
          "output_type": "stream",
          "name": "stdout",
          "text": [
            "\n",
            "Epoch: 2\n",
            "Precision: 0.7556, Recall: 0.0000, F1 Score: 0.0000\n",
            "Epoch 3, Avg. Loss (All Files): 12.92\n",
            "\n",
            "Epoch: 3\n",
            "Precision: 0.6728, Recall: 0.3222, F1 Score: 0.2759\n"
          ]
        },
        {
          "output_type": "stream",
          "name": "stderr",
          "text": [
            "/usr/local/lib/python3.10/dist-packages/sklearn/metrics/_classification.py:1344: UndefinedMetricWarning: Recall is ill-defined and being set to 0.0 in labels with no true samples. Use `zero_division` parameter to control this behavior.\n",
            "  _warn_prf(average, modifier, msg_start, len(result))\n",
            "/usr/local/lib/python3.10/dist-packages/sklearn/metrics/_classification.py:1344: UndefinedMetricWarning: Recall is ill-defined and being set to 0.0 in labels with no true samples. Use `zero_division` parameter to control this behavior.\n",
            "  _warn_prf(average, modifier, msg_start, len(result))\n",
            "/usr/local/lib/python3.10/dist-packages/sklearn/metrics/_classification.py:1344: UndefinedMetricWarning: Recall is ill-defined and being set to 0.0 in labels with no true samples. Use `zero_division` parameter to control this behavior.\n",
            "  _warn_prf(average, modifier, msg_start, len(result))\n",
            "/usr/local/lib/python3.10/dist-packages/sklearn/metrics/_classification.py:1344: UndefinedMetricWarning: Recall is ill-defined and being set to 0.0 in labels with no true samples. Use `zero_division` parameter to control this behavior.\n",
            "  _warn_prf(average, modifier, msg_start, len(result))\n",
            "/usr/local/lib/python3.10/dist-packages/sklearn/metrics/_classification.py:1344: UndefinedMetricWarning: Recall is ill-defined and being set to 0.0 in labels with no true samples. Use `zero_division` parameter to control this behavior.\n",
            "  _warn_prf(average, modifier, msg_start, len(result))\n",
            "/usr/local/lib/python3.10/dist-packages/sklearn/metrics/_classification.py:1344: UndefinedMetricWarning: Recall is ill-defined and being set to 0.0 in labels with no true samples. Use `zero_division` parameter to control this behavior.\n",
            "  _warn_prf(average, modifier, msg_start, len(result))\n"
          ]
        },
        {
          "output_type": "stream",
          "name": "stdout",
          "text": [
            "Epoch 4, Avg. Loss (All Files): 10.63\n",
            "\n",
            "Epoch: 4\n",
            "Precision: 0.6704, Recall: 0.4000, F1 Score: 0.3556\n"
          ]
        },
        {
          "output_type": "stream",
          "name": "stderr",
          "text": [
            "/usr/local/lib/python3.10/dist-packages/sklearn/metrics/_classification.py:1344: UndefinedMetricWarning: Recall is ill-defined and being set to 0.0 in labels with no true samples. Use `zero_division` parameter to control this behavior.\n",
            "  _warn_prf(average, modifier, msg_start, len(result))\n",
            "/usr/local/lib/python3.10/dist-packages/sklearn/metrics/_classification.py:1344: UndefinedMetricWarning: Recall is ill-defined and being set to 0.0 in labels with no true samples. Use `zero_division` parameter to control this behavior.\n",
            "  _warn_prf(average, modifier, msg_start, len(result))\n",
            "/usr/local/lib/python3.10/dist-packages/sklearn/metrics/_classification.py:1344: UndefinedMetricWarning: Recall is ill-defined and being set to 0.0 in labels with no true samples. Use `zero_division` parameter to control this behavior.\n",
            "  _warn_prf(average, modifier, msg_start, len(result))\n",
            "/usr/local/lib/python3.10/dist-packages/sklearn/metrics/_classification.py:1344: UndefinedMetricWarning: Recall is ill-defined and being set to 0.0 in labels with no true samples. Use `zero_division` parameter to control this behavior.\n",
            "  _warn_prf(average, modifier, msg_start, len(result))\n",
            "/usr/local/lib/python3.10/dist-packages/sklearn/metrics/_classification.py:1344: UndefinedMetricWarning: Recall is ill-defined and being set to 0.0 in labels with no true samples. Use `zero_division` parameter to control this behavior.\n",
            "  _warn_prf(average, modifier, msg_start, len(result))\n"
          ]
        },
        {
          "output_type": "stream",
          "name": "stdout",
          "text": [
            "Epoch 5, Avg. Loss (All Files): 10.22\n",
            "\n",
            "Epoch: 5\n",
            "Precision: 0.7519, Recall: 0.5111, F1 Score: 0.4444\n"
          ]
        },
        {
          "output_type": "stream",
          "name": "stderr",
          "text": [
            "/usr/local/lib/python3.10/dist-packages/sklearn/metrics/_classification.py:1344: UndefinedMetricWarning: Recall is ill-defined and being set to 0.0 in labels with no true samples. Use `zero_division` parameter to control this behavior.\n",
            "  _warn_prf(average, modifier, msg_start, len(result))\n",
            "/usr/local/lib/python3.10/dist-packages/sklearn/metrics/_classification.py:1344: UndefinedMetricWarning: Recall is ill-defined and being set to 0.0 in labels with no true samples. Use `zero_division` parameter to control this behavior.\n",
            "  _warn_prf(average, modifier, msg_start, len(result))\n",
            "/usr/local/lib/python3.10/dist-packages/sklearn/metrics/_classification.py:1344: UndefinedMetricWarning: Recall is ill-defined and being set to 0.0 in labels with no true samples. Use `zero_division` parameter to control this behavior.\n",
            "  _warn_prf(average, modifier, msg_start, len(result))\n"
          ]
        },
        {
          "output_type": "stream",
          "name": "stdout",
          "text": [
            "Epoch 6, Avg. Loss (All Files): 5.25\n",
            "\n",
            "Epoch: 6\n",
            "Precision: 0.6654, Recall: 0.4074, F1 Score: 0.3574\n"
          ]
        },
        {
          "output_type": "stream",
          "name": "stderr",
          "text": [
            "/usr/local/lib/python3.10/dist-packages/sklearn/metrics/_classification.py:1344: UndefinedMetricWarning: Recall is ill-defined and being set to 0.0 in labels with no true samples. Use `zero_division` parameter to control this behavior.\n",
            "  _warn_prf(average, modifier, msg_start, len(result))\n",
            "/usr/local/lib/python3.10/dist-packages/sklearn/metrics/_classification.py:1344: UndefinedMetricWarning: Recall is ill-defined and being set to 0.0 in labels with no true samples. Use `zero_division` parameter to control this behavior.\n",
            "  _warn_prf(average, modifier, msg_start, len(result))\n",
            "/usr/local/lib/python3.10/dist-packages/sklearn/metrics/_classification.py:1344: UndefinedMetricWarning: Recall is ill-defined and being set to 0.0 in labels with no true samples. Use `zero_division` parameter to control this behavior.\n",
            "  _warn_prf(average, modifier, msg_start, len(result))\n"
          ]
        },
        {
          "output_type": "stream",
          "name": "stdout",
          "text": [
            "Epoch 7, Avg. Loss (All Files): 9.39\n",
            "\n",
            "Epoch: 7\n",
            "Precision: 0.6296, Recall: 0.2222, F1 Score: 0.1815\n"
          ]
        },
        {
          "output_type": "stream",
          "name": "stderr",
          "text": [
            "/usr/local/lib/python3.10/dist-packages/sklearn/metrics/_classification.py:1344: UndefinedMetricWarning: Recall is ill-defined and being set to 0.0 in labels with no true samples. Use `zero_division` parameter to control this behavior.\n",
            "  _warn_prf(average, modifier, msg_start, len(result))\n",
            "/usr/local/lib/python3.10/dist-packages/sklearn/metrics/_classification.py:1344: UndefinedMetricWarning: Recall is ill-defined and being set to 0.0 in labels with no true samples. Use `zero_division` parameter to control this behavior.\n",
            "  _warn_prf(average, modifier, msg_start, len(result))\n",
            "/usr/local/lib/python3.10/dist-packages/sklearn/metrics/_classification.py:1344: UndefinedMetricWarning: Recall is ill-defined and being set to 0.0 in labels with no true samples. Use `zero_division` parameter to control this behavior.\n",
            "  _warn_prf(average, modifier, msg_start, len(result))\n",
            "/usr/local/lib/python3.10/dist-packages/sklearn/metrics/_classification.py:1344: UndefinedMetricWarning: Recall is ill-defined and being set to 0.0 in labels with no true samples. Use `zero_division` parameter to control this behavior.\n",
            "  _warn_prf(average, modifier, msg_start, len(result))\n",
            "/usr/local/lib/python3.10/dist-packages/sklearn/metrics/_classification.py:1344: UndefinedMetricWarning: Recall is ill-defined and being set to 0.0 in labels with no true samples. Use `zero_division` parameter to control this behavior.\n",
            "  _warn_prf(average, modifier, msg_start, len(result))\n",
            "/usr/local/lib/python3.10/dist-packages/sklearn/metrics/_classification.py:1344: UndefinedMetricWarning: Recall is ill-defined and being set to 0.0 in labels with no true samples. Use `zero_division` parameter to control this behavior.\n",
            "  _warn_prf(average, modifier, msg_start, len(result))\n",
            "/usr/local/lib/python3.10/dist-packages/sklearn/metrics/_classification.py:1344: UndefinedMetricWarning: Recall is ill-defined and being set to 0.0 in labels with no true samples. Use `zero_division` parameter to control this behavior.\n",
            "  _warn_prf(average, modifier, msg_start, len(result))\n",
            "/usr/local/lib/python3.10/dist-packages/sklearn/metrics/_classification.py:1344: UndefinedMetricWarning: Recall is ill-defined and being set to 0.0 in labels with no true samples. Use `zero_division` parameter to control this behavior.\n",
            "  _warn_prf(average, modifier, msg_start, len(result))\n"
          ]
        },
        {
          "output_type": "stream",
          "name": "stdout",
          "text": [
            "Epoch 8, Avg. Loss (All Files): 7.48\n"
          ]
        },
        {
          "output_type": "stream",
          "name": "stderr",
          "text": [
            "/usr/local/lib/python3.10/dist-packages/sklearn/metrics/_classification.py:1344: UndefinedMetricWarning: Recall is ill-defined and being set to 0.0 in labels with no true samples. Use `zero_division` parameter to control this behavior.\n",
            "  _warn_prf(average, modifier, msg_start, len(result))\n",
            "/usr/local/lib/python3.10/dist-packages/sklearn/metrics/_classification.py:1344: UndefinedMetricWarning: Recall is ill-defined and being set to 0.0 in labels with no true samples. Use `zero_division` parameter to control this behavior.\n",
            "  _warn_prf(average, modifier, msg_start, len(result))\n",
            "/usr/local/lib/python3.10/dist-packages/sklearn/metrics/_classification.py:1344: UndefinedMetricWarning: Recall is ill-defined and being set to 0.0 in labels with no true samples. Use `zero_division` parameter to control this behavior.\n",
            "  _warn_prf(average, modifier, msg_start, len(result))\n"
          ]
        },
        {
          "output_type": "stream",
          "name": "stdout",
          "text": [
            "\n",
            "Epoch: 8\n",
            "Precision: 0.6725, Recall: 0.3365, F1 Score: 0.2926\n",
            "Epoch 9, Avg. Loss (All Files): 6.13\n"
          ]
        },
        {
          "output_type": "stream",
          "name": "stderr",
          "text": [
            "/usr/local/lib/python3.10/dist-packages/sklearn/metrics/_classification.py:1344: UndefinedMetricWarning: Recall is ill-defined and being set to 0.0 in labels with no true samples. Use `zero_division` parameter to control this behavior.\n",
            "  _warn_prf(average, modifier, msg_start, len(result))\n",
            "/usr/local/lib/python3.10/dist-packages/sklearn/metrics/_classification.py:1344: UndefinedMetricWarning: Recall is ill-defined and being set to 0.0 in labels with no true samples. Use `zero_division` parameter to control this behavior.\n",
            "  _warn_prf(average, modifier, msg_start, len(result))\n"
          ]
        },
        {
          "output_type": "stream",
          "name": "stdout",
          "text": [
            "\n",
            "Epoch: 9\n",
            "Precision: 0.7296, Recall: 0.5778, F1 Score: 0.5148\n",
            "Epoch 10, Avg. Loss (All Files): 4.82\n"
          ]
        },
        {
          "output_type": "stream",
          "name": "stderr",
          "text": [
            "/usr/local/lib/python3.10/dist-packages/sklearn/metrics/_classification.py:1344: UndefinedMetricWarning: Recall is ill-defined and being set to 0.0 in labels with no true samples. Use `zero_division` parameter to control this behavior.\n",
            "  _warn_prf(average, modifier, msg_start, len(result))\n",
            "/usr/local/lib/python3.10/dist-packages/sklearn/metrics/_classification.py:1344: UndefinedMetricWarning: Recall is ill-defined and being set to 0.0 in labels with no true samples. Use `zero_division` parameter to control this behavior.\n",
            "  _warn_prf(average, modifier, msg_start, len(result))\n"
          ]
        },
        {
          "output_type": "stream",
          "name": "stdout",
          "text": [
            "\n",
            "Epoch: 10\n",
            "Precision: 0.7630, Recall: 0.5778, F1 Score: 0.5222\n",
            "Epoch 11, Avg. Loss (All Files): 4.30\n",
            "\n",
            "Epoch: 11\n",
            "Precision: 0.8204, Recall: 0.6926, F1 Score: 0.6309\n"
          ]
        },
        {
          "output_type": "stream",
          "name": "stderr",
          "text": [
            "/usr/local/lib/python3.10/dist-packages/sklearn/metrics/_classification.py:1344: UndefinedMetricWarning: Recall is ill-defined and being set to 0.0 in labels with no true samples. Use `zero_division` parameter to control this behavior.\n",
            "  _warn_prf(average, modifier, msg_start, len(result))\n"
          ]
        },
        {
          "output_type": "stream",
          "name": "stdout",
          "text": [
            "Epoch 12, Avg. Loss (All Files): 3.27\n",
            "\n",
            "Epoch: 12\n",
            "Precision: 0.8759, Recall: 0.7593, F1 Score: 0.6901\n",
            "Epoch 13, Avg. Loss (All Files): 3.33\n",
            "\n",
            "Epoch: 13\n",
            "Precision: 0.7889, Recall: 0.6444, F1 Score: 0.5926\n"
          ]
        },
        {
          "output_type": "stream",
          "name": "stderr",
          "text": [
            "/usr/local/lib/python3.10/dist-packages/sklearn/metrics/_classification.py:1344: UndefinedMetricWarning: Recall is ill-defined and being set to 0.0 in labels with no true samples. Use `zero_division` parameter to control this behavior.\n",
            "  _warn_prf(average, modifier, msg_start, len(result))\n",
            "/usr/local/lib/python3.10/dist-packages/sklearn/metrics/_classification.py:1344: UndefinedMetricWarning: Recall is ill-defined and being set to 0.0 in labels with no true samples. Use `zero_division` parameter to control this behavior.\n",
            "  _warn_prf(average, modifier, msg_start, len(result))\n"
          ]
        },
        {
          "output_type": "stream",
          "name": "stdout",
          "text": [
            "Epoch 14, Avg. Loss (All Files): 3.39\n",
            "\n",
            "Epoch: 14\n",
            "Precision: 0.8444, Recall: 0.7333, F1 Score: 0.6889\n"
          ]
        },
        {
          "output_type": "stream",
          "name": "stderr",
          "text": [
            "/usr/local/lib/python3.10/dist-packages/sklearn/metrics/_classification.py:1344: UndefinedMetricWarning: Recall is ill-defined and being set to 0.0 in labels with no true samples. Use `zero_division` parameter to control this behavior.\n",
            "  _warn_prf(average, modifier, msg_start, len(result))\n",
            "/usr/local/lib/python3.10/dist-packages/sklearn/metrics/_classification.py:1344: UndefinedMetricWarning: Recall is ill-defined and being set to 0.0 in labels with no true samples. Use `zero_division` parameter to control this behavior.\n",
            "  _warn_prf(average, modifier, msg_start, len(result))\n"
          ]
        },
        {
          "output_type": "stream",
          "name": "stdout",
          "text": [
            "Epoch 15, Avg. Loss (All Files): 3.70\n",
            "\n",
            "Epoch: 15\n",
            "Precision: 0.8222, Recall: 0.6889, F1 Score: 0.6296\n"
          ]
        },
        {
          "output_type": "stream",
          "name": "stderr",
          "text": [
            "/usr/local/lib/python3.10/dist-packages/sklearn/metrics/_classification.py:1344: UndefinedMetricWarning: Recall is ill-defined and being set to 0.0 in labels with no true samples. Use `zero_division` parameter to control this behavior.\n",
            "  _warn_prf(average, modifier, msg_start, len(result))\n",
            "/usr/local/lib/python3.10/dist-packages/sklearn/metrics/_classification.py:1344: UndefinedMetricWarning: Recall is ill-defined and being set to 0.0 in labels with no true samples. Use `zero_division` parameter to control this behavior.\n",
            "  _warn_prf(average, modifier, msg_start, len(result))\n"
          ]
        },
        {
          "output_type": "stream",
          "name": "stdout",
          "text": [
            "Epoch 16, Avg. Loss (All Files): 2.70\n"
          ]
        },
        {
          "output_type": "stream",
          "name": "stderr",
          "text": [
            "/usr/local/lib/python3.10/dist-packages/sklearn/metrics/_classification.py:1344: UndefinedMetricWarning: Recall is ill-defined and being set to 0.0 in labels with no true samples. Use `zero_division` parameter to control this behavior.\n",
            "  _warn_prf(average, modifier, msg_start, len(result))\n"
          ]
        },
        {
          "output_type": "stream",
          "name": "stdout",
          "text": [
            "\n",
            "Epoch: 16\n",
            "Precision: 0.8185, Recall: 0.6889, F1 Score: 0.6259\n",
            "Epoch 17, Avg. Loss (All Files): 5.81\n"
          ]
        },
        {
          "output_type": "stream",
          "name": "stderr",
          "text": [
            "/usr/local/lib/python3.10/dist-packages/sklearn/metrics/_classification.py:1344: UndefinedMetricWarning: Recall is ill-defined and being set to 0.0 in labels with no true samples. Use `zero_division` parameter to control this behavior.\n",
            "  _warn_prf(average, modifier, msg_start, len(result))\n",
            "/usr/local/lib/python3.10/dist-packages/sklearn/metrics/_classification.py:1344: UndefinedMetricWarning: Recall is ill-defined and being set to 0.0 in labels with no true samples. Use `zero_division` parameter to control this behavior.\n",
            "  _warn_prf(average, modifier, msg_start, len(result))\n"
          ]
        },
        {
          "output_type": "stream",
          "name": "stdout",
          "text": [
            "\n",
            "Epoch: 17\n",
            "Precision: 0.8222, Recall: 0.6889, F1 Score: 0.6296\n",
            "Epoch 18, Avg. Loss (All Files): 3.38\n",
            "\n",
            "Epoch: 18\n",
            "Precision: 0.8222, Recall: 0.7333, F1 Score: 0.7037\n"
          ]
        },
        {
          "output_type": "stream",
          "name": "stderr",
          "text": [
            "/usr/local/lib/python3.10/dist-packages/sklearn/metrics/_classification.py:1344: UndefinedMetricWarning: Recall is ill-defined and being set to 0.0 in labels with no true samples. Use `zero_division` parameter to control this behavior.\n",
            "  _warn_prf(average, modifier, msg_start, len(result))\n",
            "/usr/local/lib/python3.10/dist-packages/sklearn/metrics/_classification.py:1344: UndefinedMetricWarning: Recall is ill-defined and being set to 0.0 in labels with no true samples. Use `zero_division` parameter to control this behavior.\n",
            "  _warn_prf(average, modifier, msg_start, len(result))\n"
          ]
        },
        {
          "output_type": "stream",
          "name": "stdout",
          "text": [
            "Epoch 19, Avg. Loss (All Files): 3.12\n",
            "\n",
            "Epoch: 19\n",
            "Precision: 0.9000, Recall: 0.8222, F1 Score: 0.7852\n"
          ]
        },
        {
          "output_type": "stream",
          "name": "stderr",
          "text": [
            "/usr/local/lib/python3.10/dist-packages/sklearn/metrics/_classification.py:1344: UndefinedMetricWarning: Recall is ill-defined and being set to 0.0 in labels with no true samples. Use `zero_division` parameter to control this behavior.\n",
            "  _warn_prf(average, modifier, msg_start, len(result))\n"
          ]
        },
        {
          "output_type": "stream",
          "name": "stdout",
          "text": [
            "Epoch 20, Avg. Loss (All Files): 2.93\n",
            "\n",
            "Epoch: 20\n",
            "Precision: 0.8407, Recall: 0.7111, F1 Score: 0.6630\n"
          ]
        },
        {
          "output_type": "stream",
          "name": "stderr",
          "text": [
            "/usr/local/lib/python3.10/dist-packages/sklearn/metrics/_classification.py:1344: UndefinedMetricWarning: Recall is ill-defined and being set to 0.0 in labels with no true samples. Use `zero_division` parameter to control this behavior.\n",
            "  _warn_prf(average, modifier, msg_start, len(result))\n",
            "/usr/local/lib/python3.10/dist-packages/sklearn/metrics/_classification.py:1344: UndefinedMetricWarning: Recall is ill-defined and being set to 0.0 in labels with no true samples. Use `zero_division` parameter to control this behavior.\n",
            "  _warn_prf(average, modifier, msg_start, len(result))\n"
          ]
        },
        {
          "output_type": "stream",
          "name": "stdout",
          "text": [
            "Epoch 21, Avg. Loss (All Files): 2.40\n",
            "\n",
            "Epoch: 21\n",
            "Precision: 0.8000, Recall: 0.6667, F1 Score: 0.6222\n"
          ]
        },
        {
          "output_type": "stream",
          "name": "stderr",
          "text": [
            "/usr/local/lib/python3.10/dist-packages/sklearn/metrics/_classification.py:1344: UndefinedMetricWarning: Recall is ill-defined and being set to 0.0 in labels with no true samples. Use `zero_division` parameter to control this behavior.\n",
            "  _warn_prf(average, modifier, msg_start, len(result))\n",
            "/usr/local/lib/python3.10/dist-packages/sklearn/metrics/_classification.py:1344: UndefinedMetricWarning: Recall is ill-defined and being set to 0.0 in labels with no true samples. Use `zero_division` parameter to control this behavior.\n",
            "  _warn_prf(average, modifier, msg_start, len(result))\n"
          ]
        },
        {
          "output_type": "stream",
          "name": "stdout",
          "text": [
            "Epoch 22, Avg. Loss (All Files): 1.85\n",
            "\n",
            "Epoch: 22\n",
            "Precision: 0.8296, Recall: 0.7333, F1 Score: 0.7074\n"
          ]
        },
        {
          "output_type": "stream",
          "name": "stderr",
          "text": [
            "/usr/local/lib/python3.10/dist-packages/sklearn/metrics/_classification.py:1344: UndefinedMetricWarning: Recall is ill-defined and being set to 0.0 in labels with no true samples. Use `zero_division` parameter to control this behavior.\n",
            "  _warn_prf(average, modifier, msg_start, len(result))\n",
            "/usr/local/lib/python3.10/dist-packages/sklearn/metrics/_classification.py:1344: UndefinedMetricWarning: Recall is ill-defined and being set to 0.0 in labels with no true samples. Use `zero_division` parameter to control this behavior.\n",
            "  _warn_prf(average, modifier, msg_start, len(result))\n"
          ]
        },
        {
          "output_type": "stream",
          "name": "stdout",
          "text": [
            "Epoch 23, Avg. Loss (All Files): 1.06\n",
            "\n",
            "Epoch: 23\n",
            "Precision: 0.8556, Recall: 0.8000, F1 Score: 0.7926\n"
          ]
        },
        {
          "output_type": "stream",
          "name": "stderr",
          "text": [
            "/usr/local/lib/python3.10/dist-packages/sklearn/metrics/_classification.py:1344: UndefinedMetricWarning: Recall is ill-defined and being set to 0.0 in labels with no true samples. Use `zero_division` parameter to control this behavior.\n",
            "  _warn_prf(average, modifier, msg_start, len(result))\n",
            "/usr/local/lib/python3.10/dist-packages/sklearn/metrics/_classification.py:1344: UndefinedMetricWarning: Recall is ill-defined and being set to 0.0 in labels with no true samples. Use `zero_division` parameter to control this behavior.\n",
            "  _warn_prf(average, modifier, msg_start, len(result))\n"
          ]
        },
        {
          "output_type": "stream",
          "name": "stdout",
          "text": [
            "Epoch 24, Avg. Loss (All Files): 1.08\n"
          ]
        },
        {
          "output_type": "stream",
          "name": "stderr",
          "text": [
            "/usr/local/lib/python3.10/dist-packages/sklearn/metrics/_classification.py:1344: UndefinedMetricWarning: Recall is ill-defined and being set to 0.0 in labels with no true samples. Use `zero_division` parameter to control this behavior.\n",
            "  _warn_prf(average, modifier, msg_start, len(result))\n",
            "/usr/local/lib/python3.10/dist-packages/sklearn/metrics/_classification.py:1344: UndefinedMetricWarning: Recall is ill-defined and being set to 0.0 in labels with no true samples. Use `zero_division` parameter to control this behavior.\n",
            "  _warn_prf(average, modifier, msg_start, len(result))\n"
          ]
        },
        {
          "output_type": "stream",
          "name": "stdout",
          "text": [
            "\n",
            "Epoch: 24\n",
            "Precision: 0.8333, Recall: 0.7556, F1 Score: 0.7333\n",
            "Epoch 25, Avg. Loss (All Files): 1.30\n"
          ]
        },
        {
          "output_type": "stream",
          "name": "stderr",
          "text": [
            "/usr/local/lib/python3.10/dist-packages/sklearn/metrics/_classification.py:1344: UndefinedMetricWarning: Recall is ill-defined and being set to 0.0 in labels with no true samples. Use `zero_division` parameter to control this behavior.\n",
            "  _warn_prf(average, modifier, msg_start, len(result))\n",
            "/usr/local/lib/python3.10/dist-packages/sklearn/metrics/_classification.py:1344: UndefinedMetricWarning: Recall is ill-defined and being set to 0.0 in labels with no true samples. Use `zero_division` parameter to control this behavior.\n",
            "  _warn_prf(average, modifier, msg_start, len(result))\n"
          ]
        },
        {
          "output_type": "stream",
          "name": "stdout",
          "text": [
            "\n",
            "Epoch: 25\n",
            "Precision: 0.8556, Recall: 0.8000, F1 Score: 0.7926\n",
            "Epoch 26, Avg. Loss (All Files): 0.67\n",
            "\n",
            "Epoch: 26\n",
            "Precision: 0.8556, Recall: 0.8000, F1 Score: 0.7926\n"
          ]
        },
        {
          "output_type": "stream",
          "name": "stderr",
          "text": [
            "/usr/local/lib/python3.10/dist-packages/sklearn/metrics/_classification.py:1344: UndefinedMetricWarning: Recall is ill-defined and being set to 0.0 in labels with no true samples. Use `zero_division` parameter to control this behavior.\n",
            "  _warn_prf(average, modifier, msg_start, len(result))\n",
            "/usr/local/lib/python3.10/dist-packages/sklearn/metrics/_classification.py:1344: UndefinedMetricWarning: Recall is ill-defined and being set to 0.0 in labels with no true samples. Use `zero_division` parameter to control this behavior.\n",
            "  _warn_prf(average, modifier, msg_start, len(result))\n"
          ]
        },
        {
          "output_type": "stream",
          "name": "stdout",
          "text": [
            "Epoch 27, Avg. Loss (All Files): 0.98\n",
            "\n",
            "Epoch: 27\n",
            "Precision: 0.8556, Recall: 0.8000, F1 Score: 0.7926\n"
          ]
        },
        {
          "output_type": "stream",
          "name": "stderr",
          "text": [
            "/usr/local/lib/python3.10/dist-packages/sklearn/metrics/_classification.py:1344: UndefinedMetricWarning: Recall is ill-defined and being set to 0.0 in labels with no true samples. Use `zero_division` parameter to control this behavior.\n",
            "  _warn_prf(average, modifier, msg_start, len(result))\n",
            "/usr/local/lib/python3.10/dist-packages/sklearn/metrics/_classification.py:1344: UndefinedMetricWarning: Recall is ill-defined and being set to 0.0 in labels with no true samples. Use `zero_division` parameter to control this behavior.\n",
            "  _warn_prf(average, modifier, msg_start, len(result))\n"
          ]
        },
        {
          "output_type": "stream",
          "name": "stdout",
          "text": [
            "Epoch 28, Avg. Loss (All Files): 1.20\n",
            "\n",
            "Epoch: 28\n",
            "Precision: 0.8556, Recall: 0.8000, F1 Score: 0.7926\n"
          ]
        },
        {
          "output_type": "stream",
          "name": "stderr",
          "text": [
            "/usr/local/lib/python3.10/dist-packages/sklearn/metrics/_classification.py:1344: UndefinedMetricWarning: Recall is ill-defined and being set to 0.0 in labels with no true samples. Use `zero_division` parameter to control this behavior.\n",
            "  _warn_prf(average, modifier, msg_start, len(result))\n",
            "/usr/local/lib/python3.10/dist-packages/sklearn/metrics/_classification.py:1344: UndefinedMetricWarning: Recall is ill-defined and being set to 0.0 in labels with no true samples. Use `zero_division` parameter to control this behavior.\n",
            "  _warn_prf(average, modifier, msg_start, len(result))\n"
          ]
        },
        {
          "output_type": "stream",
          "name": "stdout",
          "text": [
            "Epoch 29, Avg. Loss (All Files): 0.94\n",
            "\n",
            "Epoch: 29\n",
            "Precision: 0.8556, Recall: 0.8000, F1 Score: 0.7926\n"
          ]
        },
        {
          "output_type": "stream",
          "name": "stderr",
          "text": [
            "/usr/local/lib/python3.10/dist-packages/sklearn/metrics/_classification.py:1344: UndefinedMetricWarning: Recall is ill-defined and being set to 0.0 in labels with no true samples. Use `zero_division` parameter to control this behavior.\n",
            "  _warn_prf(average, modifier, msg_start, len(result))\n",
            "/usr/local/lib/python3.10/dist-packages/sklearn/metrics/_classification.py:1344: UndefinedMetricWarning: Recall is ill-defined and being set to 0.0 in labels with no true samples. Use `zero_division` parameter to control this behavior.\n",
            "  _warn_prf(average, modifier, msg_start, len(result))\n"
          ]
        },
        {
          "output_type": "stream",
          "name": "stdout",
          "text": [
            "Epoch 30, Avg. Loss (All Files): 0.94\n",
            "\n",
            "Epoch: 30\n",
            "Precision: 0.8556, Recall: 0.8000, F1 Score: 0.7926\n"
          ]
        },
        {
          "output_type": "stream",
          "name": "stderr",
          "text": [
            "/usr/local/lib/python3.10/dist-packages/sklearn/metrics/_classification.py:1344: UndefinedMetricWarning: Recall is ill-defined and being set to 0.0 in labels with no true samples. Use `zero_division` parameter to control this behavior.\n",
            "  _warn_prf(average, modifier, msg_start, len(result))\n",
            "/usr/local/lib/python3.10/dist-packages/sklearn/metrics/_classification.py:1344: UndefinedMetricWarning: Recall is ill-defined and being set to 0.0 in labels with no true samples. Use `zero_division` parameter to control this behavior.\n",
            "  _warn_prf(average, modifier, msg_start, len(result))\n"
          ]
        },
        {
          "output_type": "stream",
          "name": "stdout",
          "text": [
            "Epoch 31, Avg. Loss (All Files): 0.50\n"
          ]
        },
        {
          "output_type": "stream",
          "name": "stderr",
          "text": [
            "/usr/local/lib/python3.10/dist-packages/sklearn/metrics/_classification.py:1344: UndefinedMetricWarning: Recall is ill-defined and being set to 0.0 in labels with no true samples. Use `zero_division` parameter to control this behavior.\n",
            "  _warn_prf(average, modifier, msg_start, len(result))\n",
            "/usr/local/lib/python3.10/dist-packages/sklearn/metrics/_classification.py:1344: UndefinedMetricWarning: Recall is ill-defined and being set to 0.0 in labels with no true samples. Use `zero_division` parameter to control this behavior.\n",
            "  _warn_prf(average, modifier, msg_start, len(result))\n"
          ]
        },
        {
          "output_type": "stream",
          "name": "stdout",
          "text": [
            "\n",
            "Epoch: 31\n",
            "Precision: 0.8556, Recall: 0.8000, F1 Score: 0.7926\n",
            "Epoch 32, Avg. Loss (All Files): 0.65\n"
          ]
        },
        {
          "output_type": "stream",
          "name": "stderr",
          "text": [
            "/usr/local/lib/python3.10/dist-packages/sklearn/metrics/_classification.py:1344: UndefinedMetricWarning: Recall is ill-defined and being set to 0.0 in labels with no true samples. Use `zero_division` parameter to control this behavior.\n",
            "  _warn_prf(average, modifier, msg_start, len(result))\n",
            "/usr/local/lib/python3.10/dist-packages/sklearn/metrics/_classification.py:1344: UndefinedMetricWarning: Recall is ill-defined and being set to 0.0 in labels with no true samples. Use `zero_division` parameter to control this behavior.\n",
            "  _warn_prf(average, modifier, msg_start, len(result))\n"
          ]
        },
        {
          "output_type": "stream",
          "name": "stdout",
          "text": [
            "\n",
            "Epoch: 32\n",
            "Precision: 0.8556, Recall: 0.8000, F1 Score: 0.7926\n",
            "Epoch 33, Avg. Loss (All Files): 0.39\n",
            "\n",
            "Epoch: 33\n",
            "Precision: 0.8556, Recall: 0.8000, F1 Score: 0.7926\n"
          ]
        },
        {
          "output_type": "stream",
          "name": "stderr",
          "text": [
            "/usr/local/lib/python3.10/dist-packages/sklearn/metrics/_classification.py:1344: UndefinedMetricWarning: Recall is ill-defined and being set to 0.0 in labels with no true samples. Use `zero_division` parameter to control this behavior.\n",
            "  _warn_prf(average, modifier, msg_start, len(result))\n",
            "/usr/local/lib/python3.10/dist-packages/sklearn/metrics/_classification.py:1344: UndefinedMetricWarning: Recall is ill-defined and being set to 0.0 in labels with no true samples. Use `zero_division` parameter to control this behavior.\n",
            "  _warn_prf(average, modifier, msg_start, len(result))\n"
          ]
        },
        {
          "output_type": "stream",
          "name": "stdout",
          "text": [
            "Epoch 34, Avg. Loss (All Files): 0.12\n",
            "\n",
            "Epoch: 34\n",
            "Precision: 0.8444, Recall: 0.7556, F1 Score: 0.7407\n"
          ]
        },
        {
          "output_type": "stream",
          "name": "stderr",
          "text": [
            "/usr/local/lib/python3.10/dist-packages/sklearn/metrics/_classification.py:1344: UndefinedMetricWarning: Recall is ill-defined and being set to 0.0 in labels with no true samples. Use `zero_division` parameter to control this behavior.\n",
            "  _warn_prf(average, modifier, msg_start, len(result))\n",
            "/usr/local/lib/python3.10/dist-packages/sklearn/metrics/_classification.py:1344: UndefinedMetricWarning: Recall is ill-defined and being set to 0.0 in labels with no true samples. Use `zero_division` parameter to control this behavior.\n",
            "  _warn_prf(average, modifier, msg_start, len(result))\n"
          ]
        },
        {
          "output_type": "stream",
          "name": "stdout",
          "text": [
            "Epoch 35, Avg. Loss (All Files): 0.53\n",
            "\n",
            "Epoch: 35\n",
            "Precision: 0.8556, Recall: 0.8000, F1 Score: 0.7926\n"
          ]
        },
        {
          "output_type": "stream",
          "name": "stderr",
          "text": [
            "/usr/local/lib/python3.10/dist-packages/sklearn/metrics/_classification.py:1344: UndefinedMetricWarning: Recall is ill-defined and being set to 0.0 in labels with no true samples. Use `zero_division` parameter to control this behavior.\n",
            "  _warn_prf(average, modifier, msg_start, len(result))\n",
            "/usr/local/lib/python3.10/dist-packages/sklearn/metrics/_classification.py:1344: UndefinedMetricWarning: Recall is ill-defined and being set to 0.0 in labels with no true samples. Use `zero_division` parameter to control this behavior.\n",
            "  _warn_prf(average, modifier, msg_start, len(result))\n"
          ]
        },
        {
          "output_type": "stream",
          "name": "stdout",
          "text": [
            "Epoch 36, Avg. Loss (All Files): 0.40\n",
            "\n",
            "Epoch: 36\n",
            "Precision: 0.8556, Recall: 0.8000, F1 Score: 0.7926\n"
          ]
        },
        {
          "output_type": "stream",
          "name": "stderr",
          "text": [
            "/usr/local/lib/python3.10/dist-packages/sklearn/metrics/_classification.py:1344: UndefinedMetricWarning: Recall is ill-defined and being set to 0.0 in labels with no true samples. Use `zero_division` parameter to control this behavior.\n",
            "  _warn_prf(average, modifier, msg_start, len(result))\n",
            "/usr/local/lib/python3.10/dist-packages/sklearn/metrics/_classification.py:1344: UndefinedMetricWarning: Recall is ill-defined and being set to 0.0 in labels with no true samples. Use `zero_division` parameter to control this behavior.\n",
            "  _warn_prf(average, modifier, msg_start, len(result))\n"
          ]
        },
        {
          "output_type": "stream",
          "name": "stdout",
          "text": [
            "Epoch 37, Avg. Loss (All Files): 0.30\n",
            "\n",
            "Epoch: 37\n",
            "Precision: 0.8556, Recall: 0.8000, F1 Score: 0.7926\n"
          ]
        },
        {
          "output_type": "stream",
          "name": "stderr",
          "text": [
            "/usr/local/lib/python3.10/dist-packages/sklearn/metrics/_classification.py:1344: UndefinedMetricWarning: Recall is ill-defined and being set to 0.0 in labels with no true samples. Use `zero_division` parameter to control this behavior.\n",
            "  _warn_prf(average, modifier, msg_start, len(result))\n",
            "/usr/local/lib/python3.10/dist-packages/sklearn/metrics/_classification.py:1344: UndefinedMetricWarning: Recall is ill-defined and being set to 0.0 in labels with no true samples. Use `zero_division` parameter to control this behavior.\n",
            "  _warn_prf(average, modifier, msg_start, len(result))\n"
          ]
        },
        {
          "output_type": "stream",
          "name": "stdout",
          "text": [
            "Epoch 38, Avg. Loss (All Files): 0.31\n"
          ]
        },
        {
          "output_type": "stream",
          "name": "stderr",
          "text": [
            "/usr/local/lib/python3.10/dist-packages/sklearn/metrics/_classification.py:1344: UndefinedMetricWarning: Recall is ill-defined and being set to 0.0 in labels with no true samples. Use `zero_division` parameter to control this behavior.\n",
            "  _warn_prf(average, modifier, msg_start, len(result))\n",
            "/usr/local/lib/python3.10/dist-packages/sklearn/metrics/_classification.py:1344: UndefinedMetricWarning: Recall is ill-defined and being set to 0.0 in labels with no true samples. Use `zero_division` parameter to control this behavior.\n",
            "  _warn_prf(average, modifier, msg_start, len(result))\n"
          ]
        },
        {
          "output_type": "stream",
          "name": "stdout",
          "text": [
            "\n",
            "Epoch: 38\n",
            "Precision: 0.8556, Recall: 0.8000, F1 Score: 0.7926\n",
            "Epoch 39, Avg. Loss (All Files): 0.25\n"
          ]
        },
        {
          "output_type": "stream",
          "name": "stderr",
          "text": [
            "/usr/local/lib/python3.10/dist-packages/sklearn/metrics/_classification.py:1344: UndefinedMetricWarning: Recall is ill-defined and being set to 0.0 in labels with no true samples. Use `zero_division` parameter to control this behavior.\n",
            "  _warn_prf(average, modifier, msg_start, len(result))\n",
            "/usr/local/lib/python3.10/dist-packages/sklearn/metrics/_classification.py:1344: UndefinedMetricWarning: Recall is ill-defined and being set to 0.0 in labels with no true samples. Use `zero_division` parameter to control this behavior.\n",
            "  _warn_prf(average, modifier, msg_start, len(result))\n"
          ]
        },
        {
          "output_type": "stream",
          "name": "stdout",
          "text": [
            "\n",
            "Epoch: 39\n",
            "Precision: 0.8444, Recall: 0.7778, F1 Score: 0.7630\n",
            "Epoch 40, Avg. Loss (All Files): 0.25\n"
          ]
        },
        {
          "output_type": "stream",
          "name": "stderr",
          "text": [
            "/usr/local/lib/python3.10/dist-packages/sklearn/metrics/_classification.py:1344: UndefinedMetricWarning: Recall is ill-defined and being set to 0.0 in labels with no true samples. Use `zero_division` parameter to control this behavior.\n",
            "  _warn_prf(average, modifier, msg_start, len(result))\n",
            "/usr/local/lib/python3.10/dist-packages/sklearn/metrics/_classification.py:1344: UndefinedMetricWarning: Recall is ill-defined and being set to 0.0 in labels with no true samples. Use `zero_division` parameter to control this behavior.\n",
            "  _warn_prf(average, modifier, msg_start, len(result))\n"
          ]
        },
        {
          "output_type": "stream",
          "name": "stdout",
          "text": [
            "\n",
            "Epoch: 40\n",
            "Precision: 0.8556, Recall: 0.8000, F1 Score: 0.7926\n",
            "Epoch 41, Avg. Loss (All Files): 0.52\n",
            "\n",
            "Epoch: 41\n",
            "Precision: 0.8444, Recall: 0.7778, F1 Score: 0.7630\n"
          ]
        },
        {
          "output_type": "stream",
          "name": "stderr",
          "text": [
            "/usr/local/lib/python3.10/dist-packages/sklearn/metrics/_classification.py:1344: UndefinedMetricWarning: Recall is ill-defined and being set to 0.0 in labels with no true samples. Use `zero_division` parameter to control this behavior.\n",
            "  _warn_prf(average, modifier, msg_start, len(result))\n",
            "/usr/local/lib/python3.10/dist-packages/sklearn/metrics/_classification.py:1344: UndefinedMetricWarning: Recall is ill-defined and being set to 0.0 in labels with no true samples. Use `zero_division` parameter to control this behavior.\n",
            "  _warn_prf(average, modifier, msg_start, len(result))\n"
          ]
        },
        {
          "output_type": "stream",
          "name": "stdout",
          "text": [
            "Epoch 42, Avg. Loss (All Files): 0.35\n",
            "\n",
            "Epoch: 42\n",
            "Precision: 0.8556, Recall: 0.8000, F1 Score: 0.7926\n"
          ]
        },
        {
          "output_type": "stream",
          "name": "stderr",
          "text": [
            "/usr/local/lib/python3.10/dist-packages/sklearn/metrics/_classification.py:1344: UndefinedMetricWarning: Recall is ill-defined and being set to 0.0 in labels with no true samples. Use `zero_division` parameter to control this behavior.\n",
            "  _warn_prf(average, modifier, msg_start, len(result))\n",
            "/usr/local/lib/python3.10/dist-packages/sklearn/metrics/_classification.py:1344: UndefinedMetricWarning: Recall is ill-defined and being set to 0.0 in labels with no true samples. Use `zero_division` parameter to control this behavior.\n",
            "  _warn_prf(average, modifier, msg_start, len(result))\n"
          ]
        },
        {
          "output_type": "stream",
          "name": "stdout",
          "text": [
            "Epoch 43, Avg. Loss (All Files): 0.48\n",
            "\n",
            "Epoch: 43\n",
            "Precision: 0.8556, Recall: 0.8000, F1 Score: 0.7926\n"
          ]
        },
        {
          "output_type": "stream",
          "name": "stderr",
          "text": [
            "/usr/local/lib/python3.10/dist-packages/sklearn/metrics/_classification.py:1344: UndefinedMetricWarning: Recall is ill-defined and being set to 0.0 in labels with no true samples. Use `zero_division` parameter to control this behavior.\n",
            "  _warn_prf(average, modifier, msg_start, len(result))\n",
            "/usr/local/lib/python3.10/dist-packages/sklearn/metrics/_classification.py:1344: UndefinedMetricWarning: Recall is ill-defined and being set to 0.0 in labels with no true samples. Use `zero_division` parameter to control this behavior.\n",
            "  _warn_prf(average, modifier, msg_start, len(result))\n"
          ]
        },
        {
          "output_type": "stream",
          "name": "stdout",
          "text": [
            "Epoch 44, Avg. Loss (All Files): 0.44\n",
            "\n",
            "Epoch: 44\n",
            "Precision: 0.8556, Recall: 0.8000, F1 Score: 0.7926\n"
          ]
        },
        {
          "output_type": "stream",
          "name": "stderr",
          "text": [
            "/usr/local/lib/python3.10/dist-packages/sklearn/metrics/_classification.py:1344: UndefinedMetricWarning: Recall is ill-defined and being set to 0.0 in labels with no true samples. Use `zero_division` parameter to control this behavior.\n",
            "  _warn_prf(average, modifier, msg_start, len(result))\n",
            "/usr/local/lib/python3.10/dist-packages/sklearn/metrics/_classification.py:1344: UndefinedMetricWarning: Recall is ill-defined and being set to 0.0 in labels with no true samples. Use `zero_division` parameter to control this behavior.\n",
            "  _warn_prf(average, modifier, msg_start, len(result))\n"
          ]
        },
        {
          "output_type": "stream",
          "name": "stdout",
          "text": [
            "Epoch 45, Avg. Loss (All Files): 0.14\n",
            "\n",
            "Epoch: 45\n",
            "Precision: 0.8556, Recall: 0.8000, F1 Score: 0.7926\n"
          ]
        },
        {
          "output_type": "stream",
          "name": "stderr",
          "text": [
            "/usr/local/lib/python3.10/dist-packages/sklearn/metrics/_classification.py:1344: UndefinedMetricWarning: Recall is ill-defined and being set to 0.0 in labels with no true samples. Use `zero_division` parameter to control this behavior.\n",
            "  _warn_prf(average, modifier, msg_start, len(result))\n",
            "/usr/local/lib/python3.10/dist-packages/sklearn/metrics/_classification.py:1344: UndefinedMetricWarning: Recall is ill-defined and being set to 0.0 in labels with no true samples. Use `zero_division` parameter to control this behavior.\n",
            "  _warn_prf(average, modifier, msg_start, len(result))\n"
          ]
        },
        {
          "output_type": "stream",
          "name": "stdout",
          "text": [
            "Epoch 46, Avg. Loss (All Files): 0.44\n"
          ]
        },
        {
          "output_type": "stream",
          "name": "stderr",
          "text": [
            "/usr/local/lib/python3.10/dist-packages/sklearn/metrics/_classification.py:1344: UndefinedMetricWarning: Recall is ill-defined and being set to 0.0 in labels with no true samples. Use `zero_division` parameter to control this behavior.\n",
            "  _warn_prf(average, modifier, msg_start, len(result))\n",
            "/usr/local/lib/python3.10/dist-packages/sklearn/metrics/_classification.py:1344: UndefinedMetricWarning: Recall is ill-defined and being set to 0.0 in labels with no true samples. Use `zero_division` parameter to control this behavior.\n",
            "  _warn_prf(average, modifier, msg_start, len(result))\n"
          ]
        },
        {
          "output_type": "stream",
          "name": "stdout",
          "text": [
            "\n",
            "Epoch: 46\n",
            "Precision: 0.8556, Recall: 0.8000, F1 Score: 0.7926\n",
            "Epoch 47, Avg. Loss (All Files): 0.16\n"
          ]
        },
        {
          "output_type": "stream",
          "name": "stderr",
          "text": [
            "/usr/local/lib/python3.10/dist-packages/sklearn/metrics/_classification.py:1344: UndefinedMetricWarning: Recall is ill-defined and being set to 0.0 in labels with no true samples. Use `zero_division` parameter to control this behavior.\n",
            "  _warn_prf(average, modifier, msg_start, len(result))\n",
            "/usr/local/lib/python3.10/dist-packages/sklearn/metrics/_classification.py:1344: UndefinedMetricWarning: Recall is ill-defined and being set to 0.0 in labels with no true samples. Use `zero_division` parameter to control this behavior.\n",
            "  _warn_prf(average, modifier, msg_start, len(result))\n"
          ]
        },
        {
          "output_type": "stream",
          "name": "stdout",
          "text": [
            "\n",
            "Epoch: 47\n",
            "Precision: 0.8556, Recall: 0.8000, F1 Score: 0.7926\n",
            "Epoch 48, Avg. Loss (All Files): 0.02\n"
          ]
        },
        {
          "output_type": "stream",
          "name": "stderr",
          "text": [
            "/usr/local/lib/python3.10/dist-packages/sklearn/metrics/_classification.py:1344: UndefinedMetricWarning: Recall is ill-defined and being set to 0.0 in labels with no true samples. Use `zero_division` parameter to control this behavior.\n",
            "  _warn_prf(average, modifier, msg_start, len(result))\n"
          ]
        },
        {
          "output_type": "stream",
          "name": "stdout",
          "text": [
            "\n",
            "Epoch: 48\n",
            "Precision: 0.8889, Recall: 0.8444, F1 Score: 0.8296\n",
            "Epoch 49, Avg. Loss (All Files): 0.10\n",
            "\n",
            "Epoch: 49\n",
            "Precision: 0.8556, Recall: 0.8000, F1 Score: 0.7926\n"
          ]
        },
        {
          "output_type": "stream",
          "name": "stderr",
          "text": [
            "/usr/local/lib/python3.10/dist-packages/sklearn/metrics/_classification.py:1344: UndefinedMetricWarning: Recall is ill-defined and being set to 0.0 in labels with no true samples. Use `zero_division` parameter to control this behavior.\n",
            "  _warn_prf(average, modifier, msg_start, len(result))\n",
            "/usr/local/lib/python3.10/dist-packages/sklearn/metrics/_classification.py:1344: UndefinedMetricWarning: Recall is ill-defined and being set to 0.0 in labels with no true samples. Use `zero_division` parameter to control this behavior.\n",
            "  _warn_prf(average, modifier, msg_start, len(result))\n"
          ]
        },
        {
          "output_type": "stream",
          "name": "stdout",
          "text": [
            "Epoch 50, Avg. Loss (All Files): 0.26\n",
            "\n",
            "Epoch: 50\n",
            "Precision: 0.8556, Recall: 0.8000, F1 Score: 0.7926\n"
          ]
        },
        {
          "output_type": "stream",
          "name": "stderr",
          "text": [
            "/usr/local/lib/python3.10/dist-packages/sklearn/metrics/_classification.py:1344: UndefinedMetricWarning: Recall is ill-defined and being set to 0.0 in labels with no true samples. Use `zero_division` parameter to control this behavior.\n",
            "  _warn_prf(average, modifier, msg_start, len(result))\n",
            "/usr/local/lib/python3.10/dist-packages/sklearn/metrics/_classification.py:1344: UndefinedMetricWarning: Recall is ill-defined and being set to 0.0 in labels with no true samples. Use `zero_division` parameter to control this behavior.\n",
            "  _warn_prf(average, modifier, msg_start, len(result))\n"
          ]
        },
        {
          "output_type": "stream",
          "name": "stdout",
          "text": [
            "Epoch 51, Avg. Loss (All Files): 0.23\n",
            "\n",
            "Epoch: 51\n",
            "Precision: 0.8889, Recall: 0.8444, F1 Score: 0.8296\n"
          ]
        },
        {
          "output_type": "stream",
          "name": "stderr",
          "text": [
            "/usr/local/lib/python3.10/dist-packages/sklearn/metrics/_classification.py:1344: UndefinedMetricWarning: Recall is ill-defined and being set to 0.0 in labels with no true samples. Use `zero_division` parameter to control this behavior.\n",
            "  _warn_prf(average, modifier, msg_start, len(result))\n"
          ]
        },
        {
          "output_type": "stream",
          "name": "stdout",
          "text": [
            "Epoch 52, Avg. Loss (All Files): 0.55\n",
            "\n",
            "Epoch: 52\n",
            "Precision: 0.9000, Recall: 0.8667, F1 Score: 0.8593\n"
          ]
        },
        {
          "output_type": "stream",
          "name": "stderr",
          "text": [
            "/usr/local/lib/python3.10/dist-packages/sklearn/metrics/_classification.py:1344: UndefinedMetricWarning: Recall is ill-defined and being set to 0.0 in labels with no true samples. Use `zero_division` parameter to control this behavior.\n",
            "  _warn_prf(average, modifier, msg_start, len(result))\n"
          ]
        },
        {
          "output_type": "stream",
          "name": "stdout",
          "text": [
            "Epoch 53, Avg. Loss (All Files): 0.18\n",
            "\n",
            "Epoch: 53\n",
            "Precision: 0.9000, Recall: 0.8667, F1 Score: 0.8593\n"
          ]
        },
        {
          "output_type": "stream",
          "name": "stderr",
          "text": [
            "/usr/local/lib/python3.10/dist-packages/sklearn/metrics/_classification.py:1344: UndefinedMetricWarning: Recall is ill-defined and being set to 0.0 in labels with no true samples. Use `zero_division` parameter to control this behavior.\n",
            "  _warn_prf(average, modifier, msg_start, len(result))\n"
          ]
        },
        {
          "output_type": "stream",
          "name": "stdout",
          "text": [
            "Epoch 54, Avg. Loss (All Files): 0.16\n"
          ]
        },
        {
          "output_type": "stream",
          "name": "stderr",
          "text": [
            "/usr/local/lib/python3.10/dist-packages/sklearn/metrics/_classification.py:1344: UndefinedMetricWarning: Recall is ill-defined and being set to 0.0 in labels with no true samples. Use `zero_division` parameter to control this behavior.\n",
            "  _warn_prf(average, modifier, msg_start, len(result))\n"
          ]
        },
        {
          "output_type": "stream",
          "name": "stdout",
          "text": [
            "\n",
            "Epoch: 54\n",
            "Precision: 0.9000, Recall: 0.8667, F1 Score: 0.8593\n",
            "Epoch 55, Avg. Loss (All Files): 0.23\n"
          ]
        },
        {
          "output_type": "stream",
          "name": "stderr",
          "text": [
            "/usr/local/lib/python3.10/dist-packages/sklearn/metrics/_classification.py:1344: UndefinedMetricWarning: Recall is ill-defined and being set to 0.0 in labels with no true samples. Use `zero_division` parameter to control this behavior.\n",
            "  _warn_prf(average, modifier, msg_start, len(result))\n",
            "/usr/local/lib/python3.10/dist-packages/sklearn/metrics/_classification.py:1344: UndefinedMetricWarning: Recall is ill-defined and being set to 0.0 in labels with no true samples. Use `zero_division` parameter to control this behavior.\n",
            "  _warn_prf(average, modifier, msg_start, len(result))\n"
          ]
        },
        {
          "output_type": "stream",
          "name": "stdout",
          "text": [
            "\n",
            "Epoch: 55\n",
            "Precision: 0.8556, Recall: 0.8000, F1 Score: 0.7926\n",
            "Epoch 56, Avg. Loss (All Files): 0.09\n",
            "\n",
            "Epoch: 56\n",
            "Precision: 0.8556, Recall: 0.8000, F1 Score: 0.7926\n"
          ]
        },
        {
          "output_type": "stream",
          "name": "stderr",
          "text": [
            "/usr/local/lib/python3.10/dist-packages/sklearn/metrics/_classification.py:1344: UndefinedMetricWarning: Recall is ill-defined and being set to 0.0 in labels with no true samples. Use `zero_division` parameter to control this behavior.\n",
            "  _warn_prf(average, modifier, msg_start, len(result))\n",
            "/usr/local/lib/python3.10/dist-packages/sklearn/metrics/_classification.py:1344: UndefinedMetricWarning: Recall is ill-defined and being set to 0.0 in labels with no true samples. Use `zero_division` parameter to control this behavior.\n",
            "  _warn_prf(average, modifier, msg_start, len(result))\n"
          ]
        },
        {
          "output_type": "stream",
          "name": "stdout",
          "text": [
            "Epoch 57, Avg. Loss (All Files): 0.16\n",
            "\n",
            "Epoch: 57\n",
            "Precision: 0.8556, Recall: 0.8000, F1 Score: 0.7926\n"
          ]
        },
        {
          "output_type": "stream",
          "name": "stderr",
          "text": [
            "/usr/local/lib/python3.10/dist-packages/sklearn/metrics/_classification.py:1344: UndefinedMetricWarning: Recall is ill-defined and being set to 0.0 in labels with no true samples. Use `zero_division` parameter to control this behavior.\n",
            "  _warn_prf(average, modifier, msg_start, len(result))\n",
            "/usr/local/lib/python3.10/dist-packages/sklearn/metrics/_classification.py:1344: UndefinedMetricWarning: Recall is ill-defined and being set to 0.0 in labels with no true samples. Use `zero_division` parameter to control this behavior.\n",
            "  _warn_prf(average, modifier, msg_start, len(result))\n"
          ]
        },
        {
          "output_type": "stream",
          "name": "stdout",
          "text": [
            "Epoch 58, Avg. Loss (All Files): 0.38\n",
            "\n",
            "Epoch: 58\n",
            "Precision: 0.8556, Recall: 0.8000, F1 Score: 0.7926\n"
          ]
        },
        {
          "output_type": "stream",
          "name": "stderr",
          "text": [
            "/usr/local/lib/python3.10/dist-packages/sklearn/metrics/_classification.py:1344: UndefinedMetricWarning: Recall is ill-defined and being set to 0.0 in labels with no true samples. Use `zero_division` parameter to control this behavior.\n",
            "  _warn_prf(average, modifier, msg_start, len(result))\n",
            "/usr/local/lib/python3.10/dist-packages/sklearn/metrics/_classification.py:1344: UndefinedMetricWarning: Recall is ill-defined and being set to 0.0 in labels with no true samples. Use `zero_division` parameter to control this behavior.\n",
            "  _warn_prf(average, modifier, msg_start, len(result))\n"
          ]
        },
        {
          "output_type": "stream",
          "name": "stdout",
          "text": [
            "Epoch 59, Avg. Loss (All Files): 0.09\n",
            "\n",
            "Epoch: 59\n",
            "Precision: 0.9000, Recall: 0.8667, F1 Score: 0.8593\n"
          ]
        },
        {
          "output_type": "stream",
          "name": "stderr",
          "text": [
            "/usr/local/lib/python3.10/dist-packages/sklearn/metrics/_classification.py:1344: UndefinedMetricWarning: Recall is ill-defined and being set to 0.0 in labels with no true samples. Use `zero_division` parameter to control this behavior.\n",
            "  _warn_prf(average, modifier, msg_start, len(result))\n"
          ]
        },
        {
          "output_type": "stream",
          "name": "stdout",
          "text": [
            "Epoch 60, Avg. Loss (All Files): 0.08\n",
            "\n",
            "Epoch: 60\n",
            "Precision: 0.9000, Recall: 0.8667, F1 Score: 0.8593\n"
          ]
        },
        {
          "output_type": "stream",
          "name": "stderr",
          "text": [
            "/usr/local/lib/python3.10/dist-packages/sklearn/metrics/_classification.py:1344: UndefinedMetricWarning: Recall is ill-defined and being set to 0.0 in labels with no true samples. Use `zero_division` parameter to control this behavior.\n",
            "  _warn_prf(average, modifier, msg_start, len(result))\n"
          ]
        }
      ]
    },
    {
      "cell_type": "code",
      "source": [
        "# Visualize the curves\n",
        "plt.figure(figsize=(10, 6))\n",
        "\n",
        "# Plot precision curve\n",
        "plt.plot(epoch_list, precision_scores, label='Precision', marker='o')\n",
        "\n",
        "# Plot recall curve\n",
        "plt.plot(epoch_list, recall_scores, label='Recall', marker='o')\n",
        "\n",
        "# Plot F1 score curve\n",
        "plt.plot(epoch_list, f1_scores, label='F1 Score', marker='o')\n",
        "\n",
        "plt.xlabel('Epoch')\n",
        "plt.ylabel('Score')\n",
        "plt.title('Variation in Precision, Recall, and F1 Score Across Epochs')\n",
        "plt.legend()\n",
        "plt.show()\n"
      ],
      "metadata": {
        "colab": {
          "base_uri": "https://localhost:8080/",
          "height": 564
        },
        "id": "OrORCoplU09J",
        "outputId": "6ef72ac5-9f86-45d1-928c-959af24761b2"
      },
      "execution_count": null,
      "outputs": [
        {
          "output_type": "display_data",
          "data": {
            "text/plain": [
              "<Figure size 1000x600 with 1 Axes>"
            ],
            "image/png": "[encoded data removed]"
          },
          "metadata": {}
        }
      ]
    }
  ]
}